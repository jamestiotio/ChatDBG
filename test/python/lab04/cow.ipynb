{
 "cells": [
  {
   "cell_type": "code",
   "execution_count": 1,
   "id": "e8e87214-5f65-4dbd-9c25-289afc36a622",
   "metadata": {},
   "outputs": [],
   "source": [
    "import sys"
   ]
  },
  {
   "cell_type": "code",
   "execution_count": 2,
   "id": "43d03ff8-0a91-4a32-9f68-8969e65b39a8",
   "metadata": {},
   "outputs": [],
   "source": [
    "x = 3"
   ]
  },
  {
   "cell_type": "code",
   "execution_count": 3,
   "id": "4cfc5a2e-6f54-4e52-a9ad-e17b89ed96c1",
   "metadata": {},
   "outputs": [],
   "source": [
    "z = 3"
   ]
  },
  {
   "cell_type": "code",
   "execution_count": null,
   "id": "82d6061d-f6ea-44e7-9659-6f7870acae54",
   "metadata": {},
   "outputs": [],
   "source": []
  },
  {
   "cell_type": "code",
   "execution_count": 4,
   "id": "8b84e8f3-d1dc-4a48-a9eb-d38a277de968",
   "metadata": {},
   "outputs": [],
   "source": [
    "from ipyflow import singletons   \n",
    "from ipyflow import cells \n",
    "from ipyflow import code\n",
    "\n",
    "def moo(frame):\n",
    "    print(frame)\n",
    "    pos, x = singletons.flow().get_position(frame)\n",
    "    print(pos, x)\n",
    "    cell = cells().at_counter(pos)\n",
    "    print(cell)\n",
    "    print(set(list(cell.used_symbols)))\n",
    "    for _x in set(list(cell.used_symbols)):\n",
    "        result = f\"\\nThe code with the error uses the variable '{_x}', which was computed like this:\\n\"\n",
    "        result = result + str(code(_x)) + '\\n'\n",
    "        print(result)\n"
   ]
  },
  {
   "cell_type": "code",
   "execution_count": 5,
   "id": "76d37f4a-a308-4ca3-bc96-eb3cddb11762",
   "metadata": {},
   "outputs": [
    {
     "name": "stdout",
     "output_type": "stream",
     "text": [
      "<frame at 0x1183b0300, file '/var/folders/hg/75dgl5gs1bj7vl_fv36njtvw000_1x/T/ipykernel_35374/1653286483.py', line 1, code <module>>\n",
      "5 1\n",
      "y = 2 + x\n",
      "\n",
      "frame = sys._getframe()\n",
      "moo(frame)\n",
      "{<sys>, <moo>, <x>, <cells>, <code>, <singletons>, <sys>, <ipyflow.singletons>}\n",
      "\n",
      "The code with the error uses the variable 'sys', which was computed like this:\n",
      "# Cell 4\n",
      "from ipyflow import singletons\n",
      "from ipyflow import cells\n",
      "from ipyflow import code\n",
      "\n",
      "\n",
      "def moo(frame):\n",
      "    print(frame)\n",
      "    pos, x = singletons.flow().get_position(frame)\n",
      "    print(pos, x)\n",
      "    cell = cells().at_counter(pos)\n",
      "    print(cell)\n",
      "    print(set(list(cell.used_symbols)))\n",
      "    for _x in set(list(cell.used_symbols)):\n",
      "        result = f\"\\nThe code with the error uses the variable '{_x}', which was computed like this:\\n\"\n",
      "        result = result + str(code(_x)) + \"\\n\"\n",
      "        print(result)\n",
      "\n",
      "# Cell 5\n",
      "moo(frame)\n",
      "\n",
      "\n",
      "The code with the error uses the variable 'moo', which was computed like this:\n",
      "# Cell 4\n",
      "def moo(frame):\n",
      "    print(frame)\n",
      "    pos, x = singletons.flow().get_position(frame)\n",
      "    print(pos, x)\n",
      "    cell = cells().at_counter(pos)\n",
      "    print(cell)\n",
      "    print(set(list(cell.used_symbols)))\n",
      "    for _x in set(list(cell.used_symbols)):\n",
      "        result = f\"\\nThe code with the error uses the variable '{_x}', which was computed like this:\\n\"\n",
      "        result = result + str(code(_x)) + \"\\n\"\n",
      "        print(result)\n",
      "\n",
      "\n",
      "The code with the error uses the variable 'x', which was computed like this:\n",
      "# Cell 2\n",
      "x = 3\n",
      "\n",
      "\n",
      "The code with the error uses the variable 'cells', which was computed like this:\n",
      "# Cell 4\n",
      "from ipyflow import cells\n",
      "\n",
      "\n",
      "The code with the error uses the variable 'code', which was computed like this:\n",
      "# Cell 4\n",
      "from ipyflow import code\n",
      "\n",
      "\n",
      "The code with the error uses the variable 'singletons', which was computed like this:\n",
      "# Cell 4\n",
      "from ipyflow import singletons\n",
      "\n",
      "\n",
      "The code with the error uses the variable 'sys', which was computed like this:\n",
      "# Cell 1\n",
      "import sys\n",
      "\n",
      "\n",
      "The code with the error uses the variable 'ipyflow.singletons', which was computed like this:\n",
      "# Cell 4\n",
      "from ipyflow import singletons\n",
      "\n"
     ]
    }
   ],
   "source": [
    "y = 2 + x\n",
    "\n",
    "frame = sys._getframe()\n",
    "moo(frame)"
   ]
  },
  {
   "cell_type": "code",
   "execution_count": 6,
   "id": "419c9b38-d094-46f8-bccc-8a3bfd70f4a7",
   "metadata": {},
   "outputs": [],
   "source": [
    "from ipyflow import code"
   ]
  },
  {
   "cell_type": "code",
   "execution_count": 7,
   "id": "39b652f9-5f2a-4002-8a36-eff1ac0e6a93",
   "metadata": {},
   "outputs": [
    {
     "data": {
      "application/vnd.jupyter.widget-view+json": {
       "model_id": "54bef8d1504149a6a64d31376df342f7",
       "version_major": 2,
       "version_minor": 0
      },
      "text/plain": [
       "HTML(value='\\n<div class=\"lm-Widget p-Widget jp-RenderedText jp-OutputArea-output\">\\n<pre>\\n<a href=\"javascrip…"
      ]
     },
     "execution_count": 7,
     "metadata": {},
     "output_type": "execute_result"
    }
   ],
   "source": [
    "code(y)"
   ]
  },
  {
   "cell_type": "code",
   "execution_count": null,
   "id": "d984f799-0fb9-40f8-a19c-12bfaf64c840",
   "metadata": {},
   "outputs": [],
   "source": []
  }
 ],
 "metadata": {
  "ipyflow": {
   "cell_children": {
    "23de1eb9-8d38-4b76-b4f5-021be5cd690e": [],
    "39b652f9-5f2a-4002-8a36-eff1ac0e6a93": [],
    "419c9b38-d094-46f8-bccc-8a3bfd70f4a7": [
     "39b652f9-5f2a-4002-8a36-eff1ac0e6a93"
    ],
    "43d03ff8-0a91-4a32-9f68-8969e65b39a8": [
     "76d37f4a-a308-4ca3-bc96-eb3cddb11762"
    ],
    "4cfc5a2e-6f54-4e52-a9ad-e17b89ed96c1": [],
    "76d37f4a-a308-4ca3-bc96-eb3cddb11762": [
     "39b652f9-5f2a-4002-8a36-eff1ac0e6a93"
    ],
    "82d6061d-f6ea-44e7-9659-6f7870acae54": [],
    "8b84e8f3-d1dc-4a48-a9eb-d38a277de968": [
     "76d37f4a-a308-4ca3-bc96-eb3cddb11762"
    ],
    "c35282e3-1b23-4d70-9547-685cd5c22c51": [],
    "d984f799-0fb9-40f8-a19c-12bfaf64c840": [],
    "e8e87214-5f65-4dbd-9c25-289afc36a622": [
     "76d37f4a-a308-4ca3-bc96-eb3cddb11762"
    ],
    "f23fccd6-58e9-4131-94a9-42c6fca0c580": []
   },
   "cell_parents": {
    "23de1eb9-8d38-4b76-b4f5-021be5cd690e": [],
    "39b652f9-5f2a-4002-8a36-eff1ac0e6a93": [
     "76d37f4a-a308-4ca3-bc96-eb3cddb11762",
     "419c9b38-d094-46f8-bccc-8a3bfd70f4a7"
    ],
    "419c9b38-d094-46f8-bccc-8a3bfd70f4a7": [],
    "43d03ff8-0a91-4a32-9f68-8969e65b39a8": [],
    "4cfc5a2e-6f54-4e52-a9ad-e17b89ed96c1": [],
    "76d37f4a-a308-4ca3-bc96-eb3cddb11762": [
     "e8e87214-5f65-4dbd-9c25-289afc36a622",
     "43d03ff8-0a91-4a32-9f68-8969e65b39a8",
     "8b84e8f3-d1dc-4a48-a9eb-d38a277de968"
    ],
    "82d6061d-f6ea-44e7-9659-6f7870acae54": [],
    "8b84e8f3-d1dc-4a48-a9eb-d38a277de968": [],
    "c35282e3-1b23-4d70-9547-685cd5c22c51": [
     "43d03ff8-0a91-4a32-9f68-8969e65b39a8",
     "e8e87214-5f65-4dbd-9c25-289afc36a622"
    ],
    "d984f799-0fb9-40f8-a19c-12bfaf64c840": [],
    "e8e87214-5f65-4dbd-9c25-289afc36a622": [],
    "f23fccd6-58e9-4131-94a9-42c6fca0c580": []
   }
  },
  "kernelspec": {
   "display_name": "Python 3 (ipyflow)",
   "language": "python",
   "name": "ipyflow"
  },
  "language_info": {
   "codemirror_mode": {
    "name": "ipython",
    "version": 3
   },
   "file_extension": ".py",
   "mimetype": "text/x-python",
   "name": "python",
   "nbconvert_exporter": "python",
   "pygments_lexer": "ipython3",
   "version": "3.11.7"
  }
 },
 "nbformat": 4,
 "nbformat_minor": 5
}
