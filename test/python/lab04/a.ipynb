{
 "cells": [
  {
   "cell_type": "code",
   "execution_count": 1,
   "id": "e8e87214-5f65-4dbd-9c25-289afc36a622",
   "metadata": {
    "execution": {
     "iopub.execute_input": "2024-02-19T01:10:36.799486Z",
     "iopub.status.busy": "2024-02-19T01:10:36.799033Z",
     "iopub.status.idle": "2024-02-19T01:10:36.816511Z",
     "shell.execute_reply": "2024-02-19T01:10:36.816048Z"
    },
    "papermill": {
     "duration": 0.022169,
     "end_time": "2024-02-19T01:10:36.818228",
     "exception": false,
     "start_time": "2024-02-19T01:10:36.796059",
     "status": "completed"
    },
    "tags": []
   },
   "outputs": [],
   "source": [
    "import sys"
   ]
  },
  {
   "cell_type": "code",
   "execution_count": 2,
   "id": "43d03ff8-0a91-4a32-9f68-8969e65b39a8",
   "metadata": {
    "execution": {
     "iopub.execute_input": "2024-02-19T01:10:36.822067Z",
     "iopub.status.busy": "2024-02-19T01:10:36.821833Z",
     "iopub.status.idle": "2024-02-19T01:10:36.835448Z",
     "shell.execute_reply": "2024-02-19T01:10:36.834872Z"
    },
    "papermill": {
     "duration": 0.017203,
     "end_time": "2024-02-19T01:10:36.837042",
     "exception": false,
     "start_time": "2024-02-19T01:10:36.819839",
     "status": "completed"
    },
    "tags": []
   },
   "outputs": [],
   "source": [
    "x = 3"
   ]
  },
  {
   "cell_type": "code",
   "execution_count": 3,
   "id": "4cfc5a2e-6f54-4e52-a9ad-e17b89ed96c1",
   "metadata": {
    "execution": {
     "iopub.execute_input": "2024-02-19T01:10:36.842010Z",
     "iopub.status.busy": "2024-02-19T01:10:36.841648Z",
     "iopub.status.idle": "2024-02-19T01:10:36.855945Z",
     "shell.execute_reply": "2024-02-19T01:10:36.855082Z"
    },
    "papermill": {
     "duration": 0.020683,
     "end_time": "2024-02-19T01:10:36.859306",
     "exception": false,
     "start_time": "2024-02-19T01:10:36.838623",
     "status": "completed"
    },
    "tags": []
   },
   "outputs": [],
   "source": [
    "z = 3"
   ]
  },
  {
   "cell_type": "code",
   "execution_count": null,
   "id": "82d6061d-f6ea-44e7-9659-6f7870acae54",
   "metadata": {
    "papermill": {
     "duration": 0.001488,
     "end_time": "2024-02-19T01:10:36.863079",
     "exception": false,
     "start_time": "2024-02-19T01:10:36.861591",
     "status": "completed"
    },
    "tags": []
   },
   "outputs": [],
   "source": []
  },
  {
   "cell_type": "code",
   "execution_count": 4,
   "id": "8b84e8f3-d1dc-4a48-a9eb-d38a277de968",
   "metadata": {
    "execution": {
     "iopub.execute_input": "2024-02-19T01:10:36.867168Z",
     "iopub.status.busy": "2024-02-19T01:10:36.866943Z",
     "iopub.status.idle": "2024-02-19T01:10:37.037953Z",
     "shell.execute_reply": "2024-02-19T01:10:37.037481Z"
    },
    "papermill": {
     "duration": 0.175327,
     "end_time": "2024-02-19T01:10:37.039854",
     "exception": false,
     "start_time": "2024-02-19T01:10:36.864527",
     "status": "completed"
    },
    "tags": []
   },
   "outputs": [],
   "source": [
    "from ipyflow import singletons   \n",
    "from ipyflow import cells \n",
    "from ipyflow import code\n",
    "\n",
    "def moo(frame):\n",
    "    print(frame)\n",
    "    pos, x = singletons.flow().get_position(frame)\n",
    "    print(pos, x)\n",
    "    cell = cells().at_counter(pos)\n",
    "    print(cell)\n",
    "    print(set(list(cell.used_symbols)))\n",
    "    for _x in set(list(cell.used_symbols)):\n",
    "        result = f\"\\nThe code with the error uses the variable '{_x}', which was computed like this:\\n\"\n",
    "        result = result + str(code(_x)) + '\\n'\n",
    "        print(result)\n"
   ]
  },
  {
   "cell_type": "code",
   "execution_count": 5,
   "id": "76d37f4a-a308-4ca3-bc96-eb3cddb11762",
   "metadata": {
    "execution": {
     "iopub.execute_input": "2024-02-19T01:10:37.043694Z",
     "iopub.status.busy": "2024-02-19T01:10:37.043471Z",
     "iopub.status.idle": "2024-02-19T01:10:37.146336Z",
     "shell.execute_reply": "2024-02-19T01:10:37.145894Z"
    },
    "papermill": {
     "duration": 0.107067,
     "end_time": "2024-02-19T01:10:37.148547",
     "exception": false,
     "start_time": "2024-02-19T01:10:37.041480",
     "status": "completed"
    },
    "tags": []
   },
   "outputs": [
    {
     "name": "stdout",
     "output_type": "stream",
     "text": [
      "<frame at 0x112c24460, file '/var/folders/hg/75dgl5gs1bj7vl_fv36njtvw000_1x/T/ipykernel_26109/1653286483.py', line 1, code <module>>\n",
      "5 1\n",
      "y = 2 + x\n",
      "\n",
      "frame = sys._getframe()\n",
      "moo(frame)\n",
      "{<sys>, <moo>, <x>, <singletons>, <cells>, <code>, <sys>, <ipyflow.singletons>}\n",
      "\n",
      "The code with the error uses the variable 'sys', which was computed like this:\n",
      "# Cell 4\n",
      "from ipyflow import singletons\n",
      "from ipyflow import cells\n",
      "from ipyflow import code\n",
      "\n",
      "\n",
      "def moo(frame):\n",
      "    print(frame)\n",
      "    pos, x = singletons.flow().get_position(frame)\n",
      "    print(pos, x)\n",
      "    cell = cells().at_counter(pos)\n",
      "    print(cell)\n",
      "    print(set(list(cell.used_symbols)))\n",
      "    for _x in set(list(cell.used_symbols)):\n",
      "        result = f\"\\nThe code with the error uses the variable '{_x}', which was computed like this:\\n\"\n",
      "        result = result + str(code(_x)) + \"\\n\"\n",
      "        print(result)\n",
      "\n",
      "# Cell 5\n",
      "moo(frame)\n",
      "\n",
      "\n",
      "The code with the error uses the variable 'moo', which was computed like this:\n",
      "# Cell 4\n",
      "def moo(frame):\n",
      "    print(frame)\n",
      "    pos, x = singletons.flow().get_position(frame)\n",
      "    print(pos, x)\n",
      "    cell = cells().at_counter(pos)\n",
      "    print(cell)\n",
      "    print(set(list(cell.used_symbols)))\n",
      "    for _x in set(list(cell.used_symbols)):\n",
      "        result = f\"\\nThe code with the error uses the variable '{_x}', which was computed like this:\\n\"\n",
      "        result = result + str(code(_x)) + \"\\n\"\n",
      "        print(result)\n",
      "\n",
      "\n",
      "The code with the error uses the variable 'x', which was computed like this:\n",
      "# Cell 2\n",
      "x = 3\n",
      "\n",
      "\n",
      "The code with the error uses the variable 'singletons', which was computed like this:\n",
      "# Cell 4\n",
      "from ipyflow import singletons\n",
      "\n",
      "\n",
      "The code with the error uses the variable 'cells', which was computed like this:\n",
      "# Cell 4\n",
      "from ipyflow import cells\n",
      "\n",
      "\n",
      "The code with the error uses the variable 'code', which was computed like this:\n",
      "# Cell 4\n",
      "from ipyflow import code\n",
      "\n",
      "\n",
      "The code with the error uses the variable 'sys', which was computed like this:\n",
      "# Cell 1\n",
      "import sys\n",
      "\n",
      "\n",
      "The code with the error uses the variable 'ipyflow.singletons', which was computed like this:\n",
      "# Cell 4\n",
      "from ipyflow import singletons\n",
      "\n"
     ]
    }
   ],
   "source": [
    "y = 2 + x\n",
    "\n",
    "frame = sys._getframe()\n",
    "moo(frame)"
   ]
  },
  {
   "cell_type": "code",
   "execution_count": 6,
   "id": "419c9b38-d094-46f8-bccc-8a3bfd70f4a7",
   "metadata": {
    "execution": {
     "iopub.execute_input": "2024-02-19T01:10:37.153076Z",
     "iopub.status.busy": "2024-02-19T01:10:37.152810Z",
     "iopub.status.idle": "2024-02-19T01:10:37.164896Z",
     "shell.execute_reply": "2024-02-19T01:10:37.164387Z"
    },
    "papermill": {
     "duration": 0.015949,
     "end_time": "2024-02-19T01:10:37.166254",
     "exception": false,
     "start_time": "2024-02-19T01:10:37.150305",
     "status": "completed"
    },
    "tags": []
   },
   "outputs": [],
   "source": [
    "from ipyflow import code"
   ]
  },
  {
   "cell_type": "code",
   "execution_count": 7,
   "id": "39b652f9-5f2a-4002-8a36-eff1ac0e6a93",
   "metadata": {
    "execution": {
     "iopub.execute_input": "2024-02-19T01:10:37.170263Z",
     "iopub.status.busy": "2024-02-19T01:10:37.170073Z",
     "iopub.status.idle": "2024-02-19T01:10:37.202570Z",
     "shell.execute_reply": "2024-02-19T01:10:37.202092Z"
    },
    "papermill": {
     "duration": 0.036117,
     "end_time": "2024-02-19T01:10:37.204088",
     "exception": false,
     "start_time": "2024-02-19T01:10:37.167971",
     "status": "completed"
    },
    "tags": []
   },
   "outputs": [
    {
     "data": {
      "text/plain": [
       "# Cell 2\n",
       "x = 3\n",
       "\n",
       "# Cell 5\n",
       "y = 2 + x"
      ]
     },
     "execution_count": 7,
     "metadata": {},
     "output_type": "execute_result"
    }
   ],
   "source": [
    "code(y)"
   ]
  },
  {
   "cell_type": "code",
   "execution_count": null,
   "id": "d984f799-0fb9-40f8-a19c-12bfaf64c840",
   "metadata": {
    "papermill": {
     "duration": 0.002429,
     "end_time": "2024-02-19T01:10:37.208464",
     "exception": false,
     "start_time": "2024-02-19T01:10:37.206035",
     "status": "completed"
    },
    "tags": []
   },
   "outputs": [],
   "source": []
  }
 ],
 "metadata": {
  "ipyflow": {
   "cell_children": {
    "23de1eb9-8d38-4b76-b4f5-021be5cd690e": [],
    "39b652f9-5f2a-4002-8a36-eff1ac0e6a93": [],
    "419c9b38-d094-46f8-bccc-8a3bfd70f4a7": [
     "39b652f9-5f2a-4002-8a36-eff1ac0e6a93"
    ],
    "43d03ff8-0a91-4a32-9f68-8969e65b39a8": [
     "76d37f4a-a308-4ca3-bc96-eb3cddb11762"
    ],
    "4cfc5a2e-6f54-4e52-a9ad-e17b89ed96c1": [],
    "76d37f4a-a308-4ca3-bc96-eb3cddb11762": [
     "39b652f9-5f2a-4002-8a36-eff1ac0e6a93"
    ],
    "82d6061d-f6ea-44e7-9659-6f7870acae54": [],
    "8b84e8f3-d1dc-4a48-a9eb-d38a277de968": [
     "76d37f4a-a308-4ca3-bc96-eb3cddb11762"
    ],
    "c35282e3-1b23-4d70-9547-685cd5c22c51": [],
    "d984f799-0fb9-40f8-a19c-12bfaf64c840": [],
    "e8e87214-5f65-4dbd-9c25-289afc36a622": [
     "76d37f4a-a308-4ca3-bc96-eb3cddb11762"
    ],
    "f23fccd6-58e9-4131-94a9-42c6fca0c580": []
   },
   "cell_parents": {
    "23de1eb9-8d38-4b76-b4f5-021be5cd690e": [],
    "39b652f9-5f2a-4002-8a36-eff1ac0e6a93": [
     "76d37f4a-a308-4ca3-bc96-eb3cddb11762",
     "419c9b38-d094-46f8-bccc-8a3bfd70f4a7"
    ],
    "419c9b38-d094-46f8-bccc-8a3bfd70f4a7": [],
    "43d03ff8-0a91-4a32-9f68-8969e65b39a8": [],
    "4cfc5a2e-6f54-4e52-a9ad-e17b89ed96c1": [],
    "76d37f4a-a308-4ca3-bc96-eb3cddb11762": [
     "e8e87214-5f65-4dbd-9c25-289afc36a622",
     "8b84e8f3-d1dc-4a48-a9eb-d38a277de968",
     "43d03ff8-0a91-4a32-9f68-8969e65b39a8"
    ],
    "82d6061d-f6ea-44e7-9659-6f7870acae54": [],
    "8b84e8f3-d1dc-4a48-a9eb-d38a277de968": [],
    "c35282e3-1b23-4d70-9547-685cd5c22c51": [
     "43d03ff8-0a91-4a32-9f68-8969e65b39a8",
     "e8e87214-5f65-4dbd-9c25-289afc36a622"
    ],
    "d984f799-0fb9-40f8-a19c-12bfaf64c840": [],
    "e8e87214-5f65-4dbd-9c25-289afc36a622": [],
    "f23fccd6-58e9-4131-94a9-42c6fca0c580": []
   }
  },
  "kernelspec": {
   "display_name": "Python 3 (ipyflow)",
   "language": "python",
   "name": "ipyflow"
  },
  "language_info": {
   "codemirror_mode": {
    "name": "ipython",
    "version": 3
   },
   "file_extension": ".py",
   "mimetype": "text/x-python",
   "name": "python",
   "nbconvert_exporter": "python",
   "pygments_lexer": "ipython3",
   "version": "3.11.7"
  },
  "papermill": {
   "default_parameters": {},
   "duration": 2.129093,
   "end_time": "2024-02-19T01:10:37.332713",
   "environment_variables": {},
   "exception": null,
   "input_path": "cow.ipynb",
   "output_path": "a.ipynb",
   "parameters": {},
   "start_time": "2024-02-19T01:10:35.203620",
   "version": "2.5.0"
  }
 },
 "nbformat": 4,
 "nbformat_minor": 5
}