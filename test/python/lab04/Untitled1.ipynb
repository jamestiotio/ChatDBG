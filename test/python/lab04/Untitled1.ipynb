{
 "cells": [
  {
   "cell_type": "code",
   "execution_count": null,
   "id": "e93b0742-76ed-4f19-99de-15418af1ecb8",
   "metadata": {},
   "outputs": [],
   "source": [
    "\n"
   ]
  },
  {
   "cell_type": "code",
   "execution_count": null,
   "id": "f9aa4f57-c5ca-40b2-809e-e0f4accb62ee",
   "metadata": {},
   "outputs": [],
   "source": [
    "x = 2"
   ]
  },
  {
   "cell_type": "code",
   "execution_count": null,
   "id": "9551937b-6b8c-4aea-9678-80e5e01fd5c4",
   "metadata": {},
   "outputs": [],
   "source": [
    "y = x / 0"
   ]
  },
  {
   "cell_type": "code",
   "execution_count": 4,
   "id": "40391cc0-39d0-4f2c-872b-029bc9b0eb94",
   "metadata": {},
   "outputs": [
    {
     "name": "stdout",
     "output_type": "stream",
     "text": [
      "Automatic pdb calling has been turned ON\n"
     ]
    }
   ],
   "source": [
    "%pdb"
   ]
  },
  {
   "cell_type": "code",
   "execution_count": 9,
   "id": "67808f45-bef1-4fd1-8260-37f52ff3d6fb",
   "metadata": {},
   "outputs": [
    {
     "data": {
      "text/plain": [
       "{'_trait_values': {'default_style': 'LightBG',\n",
       "  'parent': <ipyflow.shell.zmqshell.IPyflowZMQInteractiveShell at 0x10e999e90>,\n",
       "  'config': {'IPKernelApp': {'connection_file': '/Users/freund/Library/Jupyter/runtime/kernel-7ad044f5-c448-44be-9148-0a13682d069f.json'},\n",
       "   'InteractiveShellApp': {'extensions': ['ipyflow']},\n",
       "   'ipyflow': <LazyConfigValue {}>}},\n",
       " '_trait_notifiers': {'config': {'change': [<traitlets.traitlets.ObserveHandler at 0x10ca53710>]},\n",
       "  traitlets.All: {'change': []}},\n",
       " '_trait_validators': {},\n",
       " '_cross_validation_lock': False,\n",
       " 'valid_modes': ['Plain', 'Context', 'Verbose', 'Minimal'],\n",
       " 'verbose_modes': ['Context', 'Verbose'],\n",
       " 'call_pdb': True,\n",
       " '_ostream': None,\n",
       " 'color_scheme_table': {'NoColor': <IPython.utils.coloransi.ColorScheme at 0x10ecac7d0>,\n",
       "  'Linux': <IPython.utils.coloransi.ColorScheme at 0x10e8be150>,\n",
       "  'LightBG': <IPython.utils.coloransi.ColorScheme at 0x10e8be210>,\n",
       "  'Neutral': <IPython.utils.coloransi.ColorScheme at 0x10e8bd650>,\n",
       "  '': <IPython.utils.coloransi.ColorScheme at 0x10e8bd650>},\n",
       " 'Colors': {'topline': '\\x1b[0;31m',\n",
       "  'filename': '\\x1b[1;32m',\n",
       "  'lineno': '\\x1b[1;32m',\n",
       "  'name': '\\x1b[1;35m',\n",
       "  'vName': '\\x1b[0;36m',\n",
       "  'val': '\\x1b[1;32m',\n",
       "  'em': '\\x1b[0;36m',\n",
       "  'normalEm': '\\x1b[0;36m',\n",
       "  'filenameEm': '\\x1b[0;32m',\n",
       "  'linenoEm': '\\x1b[0;32m',\n",
       "  'nameEm': '\\x1b[0;35m',\n",
       "  'valEm': '\\x1b[0;34m',\n",
       "  'excName': '\\x1b[0;31m',\n",
       "  'line': '\\x1b[0;31m',\n",
       "  'caret': '\\x1b[0m',\n",
       "  'Normal': '\\x1b[0m'},\n",
       " 'old_scheme': 'NoColor',\n",
       " 'debugger_cls': IPython.core.debugger.InterruptiblePdb,\n",
       " 'pdb': <IPython.core.debugger.InterruptiblePdb at 0x10ff2ded0>,\n",
       " 'tb_offset': 1,\n",
       " 'long_header': False,\n",
       " 'include_vars': False,\n",
       " 'check_cache': <function linecache.checkcache(filename=None)>,\n",
       " 'skip_hidden': True,\n",
       " '_join_chars': {'Plain': '', 'Context': '\\n', 'Verbose': '\\n', 'Minimal': ''},\n",
       " 'mode': 'Context',\n",
       " 'tb_join_char': '\\n'}"
      ]
     },
     "execution_count": 9,
     "metadata": {},
     "output_type": "execute_result"
    }
   ],
   "source": [
    "get_ipython().InteractiveTB.__dict__"
   ]
  },
  {
   "cell_type": "code",
   "execution_count": null,
   "id": "0e559215-ef1f-46a0-921a-0c65f04e4396",
   "metadata": {},
   "outputs": [],
   "source": []
  }
 ],
 "metadata": {
  "ipyflow": {
   "cell_children": {
    "0e559215-ef1f-46a0-921a-0c65f04e4396": [],
    "40391cc0-39d0-4f2c-872b-029bc9b0eb94": [],
    "67808f45-bef1-4fd1-8260-37f52ff3d6fb": [],
    "9551937b-6b8c-4aea-9678-80e5e01fd5c4": [],
    "e93b0742-76ed-4f19-99de-15418af1ecb8": [],
    "f9aa4f57-c5ca-40b2-809e-e0f4accb62ee": [
     "9551937b-6b8c-4aea-9678-80e5e01fd5c4"
    ]
   },
   "cell_parents": {
    "0e559215-ef1f-46a0-921a-0c65f04e4396": [],
    "40391cc0-39d0-4f2c-872b-029bc9b0eb94": [],
    "67808f45-bef1-4fd1-8260-37f52ff3d6fb": [],
    "9551937b-6b8c-4aea-9678-80e5e01fd5c4": [
     "f9aa4f57-c5ca-40b2-809e-e0f4accb62ee"
    ],
    "e93b0742-76ed-4f19-99de-15418af1ecb8": [],
    "f9aa4f57-c5ca-40b2-809e-e0f4accb62ee": []
   }
  },
  "kernelspec": {
   "display_name": "Python 3 (ipykernel)",
   "language": "python",
   "name": "python3"
  },
  "language_info": {
   "codemirror_mode": {
    "name": "ipython",
    "version": 3
   },
   "file_extension": ".py",
   "mimetype": "text/x-python",
   "name": "python",
   "nbconvert_exporter": "python",
   "pygments_lexer": "ipython3",
   "version": "3.11.7"
  }
 },
 "nbformat": 4,
 "nbformat_minor": 5
}
