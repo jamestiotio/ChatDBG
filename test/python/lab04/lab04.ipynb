{
 "cells": [
  {
   "cell_type": "raw",
   "id": "8b43765e",
   "metadata": {},
   "source": [
    "# ASSIGNMENT CONFIG\n",
    "solutions_pdf: true\n",
    "template_pdf: true    # set to False if *no* manual grading, True if there is.\n",
    "export_cell:\n",
    "    run_tests: true\n",
    "    pdf: true\n",
    "python_version: 3.9\n",
    "overwrite_requirements: true    \n",
    "requirements: $requirements\n",
    "generate: \n",
    "    show_hidden: true\n",
    "    pdf: true\n",
    "    filtering: true\n",
    "    zips: false\n",
    "    points: 5                        # Every question is worth 5 points, divided among the tests evenly\n",
    "    pagebreaks: true        \n",
    "    course_id:     $course_id \n",
    "    assignment_id: $lab4_manual\n",
    "    pagebreaks: true\n",
    "files:\n",
    "    - burrito.csv\n",
    "    - burritos_types.csv\n",
    "    - ratings.csv\n",
    "    - penguins.csv\n",
    "    - boston-earnings.csv\n",
    "    - galton.csv\n",
    "    - vdem-clean.csv"
   ]
  },
  {
   "cell_type": "raw",
   "id": "4162fb00-88ea-4ee2-890a-74bda9cdf307",
   "metadata": {},
   "source": [
    "# masthead"
   ]
  },
  {
   "cell_type": "markdown",
   "id": "85cdc0cc",
   "metadata": {},
   "source": [
    "# Lab 4: Functions, Tables, and Groups"
   ]
  },
  {
   "cell_type": "raw",
   "id": "2b3063f0-cf9b-46c7-abf5-21af2d9f630a",
   "metadata": {
    "tags": []
   },
   "source": [
    "# instructions"
   ]
  },
  {
   "cell_type": "code",
   "execution_count": 1,
   "id": "7a1a322e-ade2-41a1-95eb-d11193d791c5",
   "metadata": {
    "tags": []
   },
   "outputs": [],
   "source": [
    "# Run this cell to set up the notebook.\n",
    "# These lines import the numpy, datascience, and cs104 libraries.\n",
    "\n",
    "import numpy as np\n",
    "from datascience import *\n",
    "from cs104 import *\n",
    "from ipyflow import code\n",
    "%matplotlib inline"
   ]
  },
  {
   "cell_type": "code",
   "execution_count": 2,
   "id": "c30a8668-a16d-40b1-ae5e-e3c6b9382b45",
   "metadata": {
    "tags": []
   },
   "outputs": [
    {
     "name": "stdout",
     "output_type": "stream",
     "text": [
      "Automatic pdb calling has been turned ON\n"
     ]
    }
   ],
   "source": [
    "%pdb"
   ]
  },
  {
   "cell_type": "markdown",
   "id": "cd41b65d",
   "metadata": {},
   "source": [
    "## 1. San Diego Burritos"
   ]
  },
  {
   "cell_type": "markdown",
   "id": "7d7a8ebb",
   "metadata": {},
   "source": [
    "<font color='#B1008E'>\n",
    "    \n",
    "##### Learning objectives\n",
    "- Manipulate multiple tables via built-in table functions.\n",
    "- Analzye histogram and scatter plots."
   ]
  },
  {
   "cell_type": "markdown",
   "id": "54e77a33",
   "metadata": {},
   "source": [
    "We are trying find the best burritos in San Diego.  We have two comprehensive datasets on many burrito establishments in the San Diego area taken from (and cleaned from) [here](https://www.kaggle.com/srcole/burritos-in-san-diego/data)."
   ]
  },
  {
   "cell_type": "markdown",
   "id": "9f58be30",
   "metadata": {},
   "source": [
    "The following cell reads in a table called `ratings` which contains names of burrito restaurants, their Yelp rating, Google rating, as well as their Overall rating. The `Overall` rating is not an average of the `Yelp` and `Google` ratings, but rather it is the overall rating of the customers that were surveyed in the study above.\n",
    "\n",
    "It also reads in a table called `burritos_types` which contains names of burrito restaurants, their menu items, and the cost of the respective menu item at the restaurant."
   ]
  },
  {
   "cell_type": "code",
   "execution_count": 3,
   "id": "0a788b9e",
   "metadata": {
    "tags": []
   },
   "outputs": [
    {
     "data": {
      "text/html": [
       "<table border=\"1\" class=\"dataframe\">\n",
       "    <thead>\n",
       "        <tr>\n",
       "            <th>Name</th> <th>Yelp</th> <th>Google</th> <th>Overall</th>\n",
       "        </tr>\n",
       "    </thead>\n",
       "    <tbody>\n",
       "        <tr>\n",
       "            <td>Albertacos                </td> <td>3.5 </td> <td>3.9   </td> <td>3.45   </td>\n",
       "        </tr>\n",
       "        <tr>\n",
       "            <td>Burrito Factory           </td> <td>4.5 </td> <td>4.8   </td> <td>3.5    </td>\n",
       "        </tr>\n",
       "        <tr>\n",
       "            <td>Burros and Fries          </td> <td>3.5 </td> <td>4.1   </td> <td>3.575  </td>\n",
       "        </tr>\n",
       "        <tr>\n",
       "            <td>Caliente Mexican Food     </td> <td>3.5 </td> <td>4.4   </td> <td>3.25   </td>\n",
       "        </tr>\n",
       "        <tr>\n",
       "            <td>California Burrito Company</td> <td>3.5 </td> <td>4.4   </td> <td>3.2    </td>\n",
       "        </tr>\n",
       "    </tbody>\n",
       "</table>\n",
       "<p>... (77 rows omitted)</p>"
      ],
      "text/plain": [
       "<IPython.core.display.HTML object>"
      ]
     },
     "metadata": {},
     "output_type": "display_data"
    },
    {
     "data": {
      "text/html": [
       "<table border=\"1\" class=\"dataframe\">\n",
       "    <thead>\n",
       "        <tr>\n",
       "            <th>Name</th> <th>Menu_Item</th> <th>Cost</th>\n",
       "        </tr>\n",
       "    </thead>\n",
       "    <tbody>\n",
       "        <tr>\n",
       "            <td>Albertacos                                         </td> <td>California          </td> <td>5.7 </td>\n",
       "        </tr>\n",
       "        <tr>\n",
       "            <td>Albertacos                                         </td> <td>Carne asada         </td> <td>5.25</td>\n",
       "        </tr>\n",
       "        <tr>\n",
       "            <td>Alberto's 623 N Escondido Blvd, Escondido, CA 92025</td> <td>Carne Asada         </td> <td>4.59</td>\n",
       "        </tr>\n",
       "        <tr>\n",
       "            <td>Burrito Box                                        </td> <td>Steak with guacamole</td> <td>11.5</td>\n",
       "        </tr>\n",
       "        <tr>\n",
       "            <td>Burrito Factory                                    </td> <td>Steak everything    </td> <td>7.35</td>\n",
       "        </tr>\n",
       "    </tbody>\n",
       "</table>\n",
       "<p>... (244 rows omitted)</p>"
      ],
      "text/plain": [
       "<IPython.core.display.HTML object>"
      ]
     },
     "metadata": {},
     "output_type": "display_data"
    }
   ],
   "source": [
    "#Just run this cell\n",
    "ratings = Table.read_table(\"ratings.csv\")\n",
    "ratings.show(5)\n",
    "\n",
    "burritos_types = Table.read_table(\"burritos_types.csv\")\n",
    "burritos_types.show(5)"
   ]
  },
  {
   "cell_type": "raw",
   "id": "66c82485",
   "metadata": {},
   "source": [
    "# BQ"
   ]
  },
  {
   "cell_type": "markdown",
   "id": "919301b3",
   "metadata": {},
   "source": [
    "#### Part"
   ]
  },
  {
   "cell_type": "markdown",
   "id": "b5e9648e",
   "metadata": {},
   "source": [
    " It would be easier if we could combine the information in both tables. Assign `burritos` to the result of **join**ing the two tables together, so that we have a table with the ratings for every corresponding menu item from every restaurant. Each menu item has the same rating as the restaurant from which it is from. \n",
    "\n",
    "*Note:* It doesn't matter which table you put in as the argument to the [join](https://www.cs.williams.edu/~cs104/auto/python-library-ref.html#join) method, either order will work for the autograder tests."
   ]
  },
  {
   "cell_type": "raw",
   "id": "989feacc",
   "metadata": {},
   "source": [
    "# BS"
   ]
  },
  {
   "cell_type": "code",
   "execution_count": 4,
   "id": "065cc0a1",
   "metadata": {
    "tags": []
   },
   "outputs": [
    {
     "data": {
      "text/html": [
       "<table border=\"1\" class=\"dataframe\">\n",
       "    <thead>\n",
       "        <tr>\n",
       "            <th>Name</th> <th>Yelp</th> <th>Google</th> <th>Overall</th> <th>Menu_Item</th> <th>Cost</th>\n",
       "        </tr>\n",
       "    </thead>\n",
       "    <tbody>\n",
       "        <tr>\n",
       "            <td>Albertacos      </td> <td>3.5 </td> <td>3.9   </td> <td>3.45   </td> <td>California       </td> <td>5.7 </td>\n",
       "        </tr>\n",
       "        <tr>\n",
       "            <td>Albertacos      </td> <td>3.5 </td> <td>3.9   </td> <td>3.45   </td> <td>Carne asada      </td> <td>5.25</td>\n",
       "        </tr>\n",
       "        <tr>\n",
       "            <td>Burrito Factory </td> <td>4.5 </td> <td>4.8   </td> <td>3.5    </td> <td>Steak everything </td> <td>7.35</td>\n",
       "        </tr>\n",
       "        <tr>\n",
       "            <td>Burros and Fries</td> <td>3.5 </td> <td>4.1   </td> <td>3.575  </td> <td>California       </td> <td>7.19</td>\n",
       "        </tr>\n",
       "        <tr>\n",
       "            <td>Burros and Fries</td> <td>3.5 </td> <td>4.1   </td> <td>3.575  </td> <td>Carne asada      </td> <td>6.89</td>\n",
       "        </tr>\n",
       "    </tbody>\n",
       "</table>\n",
       "<p>... (207 rows omitted)</p>"
      ],
      "text/plain": [
       "<IPython.core.display.HTML object>"
      ]
     },
     "metadata": {},
     "output_type": "display_data"
    }
   ],
   "source": [
    "burritos = ratings.join(\"Name\", burritos_types)  # SOLUTION\n",
    "burritos.show(5)"
   ]
  },
  {
   "cell_type": "raw",
   "id": "f91ffe94",
   "metadata": {},
   "source": [
    "# ES;BT"
   ]
  },
  {
   "cell_type": "code",
   "execution_count": 5,
   "id": "359ffb54",
   "metadata": {
    "tags": []
   },
   "outputs": [],
   "source": [
    "check(set([\"Name\", \"Menu_Item\", \"Yelp\", 'Google', \"Overall\", \"Cost\"]) == set(burritos.labels))"
   ]
  },
  {
   "cell_type": "code",
   "execution_count": 6,
   "id": "51196885-8203-4716-837b-7be05c25d47c",
   "metadata": {
    "tags": []
   },
   "outputs": [],
   "source": [
    "check(burritos.num_rows == 212)"
   ]
  },
  {
   "cell_type": "code",
   "execution_count": 7,
   "id": "8c56d769-2c8a-4cfb-b2d4-671333d07182",
   "metadata": {
    "tags": []
   },
   "outputs": [],
   "source": [
    "# HIDDEN\n",
    "check(len(np.unique(burritos.group('Name').column(1))) == 10)"
   ]
  },
  {
   "cell_type": "raw",
   "id": "abfaf9f0",
   "metadata": {},
   "source": [
    "# ET;EQ"
   ]
  },
  {
   "cell_type": "raw",
   "id": "17b19164",
   "metadata": {},
   "source": [
    "# BQM"
   ]
  },
  {
   "cell_type": "markdown",
   "id": "9e0139c5",
   "metadata": {},
   "source": [
    "#### Part"
   ]
  },
  {
   "cell_type": "markdown",
   "id": "7dcc9074",
   "metadata": {},
   "source": [
    " Let's look at how the Yelp scores compare to the Google scores in the `burritos` table. \n",
    " \n",
    "First, assign `yelp_and_google` to a table only containing the columns `Yelp` and `Google`. \n",
    "\n",
    "Then, make a scatter plot with Yelp scores on the x-axis and the Google scores on the y-axis. Store your plot in the `plot` variable so that we can then add the line $y=x$ to help you draw conclusions.\n",
    "\n"
   ]
  },
  {
   "cell_type": "raw",
   "id": "273e413e",
   "metadata": {},
   "source": [
    "# BS"
   ]
  },
  {
   "cell_type": "code",
   "execution_count": 8,
   "id": "7db5f78b",
   "metadata": {
    "tags": []
   },
   "outputs": [
    {
     "data": {
      "image/png": "[encoded data removed]",
      "text/plain": [
       "<Figure size 600x600 with 1 Axes>"
      ]
     },
     "metadata": {},
     "output_type": "display_data"
    }
   ],
   "source": [
    "yelp_and_google = burritos.select(\"Yelp\", \"Google\")  # SOLUTION\n",
    "plot = yelp_and_google.scatter(\"Yelp\", \"Google\")  # SOLUTION\n",
    "\n",
    "# Don't change/edit/remove the following line.\n",
    "plot.line(slope=1, intercept=0)"
   ]
  },
  {
   "cell_type": "raw",
   "id": "dded81c4",
   "metadata": {},
   "source": [
    "# ES"
   ]
  },
  {
   "cell_type": "raw",
   "id": "660d19ee",
   "metadata": {},
   "source": [
    "# EQ"
   ]
  },
  {
   "cell_type": "raw",
   "id": "bd4e27ed",
   "metadata": {},
   "source": [
    "# BQM"
   ]
  },
  {
   "cell_type": "markdown",
   "id": "2b452ccf",
   "metadata": {},
   "source": [
    "#### Part"
   ]
  },
  {
   "cell_type": "markdown",
   "id": "f2959e8f",
   "metadata": {},
   "source": [
    " Looking at the scatter plot you just made in Part 1.2, do you notice any pattern(s) (i.e. is one of the two types of scores consistently higher than the other one)? If so, describe the patterns you observe **briefly** in the cell below. "
   ]
  },
  {
   "cell_type": "raw",
   "id": "952d56c9",
   "metadata": {},
   "source": [
    "# BS"
   ]
  },
  {
   "cell_type": "markdown",
   "id": "ca0246b6",
   "metadata": {},
   "source": [
    "**SOLUTION:** The Google ratings are consistently higher than the Yelp ratings, and we can see a positive association between the two variables."
   ]
  },
  {
   "cell_type": "raw",
   "id": "20b79800",
   "metadata": {},
   "source": [
    "# ES"
   ]
  },
  {
   "cell_type": "raw",
   "id": "c2df5a1d",
   "metadata": {},
   "source": [
    "# EQ"
   ]
  },
  {
   "cell_type": "raw",
   "id": "d8088cde",
   "metadata": {},
   "source": [
    "# BQ"
   ]
  },
  {
   "cell_type": "markdown",
   "id": "53bf3e40",
   "metadata": {},
   "source": [
    "#### Part"
   ]
  },
  {
   "cell_type": "markdown",
   "id": "6bed72a1",
   "metadata": {},
   "source": [
    "In the `burritos` table, there are many types of burritos that have the word \"California\" in them! We'd like to know which of these \"California\" burritos has the highest mean rating across all restaurants. \n",
    "\n",
    "Create a table that has two columns (in the exact following order): \n",
    "1. The name of the California burrito.\n",
    "2. The average overall rating of that burrito across all restaurants that serve it. \n",
    "\n",
    "**In your calculations, you should compare burritos that contain the word \"California\".** For example, there's \"California\" burritos, \"California breakfast\" burritos, \"California Surf and Turf\" burritos, etc. The predicate [are.containing](https://www.cs.williams.edu/~cs104/auto/python-library-ref.html#containing) will be useful here. \n",
    "\n",
    "*Hint:* If multiple restaurants serve the \"California - Chicken\" burrito, what table method can we use to aggregate those together and find the average overall rating?\n",
    "\n",
    "**Notes:** \n",
    "-  For the sake of these questions, we are treating each menu item's rating the same as its respective restaurant's, as we do not have the rating of every single item at these restaurants. You do not need to worry about this fact, but we thought to mention it.\n",
    "- Break up the solution into multiple lines, with the final output table stored in `california_burritos`.  That will be far less error prone and easier to debug than writing it as a single line."
   ]
  },
  {
   "cell_type": "raw",
   "id": "6fa6b49b",
   "metadata": {},
   "source": [
    "# BS"
   ]
  },
  {
   "cell_type": "code",
   "execution_count": 9,
   "id": "1e54bf8c",
   "metadata": {
    "tags": []
   },
   "outputs": [
    {
     "data": {
      "text/html": [
       "<table border=\"1\" class=\"dataframe\">\n",
       "    <thead>\n",
       "        <tr>\n",
       "            <th>Menu_Item</th> <th>Overall average</th>\n",
       "        </tr>\n",
       "    </thead>\n",
       "    <tbody>\n",
       "        <tr>\n",
       "            <td>California                    </td> <td>3.5242         </td>\n",
       "        </tr>\n",
       "        <tr>\n",
       "            <td>California (only cheese)      </td> <td>4.1            </td>\n",
       "        </tr>\n",
       "        <tr>\n",
       "            <td>California + Guac + sour cream</td> <td>3.4            </td>\n",
       "        </tr>\n",
       "        <tr>\n",
       "            <td>California - Chicken          </td> <td>3.45839        </td>\n",
       "        </tr>\n",
       "        <tr>\n",
       "            <td>California - Pork Adobada     </td> <td>3.26429        </td>\n",
       "        </tr>\n",
       "        <tr>\n",
       "            <td>California - Steak            </td> <td>3.26429        </td>\n",
       "        </tr>\n",
       "        <tr>\n",
       "            <td>California Chipotle           </td> <td>4.36667        </td>\n",
       "        </tr>\n",
       "        <tr>\n",
       "            <td>California Everything         </td> <td>4.1            </td>\n",
       "        </tr>\n",
       "        <tr>\n",
       "            <td>California Everything mini    </td> <td>4.1            </td>\n",
       "        </tr>\n",
       "        <tr>\n",
       "            <td>California Surf               </td> <td>3.66667        </td>\n",
       "        </tr>\n",
       "    </tbody>\n",
       "</table>\n",
       "<p>... (9 rows omitted)</p>"
      ],
      "text/plain": [
       "Menu_Item                      | Overall average\n",
       "California                     | 3.5242\n",
       "California (only cheese)       | 4.1\n",
       "California + Guac + sour cream | 3.4\n",
       "California - Chicken           | 3.45839\n",
       "California - Pork Adobada      | 3.26429\n",
       "California - Steak             | 3.26429\n",
       "California Chipotle            | 4.36667\n",
       "California Everything          | 4.1\n",
       "California Everything mini     | 4.1\n",
       "California Surf                | 3.66667\n",
       "... (9 rows omitted)"
      ]
     },
     "execution_count": 9,
     "metadata": {},
     "output_type": "execute_result"
    }
   ],
   "source": [
    "california_burritos = burritos.where(\"Menu_Item\", are.containing(\"California\")).drop(\"Name\", \"Yelp\", \"Google\", \"Cost\").group(\"Menu_Item\", np.average)  # SOLUTION\n",
    "california_burritos"
   ]
  },
  {
   "cell_type": "raw",
   "id": "50a371ab",
   "metadata": {},
   "source": [
    "# ES;BT"
   ]
  },
  {
   "cell_type": "code",
   "execution_count": 10,
   "id": "10df3cdb",
   "metadata": {},
   "outputs": [],
   "source": [
    "check(california_burritos.num_columns == 2)"
   ]
  },
  {
   "cell_type": "code",
   "execution_count": 11,
   "id": "fbcbb5dd-7c8c-4829-b742-0e5c1cc7bd10",
   "metadata": {
    "tags": []
   },
   "outputs": [],
   "source": [
    "check(california_burritos.num_rows == 19)"
   ]
  },
  {
   "cell_type": "code",
   "execution_count": 12,
   "id": "88cbd9e1-4b8e-4459-a1b4-a5bd45d199b1",
   "metadata": {
    "tags": []
   },
   "outputs": [],
   "source": [
    "# HIDDEN\n",
    "#have to change this from the previous b/c different valid operations could give different orderings\n",
    "check(max(california_burritos.column(1)) == approx(4.3667))"
   ]
  },
  {
   "cell_type": "raw",
   "id": "db85f460",
   "metadata": {},
   "source": [
    "# ET;EQ"
   ]
  },
  {
   "cell_type": "raw",
   "id": "59dfdeba",
   "metadata": {},
   "source": [
    "# BQ"
   ]
  },
  {
   "cell_type": "markdown",
   "id": "9bd4c1f1",
   "metadata": {},
   "source": [
    "#### Part"
   ]
  },
  {
   "cell_type": "markdown",
   "id": "421a2236",
   "metadata": {},
   "source": [
    " Given this new table `california_burritos`, we can figure out the name of the California burrito with the highest overall average rating. Create a string `best_california_burrito` that is assigned to a line of code that outputs the string that represents the name of the California burrito with the highest overall average rating. If multiple burritos satisfy this criteria, you can output any one of them. "
   ]
  },
  {
   "cell_type": "raw",
   "id": "23723e43",
   "metadata": {},
   "source": [
    "# BS"
   ]
  },
  {
   "cell_type": "code",
   "execution_count": 13,
   "id": "ac3a13c7",
   "metadata": {
    "tags": []
   },
   "outputs": [
    {
     "data": {
      "text/plain": [
       "'California Chipotle'"
      ]
     },
     "execution_count": 13,
     "metadata": {},
     "output_type": "execute_result"
    }
   ],
   "source": [
    "best_california_burrito = california_burritos.sort(\"Overall average\", descending=True).row(0).item(\"Menu_Item\") # column(\"Menu_Item\").item(0)  # SOLUTION\n",
    "best_california_burrito"
   ]
  },
  {
   "cell_type": "raw",
   "id": "f5cb748d",
   "metadata": {},
   "source": [
    "# ES;BT"
   ]
  },
  {
   "cell_type": "code",
   "execution_count": 14,
   "id": "4701dce7",
   "metadata": {
    "tags": []
   },
   "outputs": [],
   "source": [
    "check(best_california_burrito in california_burritos.column(\"Menu_Item\"))"
   ]
  },
  {
   "cell_type": "code",
   "execution_count": 15,
   "id": "0e405db8-27fa-4f52-b339-46a5ef9b87e8",
   "metadata": {
    "tags": []
   },
   "outputs": [],
   "source": [
    "# HIDDEN\n",
    "check(best_california_burrito in ['California Chipotle', 'Pork California'])"
   ]
  },
  {
   "cell_type": "raw",
   "id": "490737a2",
   "metadata": {},
   "source": [
    "# ET;EQ"
   ]
  },
  {
   "cell_type": "raw",
   "id": "bb13f4a7",
   "metadata": {},
   "source": [
    "# BQM"
   ]
  },
  {
   "cell_type": "markdown",
   "id": "cd045d0e",
   "metadata": {},
   "source": [
    "#### Part"
   ]
  },
  {
   "cell_type": "markdown",
   "id": "dd59c00d",
   "metadata": {},
   "source": [
    "We hypothesize that burritos in San Diego are cheaper (and taste better) than the burritos in Williamstown. \n",
    "\n",
    "Plot a histogram that visualizes that distribution of the costs of the burritos from San Diego in the `burritos` table. Also use the provided `bins` variable when making your histogram, so that the histogram is more visually informative. "
   ]
  },
  {
   "cell_type": "raw",
   "id": "5adc4899",
   "metadata": {},
   "source": [
    "# BS"
   ]
  },
  {
   "cell_type": "code",
   "execution_count": 16,
   "id": "b0c83b65",
   "metadata": {
    "tags": []
   },
   "outputs": [
    {
     "data": {
      "image/png": "[encoded data removed]",
      "text/plain": [
       "<Figure size 600x400 with 1 Axes>"
      ]
     },
     "metadata": {},
     "output_type": "display_data"
    }
   ],
   "source": [
    "bins = np.arange(2, 15, 1)\n",
    "\n",
    "# Please also use the provided bins\n",
    "burritos.hist(\"Cost\", bins=bins) # SOLUTION"
   ]
  },
  {
   "cell_type": "raw",
   "id": "d7df1748",
   "metadata": {},
   "source": [
    "# ES"
   ]
  },
  {
   "cell_type": "raw",
   "id": "bf688a10",
   "metadata": {},
   "source": [
    "# EQ"
   ]
  },
  {
   "cell_type": "raw",
   "id": "66311269",
   "metadata": {},
   "source": [
    "# BQ"
   ]
  },
  {
   "cell_type": "markdown",
   "id": "a70d977d",
   "metadata": {},
   "source": [
    "#### Part"
   ]
  },
  {
   "cell_type": "markdown",
   "id": "a135fd2f",
   "metadata": {},
   "source": [
    " What percentage of burritos in San Diego are less than $6? Assign `burritos_less_than_6` to your answer, which should be between 0 and 100. You should only use the histogram above to answer the question. Do not use code on the table to to find the answer, just eyeball the heights and use Python to evaluate your arithmetic. \n",
    "\n",
    "Your answer does not have to be exact, but it should be within a couple percentages of our answer."
   ]
  },
  {
   "cell_type": "raw",
   "id": "dc38afc9",
   "metadata": {},
   "source": [
    "# BS"
   ]
  },
  {
   "cell_type": "code",
   "execution_count": 17,
   "id": "49d4e014",
   "metadata": {
    "tags": []
   },
   "outputs": [
    {
     "data": {
      "text/plain": [
       "22"
      ]
     },
     "execution_count": 17,
     "metadata": {},
     "output_type": "execute_result"
    }
   ],
   "source": [
    "burritos_less_than_6 = 1+4+17  # SOLUTION\n",
    "burritos_less_than_6"
   ]
  },
  {
   "cell_type": "raw",
   "id": "c5a4c2a1",
   "metadata": {},
   "source": [
    "# ES;BT"
   ]
  },
  {
   "cell_type": "code",
   "execution_count": 18,
   "id": "08690349",
   "metadata": {
    "tags": []
   },
   "outputs": [],
   "source": [
    "check(burritos_less_than_6 in between_or_equal(0, 100))"
   ]
  },
  {
   "cell_type": "code",
   "execution_count": 19,
   "id": "d455d6c8-bd82-41b0-b571-a75e6cd4cf09",
   "metadata": {
    "tags": []
   },
   "outputs": [],
   "source": [
    "# HIDDEN\n",
    "check(burritos_less_than_6 in between_or_equal(18, 25))"
   ]
  },
  {
   "cell_type": "raw",
   "id": "c54e8ee2",
   "metadata": {},
   "source": [
    "# ET;EQ"
   ]
  },
  {
   "cell_type": "markdown",
   "id": "6fc4e4ad-6e7b-4373-979b-0b31c5e21c40",
   "metadata": {
    "tags": []
   },
   "source": [
    "## 2. Penguins"
   ]
  },
  {
   "cell_type": "markdown",
   "id": "7af41c45",
   "metadata": {},
   "source": [
    "<font color='#B1008E'>\n",
    "    \n",
    "##### Learning objectives\n",
    "- Practice using the Table methods `pivot` and `group`"
   ]
  },
  {
   "cell_type": "markdown",
   "id": "091b0335-d1e7-4a7c-a88e-3833c7559f6e",
   "metadata": {},
   "source": [
    "We'll use a data from the [palmerpenguins dataset](https://github.com/allisonhorst/palmerpenguins), which captures data for three species of penguins (Adelie, Chinstrap, and Gentoo) on three islands in the Palmer Archipelago, Antarctica (Biscoe, Dream, and Torgersen).  \n",
    "\n",
    "Here's some artwork from the dataset creator showing the three species and what several of the data elements mean:\n",
    "\n",
    "<img width=45% src=\"https://github.com/allisonhorst/palmerpenguins/raw/main/man/figures/lter_penguins.png\"> <img width=45% src=\"https://github.com/allisonhorst/palmerpenguins/raw/main/man/figures/culmen_depth.png\">\n",
    "\n",
    "We have lightly cleaned the data to make it easier to work with. Run the following cell to load our data into a table called `penguins`."
   ]
  },
  {
   "cell_type": "code",
   "execution_count": 20,
   "id": "8d48960b-0e0e-44e9-91dd-ad8691434153",
   "metadata": {
    "tags": []
   },
   "outputs": [
    {
     "data": {
      "text/html": [
       "<table border=\"1\" class=\"dataframe\">\n",
       "    <thead>\n",
       "        <tr>\n",
       "            <th>species</th> <th>island</th> <th>bill_length_mm</th> <th>bill_depth_mm</th> <th>flipper_length_mm</th> <th>body_mass_g</th> <th>sex</th>\n",
       "        </tr>\n",
       "    </thead>\n",
       "    <tbody>\n",
       "        <tr>\n",
       "            <td>Adelie </td> <td>Torgersen</td> <td>39.1          </td> <td>18.7         </td> <td>181              </td> <td>3750       </td> <td>MALE   </td>\n",
       "        </tr>\n",
       "        <tr>\n",
       "            <td>Adelie </td> <td>Torgersen</td> <td>39.5          </td> <td>17.4         </td> <td>186              </td> <td>3800       </td> <td>FEMALE </td>\n",
       "        </tr>\n",
       "        <tr>\n",
       "            <td>Adelie </td> <td>Torgersen</td> <td>40.3          </td> <td>18           </td> <td>195              </td> <td>3250       </td> <td>FEMALE </td>\n",
       "        </tr>\n",
       "        <tr>\n",
       "            <td>Adelie </td> <td>Torgersen</td> <td>36.7          </td> <td>19.3         </td> <td>193              </td> <td>3450       </td> <td>FEMALE </td>\n",
       "        </tr>\n",
       "        <tr>\n",
       "            <td>Adelie </td> <td>Torgersen</td> <td>39.3          </td> <td>20.6         </td> <td>190              </td> <td>3650       </td> <td>MALE   </td>\n",
       "        </tr>\n",
       "        <tr>\n",
       "            <td>Adelie </td> <td>Torgersen</td> <td>38.9          </td> <td>17.8         </td> <td>181              </td> <td>3625       </td> <td>FEMALE </td>\n",
       "        </tr>\n",
       "        <tr>\n",
       "            <td>Adelie </td> <td>Torgersen</td> <td>39.2          </td> <td>19.6         </td> <td>195              </td> <td>4675       </td> <td>MALE   </td>\n",
       "        </tr>\n",
       "        <tr>\n",
       "            <td>Adelie </td> <td>Torgersen</td> <td>34.1          </td> <td>18.1         </td> <td>193              </td> <td>3475       </td> <td>UNKNOWN</td>\n",
       "        </tr>\n",
       "        <tr>\n",
       "            <td>Adelie </td> <td>Torgersen</td> <td>42            </td> <td>20.2         </td> <td>190              </td> <td>4250       </td> <td>UNKNOWN</td>\n",
       "        </tr>\n",
       "        <tr>\n",
       "            <td>Adelie </td> <td>Torgersen</td> <td>37.8          </td> <td>17.1         </td> <td>186              </td> <td>3300       </td> <td>UNKNOWN</td>\n",
       "        </tr>\n",
       "    </tbody>\n",
       "</table>\n",
       "<p>... (332 rows omitted)</p>"
      ],
      "text/plain": [
       "<IPython.core.display.HTML object>"
      ]
     },
     "metadata": {},
     "output_type": "display_data"
    }
   ],
   "source": [
    "penguins = Table.read_table(\"penguins.csv\")\n",
    "penguins.show(10)"
   ]
  },
  {
   "cell_type": "raw",
   "id": "50b937d8-793d-4027-a687-1f69e2695bd4",
   "metadata": {},
   "source": [
    "# BQ"
   ]
  },
  {
   "cell_type": "markdown",
   "id": "97890a94-f361-4535-950c-32e95dcbfd09",
   "metadata": {},
   "source": [
    "#### Part"
   ]
  },
  {
   "cell_type": "markdown",
   "id": "83d4dc06-832a-493a-b86b-71bda7e86f3d",
   "metadata": {},
   "source": [
    "Since we'll be focussing most on bill length for our various penguins, create a new table with three columns labeled \"species\", \"island\", and \"bill length\" in that exact order."
   ]
  },
  {
   "cell_type": "raw",
   "id": "74c5662a-0776-4ab7-bdfc-626dbcf225db",
   "metadata": {},
   "source": [
    "# BS"
   ]
  },
  {
   "cell_type": "code",
   "execution_count": 21,
   "id": "6f791235-77f4-418f-9c6f-8cda9441099f",
   "metadata": {
    "tags": []
   },
   "outputs": [
    {
     "data": {
      "text/html": [
       "<table border=\"1\" class=\"dataframe\">\n",
       "    <thead>\n",
       "        <tr>\n",
       "            <th>species</th> <th>island</th> <th>bill length</th>\n",
       "        </tr>\n",
       "    </thead>\n",
       "    <tbody>\n",
       "        <tr>\n",
       "            <td>Adelie </td> <td>Torgersen</td> <td>39.1       </td>\n",
       "        </tr>\n",
       "        <tr>\n",
       "            <td>Adelie </td> <td>Torgersen</td> <td>39.5       </td>\n",
       "        </tr>\n",
       "        <tr>\n",
       "            <td>Adelie </td> <td>Torgersen</td> <td>40.3       </td>\n",
       "        </tr>\n",
       "        <tr>\n",
       "            <td>Adelie </td> <td>Torgersen</td> <td>36.7       </td>\n",
       "        </tr>\n",
       "        <tr>\n",
       "            <td>Adelie </td> <td>Torgersen</td> <td>39.3       </td>\n",
       "        </tr>\n",
       "        <tr>\n",
       "            <td>Adelie </td> <td>Torgersen</td> <td>38.9       </td>\n",
       "        </tr>\n",
       "        <tr>\n",
       "            <td>Adelie </td> <td>Torgersen</td> <td>39.2       </td>\n",
       "        </tr>\n",
       "        <tr>\n",
       "            <td>Adelie </td> <td>Torgersen</td> <td>34.1       </td>\n",
       "        </tr>\n",
       "        <tr>\n",
       "            <td>Adelie </td> <td>Torgersen</td> <td>42         </td>\n",
       "        </tr>\n",
       "        <tr>\n",
       "            <td>Adelie </td> <td>Torgersen</td> <td>37.8       </td>\n",
       "        </tr>\n",
       "    </tbody>\n",
       "</table>\n",
       "<p>... (332 rows omitted)</p>"
      ],
      "text/plain": [
       "species | island    | bill length\n",
       "Adelie  | Torgersen | 39.1\n",
       "Adelie  | Torgersen | 39.5\n",
       "Adelie  | Torgersen | 40.3\n",
       "Adelie  | Torgersen | 36.7\n",
       "Adelie  | Torgersen | 39.3\n",
       "Adelie  | Torgersen | 38.9\n",
       "Adelie  | Torgersen | 39.2\n",
       "Adelie  | Torgersen | 34.1\n",
       "Adelie  | Torgersen | 42\n",
       "Adelie  | Torgersen | 37.8\n",
       "... (332 rows omitted)"
      ]
     },
     "execution_count": 21,
     "metadata": {},
     "output_type": "execute_result"
    }
   ],
   "source": [
    "bill_lengths = penguins.select(\"species\", \"island\", \"bill_length_mm\").relabeled(\"bill_length_mm\", \"bill length\") # SOLUTION\n",
    "bill_lengths"
   ]
  },
  {
   "cell_type": "raw",
   "id": "5fce0eda-90af-478e-b439-3383303ee6b0",
   "metadata": {},
   "source": [
    "# ES;BT"
   ]
  },
  {
   "cell_type": "code",
   "execution_count": 22,
   "id": "47468aa2-2419-491c-8c27-8f37eaf02308",
   "metadata": {
    "tags": []
   },
   "outputs": [],
   "source": [
    "check(bill_lengths.labels == ('species', 'island', 'bill length'))"
   ]
  },
  {
   "cell_type": "raw",
   "id": "c3d509f3-f202-4ae5-83da-22d6d8f2b6ee",
   "metadata": {},
   "source": [
    "# ET;EQ"
   ]
  },
  {
   "cell_type": "raw",
   "id": "fb85154d-c076-42c4-bfa6-3c4bf4c94cd7",
   "metadata": {},
   "source": [
    "# BQ"
   ]
  },
  {
   "cell_type": "markdown",
   "id": "c4a1a9e0-b245-4732-aecf-04faf1fcb365",
   "metadata": {},
   "source": [
    "#### Part"
   ]
  },
  {
   "cell_type": "markdown",
   "id": "bb3641e0-2c80-4001-97b8-9a6f18228793",
   "metadata": {},
   "source": [
    "Now create a new table `bill_length_mean_by_species` with two columns. The first column should be `species` and the second column should be `bill length mean`.  \n",
    "Each row in that second column should be the *mean* bill length for the given species."
   ]
  },
  {
   "cell_type": "raw",
   "id": "ec0afdcd-93c9-4267-a373-d8fd286e113f",
   "metadata": {},
   "source": [
    "# BS"
   ]
  },
  {
   "cell_type": "code",
   "execution_count": 23,
   "id": "7fd28d24-93f4-40e3-9151-ef025769a43d",
   "metadata": {
    "tags": []
   },
   "outputs": [
    {
     "data": {
      "text/html": [
       "<table border=\"1\" class=\"dataframe\">\n",
       "    <thead>\n",
       "        <tr>\n",
       "            <th>species</th> <th>bill length mean</th>\n",
       "        </tr>\n",
       "    </thead>\n",
       "    <tbody>\n",
       "        <tr>\n",
       "            <td>Adelie   </td> <td>38.7914         </td>\n",
       "        </tr>\n",
       "        <tr>\n",
       "            <td>Chinstrap</td> <td>48.8338         </td>\n",
       "        </tr>\n",
       "        <tr>\n",
       "            <td>Gentoo   </td> <td>47.5049         </td>\n",
       "        </tr>\n",
       "    </tbody>\n",
       "</table>"
      ],
      "text/plain": [
       "species   | bill length mean\n",
       "Adelie    | 38.7914\n",
       "Chinstrap | 48.8338\n",
       "Gentoo    | 47.5049"
      ]
     },
     "execution_count": 23,
     "metadata": {},
     "output_type": "execute_result"
    }
   ],
   "source": [
    "bill_length_mean_by_species = bill_lengths.drop(\"island\").group(\"species\", np.mean) # SOLUTION\n",
    "bill_length_mean_by_species"
   ]
  },
  {
   "cell_type": "raw",
   "id": "179ab8b2-7a98-4088-a69a-80cead27163c",
   "metadata": {},
   "source": [
    "# ES;BT"
   ]
  },
  {
   "cell_type": "code",
   "execution_count": 24,
   "id": "790ea648-a7dd-4c70-aa8d-c5e21747f825",
   "metadata": {
    "tags": []
   },
   "outputs": [],
   "source": [
    "check(bill_length_mean_by_species.labels == make_array('species', 'bill length mean'))"
   ]
  },
  {
   "cell_type": "code",
   "execution_count": 25,
   "id": "2f808552-2a10-44b3-9cf5-750193be5068",
   "metadata": {
    "tags": []
   },
   "outputs": [],
   "source": [
    "check(bill_length_mean_by_species.num_rows == 3)"
   ]
  },
  {
   "cell_type": "code",
   "execution_count": 26,
   "id": "dad8925f-46b4-4fe9-9cd0-551360eac419",
   "metadata": {
    "tags": []
   },
   "outputs": [],
   "source": [
    "# HIDDEN\n",
    "check(bill_length_mean_by_species.row(0).item(\"bill length mean\") == approx(38.79139))"
   ]
  },
  {
   "cell_type": "raw",
   "id": "5ee6f104-e709-4ac2-b5cb-efba35f72497",
   "metadata": {},
   "source": [
    "# ET;EQ"
   ]
  },
  {
   "cell_type": "raw",
   "id": "a5689490-4533-4d1a-95b4-effe6eb533ae",
   "metadata": {},
   "source": [
    "# BQ"
   ]
  },
  {
   "cell_type": "markdown",
   "id": "1c7d3c9b-8961-4140-b1eb-c5869c1ff855",
   "metadata": {
    "tags": []
   },
   "source": [
    "#### Part"
   ]
  },
  {
   "cell_type": "markdown",
   "id": "91a1029f-c9c6-495c-ba9e-4d8f2fdbaa0e",
   "metadata": {},
   "source": [
    "Now create a new table `bill_length_max_by_species_and_island` with three columns. The first column should be `species`, the second should be `island` and the third should be `bill length max`.  \n",
    "\n",
    "*Hint:* You'll use `group` again, but this time the first parameter should be an array of both columns you wish to group by: `species` and `island`."
   ]
  },
  {
   "cell_type": "raw",
   "id": "92761b32-4f0a-4bd2-a78e-f90fae5575e4",
   "metadata": {},
   "source": [
    "# BS"
   ]
  },
  {
   "cell_type": "code",
   "execution_count": 27,
   "id": "6c2c33c4-1b4d-43c5-9fb8-e4e623915c1b",
   "metadata": {
    "tags": []
   },
   "outputs": [],
   "source": [
    "#bill_length_max_by_species_and_island = bill_lengths.group(make_array(\"species\", \"island\"), np.max) # SOLUTION"
   ]
  },
  {
   "cell_type": "code",
   "execution_count": 28,
   "id": "31ad12ee-3766-4749-843b-ac1e3661f935",
   "metadata": {
    "tags": []
   },
   "outputs": [
    {
     "data": {
      "text/html": [
       "<table border=\"1\" class=\"dataframe\">\n",
       "    <thead>\n",
       "        <tr>\n",
       "            <th>island</th> <th>species max</th> <th>bill length max</th>\n",
       "        </tr>\n",
       "    </thead>\n",
       "    <tbody>\n",
       "        <tr>\n",
       "            <td>Biscoe   </td> <td>           </td> <td>59.6           </td>\n",
       "        </tr>\n",
       "        <tr>\n",
       "            <td>Dream    </td> <td>           </td> <td>58             </td>\n",
       "        </tr>\n",
       "        <tr>\n",
       "            <td>Torgersen</td> <td>           </td> <td>46             </td>\n",
       "        </tr>\n",
       "    </tbody>\n",
       "</table>"
      ],
      "text/plain": [
       "island    | species max | bill length max\n",
       "Biscoe    |             | 59.6\n",
       "Dream     |             | 58\n",
       "Torgersen |             | 46"
      ]
     },
     "execution_count": 28,
     "metadata": {},
     "output_type": "execute_result"
    }
   ],
   "source": [
    "bill_length_max_by_species_and_island = bill_lengths.group(\"island\", np.max) # SOLUTION\n",
    "bill_length_max_by_species_and_island"
   ]
  },
  {
   "cell_type": "code",
   "execution_count": 29,
   "id": "5ffb349d-cc60-426e-901f-3750f5a2e6f8",
   "metadata": {},
   "outputs": [],
   "source": [
    "# ES;BT"
   ]
  },
  {
   "cell_type": "code",
   "execution_count": 30,
   "id": "7d78024c-8042-4818-9b10-3a3b06382f68",
   "metadata": {},
   "outputs": [
    {
     "data": {
      "application/vnd.jupyter.widget-view+json": {
       "model_id": "213ea63f069e406e9fae73ebf0df30a7",
       "version_major": 2,
       "version_minor": 0
      },
      "text/plain": [
       "HTML(value='\\n<div class=\"lm-Widget p-Widget jp-RenderedText jp-OutputArea-output\">\\n<pre>\\n<a href=\"javascrip…"
      ]
     },
     "execution_count": 30,
     "metadata": {},
     "output_type": "execute_result"
    }
   ],
   "source": [
    "code(bill_length_max_by_species_and_island)"
   ]
  },
  {
   "cell_type": "code",
   "execution_count": null,
   "id": "a71c4fa9-4eb0-4782-8382-cb5cf3d87a99",
   "metadata": {
    "scrolled": true,
    "tags": []
   },
   "outputs": [
    {
     "ename": "AssertionError",
     "evalue": "",
     "output_type": "error",
     "traceback": [
      "\u001b[0;31m---------------------------------------------------------------------------\u001b[0m",
      "\u001b[0;31mAssertionError\u001b[0m                            Traceback (most recent call last)",
      "Cell \u001b[0;32mIn[31], line 1\u001b[0m\n\u001b[0;32m----> 1\u001b[0m \u001b[38;5;28;01massert\u001b[39;00m(np\u001b[38;5;241m.\u001b[39marray_equal(bill_length_max_by_species_and_island\u001b[38;5;241m.\u001b[39mlabels, make_array(\u001b[38;5;124m'\u001b[39m\u001b[38;5;124mspecies\u001b[39m\u001b[38;5;124m'\u001b[39m, \u001b[38;5;124m'\u001b[39m\u001b[38;5;124misland\u001b[39m\u001b[38;5;124m'\u001b[39m, \u001b[38;5;124m'\u001b[39m\u001b[38;5;124mbill length max\u001b[39m\u001b[38;5;124m'\u001b[39m)))\n",
      "\u001b[0;31mAssertionError\u001b[0m: "
     ]
    },
    {
     "name": "stdout",
     "output_type": "stream",
     "text": [
      "> \u001b[0;32m/var/folders/s2/cqbykz4x4cv5k80y8x5lkqs40000gp/T/ipykernel_62859/3990762589.py\u001b[0m(1)\u001b[0;36m<module>\u001b[0;34m()\u001b[0m\n",
      "\u001b[0;32m----> 1 \u001b[0;31m\u001b[0;32massert\u001b[0m\u001b[0;34m(\u001b[0m\u001b[0mnp\u001b[0m\u001b[0;34m.\u001b[0m\u001b[0marray_equal\u001b[0m\u001b[0;34m(\u001b[0m\u001b[0mbill_length_max_by_species_and_island\u001b[0m\u001b[0;34m.\u001b[0m\u001b[0mlabels\u001b[0m\u001b[0;34m,\u001b[0m \u001b[0mmake_array\u001b[0m\u001b[0;34m(\u001b[0m\u001b[0;34m'species'\u001b[0m\u001b[0;34m,\u001b[0m \u001b[0;34m'island'\u001b[0m\u001b[0;34m,\u001b[0m \u001b[0;34m'bill length max'\u001b[0m\u001b[0;34m)\u001b[0m\u001b[0;34m)\u001b[0m\u001b[0;34m)\u001b[0m\u001b[0;34m\u001b[0m\u001b[0;34m\u001b[0m\u001b[0m\n",
      "\u001b[0m\n"
     ]
    }
   ],
   "source": [
    "assert(np.array_equal(bill_length_max_by_species_and_island.labels, make_array('species', 'island', 'bill length max')))"
   ]
  },
  {
   "cell_type": "code",
   "execution_count": null,
   "id": "edeac989-05ed-45a4-9869-8a881ca4ba02",
   "metadata": {
    "tags": []
   },
   "outputs": [],
   "source": [
    "check (bill_length_max_by_species_and_island.num_rows == 5)"
   ]
  },
  {
   "cell_type": "code",
   "execution_count": null,
   "id": "1416951a-542b-4783-baf2-c9b0bcf1a581",
   "metadata": {
    "tags": []
   },
   "outputs": [],
   "source": [
    "# HIDDEN\n",
    "check(bill_length_max_by_species_and_island.row(0).item(\"bill length max\") == approx(45.6))"
   ]
  },
  {
   "cell_type": "raw",
   "id": "249d2929-eb57-409e-a9a1-114ab92899cb",
   "metadata": {},
   "source": [
    "# ET;EQ"
   ]
  },
  {
   "cell_type": "raw",
   "id": "ab63339e-7b9f-40e8-858e-5d49ad150086",
   "metadata": {},
   "source": [
    "# BQ"
   ]
  },
  {
   "cell_type": "markdown",
   "id": "f64a35a4-cd8c-417b-8513-b195e7ed63ed",
   "metadata": {
    "tags": []
   },
   "source": [
    "#### Part"
   ]
  },
  {
   "cell_type": "markdown",
   "id": "bbbe2957-981a-4f0f-a660-1560fc6c49e6",
   "metadata": {},
   "source": [
    "In the previous two parts, we used aggegation functions already provided by Python and numpy.  In this part, we'll define a new aggegation function to use with `group()`.  \n",
    "\n",
    "In particular, we would like to know the bill length **spread** for each penguin species on each island.  The spread is the **difference between the longest bill length and shortest bill length for penguins of that species on that island**.  Recall, the group aggegation function takes an array of values for all rows in the group and returns the value to associate with the group as a whole.\n",
    "\n",
    "Create a new table `bill_length_spreads` containing three columns: `species`, `island`, `bill length spread`.  Do this by completing the following two steps: \n",
    "\n",
    "1. First you'll need to define a new function `spread` which takes in an array of numbers and returns the spread of those numbers.\n",
    "\n",
    "2. Group your bill length data as in the last part, but with your new function.\n"
   ]
  },
  {
   "cell_type": "raw",
   "id": "33fd094a-2ff8-46ec-a050-06c7c74a951c",
   "metadata": {},
   "source": [
    "# BS"
   ]
  },
  {
   "cell_type": "code",
   "execution_count": null,
   "id": "72f47cfa-0927-4f25-96f1-f1bb667711e0",
   "metadata": {
    "tags": []
   },
   "outputs": [],
   "source": [
    "# Step 1\n",
    "def spread(values): \n",
    "    \"\"\"Return spread of the values array of numeric data.\"\"\"\n",
    "    return max(values) - min(values)  # SOLUTION\n",
    "\n",
    "# Three checks to ensure spread works.  Only proceed to Step 2 once these checks work.\n",
    "check(spread(make_array(1,4,2,3)) == 3)\n",
    "check(spread(make_array(1, -1)) == 2)\n",
    "check(spread(bill_lengths.column('bill length')) == 27.5)"
   ]
  },
  {
   "cell_type": "code",
   "execution_count": null,
   "id": "d5ade5aa-cd6b-4a77-b190-7fbc513e36bd",
   "metadata": {
    "tags": []
   },
   "outputs": [],
   "source": [
    "# Step 2\n",
    "bill_length_spreads = bill_lengths.group(make_array(\"species\", \"island\"), spread) # SOLUTION\n",
    "bill_length_spreads"
   ]
  },
  {
   "cell_type": "raw",
   "id": "a3727bed-d271-4293-aaa3-a8cdd9ff2d75",
   "metadata": {},
   "source": [
    "# ES;BT"
   ]
  },
  {
   "cell_type": "code",
   "execution_count": null,
   "id": "59dbcd6a-a822-4bf1-93c0-1b6301fc45a4",
   "metadata": {
    "tags": []
   },
   "outputs": [],
   "source": [
    "check(bill_length_spreads.labels == make_array('species', 'island', 'bill length spread'))"
   ]
  },
  {
   "cell_type": "code",
   "execution_count": null,
   "id": "182488f6-a11c-418e-afaa-bac26fd94050",
   "metadata": {
    "tags": []
   },
   "outputs": [],
   "source": [
    "check(bill_length_spreads.num_rows == 5)"
   ]
  },
  {
   "cell_type": "code",
   "execution_count": null,
   "id": "89eb189d-87d0-44ea-a35f-fcef5004204b",
   "metadata": {
    "tags": []
   },
   "outputs": [],
   "source": [
    "# HIDDEN\n",
    "check(bill_length_spreads.row(0).item(\"bill length spread\") == approx(11.1))"
   ]
  },
  {
   "cell_type": "raw",
   "id": "38b00e64-c850-48f8-bc09-f58f95a40c65",
   "metadata": {},
   "source": [
    "# ET;EQ"
   ]
  },
  {
   "cell_type": "raw",
   "id": "56e8687d-bc8a-40e2-a92c-27117b15cb97",
   "metadata": {},
   "source": [
    "# BQ"
   ]
  },
  {
   "cell_type": "markdown",
   "id": "1494d1c8-2c13-4abe-8fa6-ea031e20e1d8",
   "metadata": {},
   "source": [
    "#### Part"
   ]
  },
  {
   "cell_type": "markdown",
   "id": "597c5bdd-38fd-4c5a-bc53-fab6f179dcc5",
   "metadata": {},
   "source": [
    "Rather than creating the table in the previous part, we'll create a new table that is a bit easier to read.  \n",
    "\n",
    "In particular, set `spreads_matrix` to a table containing islands as the rows and species as the columns.  Each value in the table is the spread for that particular species (column) and island (row).\n",
    "\n",
    "Your code should use the `bill_lengths` table as a starting point.  Do not use the `bill_length_spreads` table in your solution.\n",
    "\n",
    "*Hint:* What table function allows you to specify the rows and columns of a new table?"
   ]
  },
  {
   "cell_type": "raw",
   "id": "ca299f94-1e87-4e17-9db4-731a0d1dacc9",
   "metadata": {},
   "source": [
    "# BS"
   ]
  },
  {
   "cell_type": "code",
   "execution_count": null,
   "id": "4d7b177f-94dc-464f-bfce-bf60ed2a86aa",
   "metadata": {
    "tags": []
   },
   "outputs": [],
   "source": [
    "spreads_matrix = bill_lengths.pivot(\"species\", \"island\", \"bill length\", spread) # SOLUTION\n",
    "spreads_matrix"
   ]
  },
  {
   "cell_type": "raw",
   "id": "7a837d77-4e65-4aa8-be2b-7fba7a477b5b",
   "metadata": {},
   "source": [
    "# ES;BT"
   ]
  },
  {
   "cell_type": "code",
   "execution_count": null,
   "id": "68576238-4acc-486d-8699-6dd20138bcd3",
   "metadata": {
    "tags": []
   },
   "outputs": [],
   "source": [
    "check(spreads_matrix.num_rows == 3)"
   ]
  },
  {
   "cell_type": "code",
   "execution_count": null,
   "id": "d2a46147-b7d8-4b55-839f-53c0a8d39bc6",
   "metadata": {
    "tags": []
   },
   "outputs": [],
   "source": [
    "check(spreads_matrix.num_columns == 4)"
   ]
  },
  {
   "cell_type": "code",
   "execution_count": null,
   "id": "0291aa70-8ac7-4921-b478-3ff30dd911d2",
   "metadata": {
    "tags": []
   },
   "outputs": [],
   "source": [
    "check(spreads_matrix.labels == make_array('island', 'Adelie', 'Chinstrap', 'Gentoo'))"
   ]
  },
  {
   "cell_type": "code",
   "execution_count": null,
   "id": "60186791-409a-40ab-991f-d83af322c9af",
   "metadata": {
    "tags": []
   },
   "outputs": [],
   "source": [
    "# HIDDEN\n",
    "check(spreads_matrix.where(\"island\", \"Biscoe\").row(0).item(\"Gentoo\") == approx(18.7))"
   ]
  },
  {
   "cell_type": "code",
   "execution_count": null,
   "id": "af639b30-90bb-4839-8e54-4765a1c0fc50",
   "metadata": {
    "tags": []
   },
   "outputs": [],
   "source": [
    "# HIDDEN\n",
    "check(spreads_matrix.where(\"island\", \"Biscoe\").row(0).item(\"Chinstrap\") == approx(0.0))"
   ]
  },
  {
   "cell_type": "raw",
   "id": "dfd13127-2d11-4e60-afe2-c8b936ce41b6",
   "metadata": {},
   "source": [
    "# ET;EQ"
   ]
  },
  {
   "cell_type": "raw",
   "id": "05002863-ef2f-48e3-9b9d-c693f793536f",
   "metadata": {},
   "source": [
    "# BQM"
   ]
  },
  {
   "cell_type": "markdown",
   "id": "4b5483bc-82ba-4b5c-ba2d-7306b0a95ce1",
   "metadata": {},
   "source": [
    "#### Part"
   ]
  },
  {
   "cell_type": "markdown",
   "id": "9d23c4a1-d6b0-4c74-adcb-7f287a4e5105",
   "metadata": {},
   "source": [
    "Give an explanation as to why some of the row values are `0` in the `spreads_matrix` table from the previous question."
   ]
  },
  {
   "cell_type": "raw",
   "id": "3c9aac67-1bd5-44f6-bfe4-c42bc1aa0423",
   "metadata": {},
   "source": [
    "# BS"
   ]
  },
  {
   "cell_type": "markdown",
   "id": "62de5896-b380-4981-a72c-42124b1e1db7",
   "metadata": {},
   "source": [
    "**SOLUTION:** Either the bill length range is actually 0 (if the max length was the same as the min length), or there was no data for the row/column pair."
   ]
  },
  {
   "cell_type": "raw",
   "id": "e7502b1f-e771-49c5-8faa-97ef030e35d1",
   "metadata": {},
   "source": [
    "# ES"
   ]
  },
  {
   "cell_type": "raw",
   "id": "a7b13442-e6ef-4833-a600-6c3a1cd7bcdd",
   "metadata": {},
   "source": [
    "# EQ"
   ]
  },
  {
   "cell_type": "markdown",
   "id": "d50aa128-0fd7-436d-a6de-d429146c5ab4",
   "metadata": {
    "tags": []
   },
   "source": [
    "## 3. Boston City Employee Salaries"
   ]
  },
  {
   "cell_type": "markdown",
   "id": "164c0765",
   "metadata": {},
   "source": [
    "<font color='#B1008E'>\n",
    "    \n",
    "##### Learning objectives\n",
    "- Practice using the Table methods `where`, `select` and `group`"
   ]
  },
  {
   "cell_type": "markdown",
   "id": "1f22781e-0182-4ded-8923-880f75774dcd",
   "metadata": {},
   "source": [
    "We now examine publicly available [City of Boston payroll data for employees](https://data.boston.gov/dataset/418983dc-7cae-42bb-88e4-d56f5adcf869/resource/ec5aaf93-1509-4641-9310-28e62e028457/download/employee-earnings-report-2021.csv) for 2021.  We have filtered it to retain just some of the columns.  The next cell loads it into the table `full_boston`."
   ]
  },
  {
   "cell_type": "code",
   "execution_count": null,
   "id": "123879a8-c6e0-41c0-ab26-6e15b497b708",
   "metadata": {
    "tags": []
   },
   "outputs": [],
   "source": [
    "full_boston = Table.read_table(\"boston-earnings.csv\")\n",
    "full_boston"
   ]
  },
  {
   "cell_type": "markdown",
   "id": "5efbba5a-3323-42c9-9ae8-566e9d7e055b",
   "metadata": {},
   "source": [
    "The table has one row for each of the 22,546 city employees in 2021. \n",
    "\n",
    "The first two columns describe the department and title for each employee.  For example, the employee in the fourth row is a Police Officer in the Boston Police Department.  \n",
    "\n",
    "\n",
    "The next seven columns contain the dollar amounts paid to the employee in the calendar year 2021 for various reasons: \n",
    "\n",
    "* `REGULAR`: the employees base salary.\n",
    "* `RETRO`: retroactive pay from earlier work.\n",
    "* `OTHER`: anything not covered by the other categories.\n",
    "* `OVERTIME`: work beyond regular hours.\n",
    "* `INJURED`: pay for time not worked due to injury.\n",
    "* `DETAIL`: pay for work done as part of special details.\n",
    "* `QUINN_EDUCATION_INCENTIVE`: an incentive program to encourage police officers to earn degrees in law enforcement and criminal justice.\n",
    "\n",
    "The `TOTAL_GROSS` column is the sum of those seven.  In many cases, especially for police officers and fire fighters, the totall gross compensation is much larger that the regular salary because of over-time and special assignment details.\n",
    "\n",
    "For this lab, we will be using `DEPARTMENT_NAME`, `TITLE`, `REGULAR`, and `TOTAL_GROSS`.  Run the next cell to load those columns into the table `boston`"
   ]
  },
  {
   "cell_type": "code",
   "execution_count": null,
   "id": "87abe1cb-b079-46da-8897-d310c6b1d769",
   "metadata": {
    "tags": []
   },
   "outputs": [],
   "source": [
    "boston = full_boston.select(\"TITLE\", \"DEPARTMENT_NAME\", \"REGULAR\", \"TOTAL_GROSS\")\n",
    "boston"
   ]
  },
  {
   "cell_type": "raw",
   "id": "d447b273-1177-4f48-85a1-2dc1294c1d66",
   "metadata": {},
   "source": [
    "# BQ"
   ]
  },
  {
   "cell_type": "markdown",
   "id": "56bcf4ae-8775-4fcf-a430-4834c1c9fc73",
   "metadata": {},
   "source": [
    "#### Part"
   ]
  },
  {
   "cell_type": "markdown",
   "id": "9cb9ebc9-b4af-4a58-8f98-42d473c7c1af",
   "metadata": {},
   "source": [
    "Create a new table of city employees having gross earnings over $100,000. That table should have two columns, `TITLE` and `TOTAL_GROSS`, and be sorted in decreasing order by the latter.  \n",
    "\n",
    "Split your work into multiple lines to make it easier to test and debug!"
   ]
  },
  {
   "cell_type": "raw",
   "id": "de54fed9-e39f-4424-868f-59e5b676294c",
   "metadata": {},
   "source": [
    "# BS"
   ]
  },
  {
   "cell_type": "code",
   "execution_count": null,
   "id": "657369a0-4d2d-48b5-bddf-201765013bf7",
   "metadata": {
    "tags": []
   },
   "outputs": [],
   "source": [
    "over_100k = boston.drop(\"REGULAR\").where(\"TOTAL_GROSS\", are.above(100000)).sort(\"TOTAL_GROSS\", descending=True) # SOLUTION\n",
    "over_100k"
   ]
  },
  {
   "cell_type": "raw",
   "id": "f988bdae-1b0e-413d-92fb-11d2ce1b6905",
   "metadata": {},
   "source": [
    "# ES"
   ]
  },
  {
   "cell_type": "markdown",
   "id": "2fa76b68-e1e7-4c9c-9be3-8cb4d5f98454",
   "metadata": {},
   "source": [
    "You may be surprised by the two outliers at the top of the list.  A quick [web search](https://www.bostonherald.com/2022/02/26/boston-a-six-figure-jackpot-for-city-employees-2-topped-1m/) sheds some light on those two employees (and may also help you validate your other answers below!)."
   ]
  },
  {
   "cell_type": "raw",
   "id": "b9fc37c2-5c18-4910-8518-633d22bb890e",
   "metadata": {},
   "source": [
    "# BT"
   ]
  },
  {
   "cell_type": "code",
   "execution_count": null,
   "id": "621eb8fd-e46a-4699-90c1-0540a48426cc",
   "metadata": {
    "tags": []
   },
   "outputs": [],
   "source": [
    "check(over_100k.num_rows == 8708)"
   ]
  },
  {
   "cell_type": "code",
   "execution_count": null,
   "id": "b61f85dd-a832-4b74-bee5-6915a1d470da",
   "metadata": {
    "tags": []
   },
   "outputs": [],
   "source": [
    "# HIDDEN\n",
    "check(over_100k.row(35).item(\"TOTAL_GROSS\") == 304577)"
   ]
  },
  {
   "cell_type": "raw",
   "id": "f6e79336-4fff-47da-9f0b-5206c535a4c5",
   "metadata": {},
   "source": [
    "# ET;EQ"
   ]
  },
  {
   "cell_type": "raw",
   "id": "56a4c7fe-50b5-4cdf-a67d-5dece188a623",
   "metadata": {},
   "source": [
    "# BQ"
   ]
  },
  {
   "cell_type": "markdown",
   "id": "2b58854d-ebb4-4af3-93e5-e9e31d88ece8",
   "metadata": {},
   "source": [
    "#### Part"
   ]
  },
  {
   "cell_type": "markdown",
   "id": "cea50d15-5426-4ff7-a7f6-7fe455c0f99e",
   "metadata": {},
   "source": [
    "We'd now like to know the number of employees with each `TITLE` having gross earnings greater than \\$100,000.  Use `over_100k` to construct a new table with following two columns (in order):  `TITLE` and `100k Earners`. \n",
    "\n",
    "The `100k Earners` column should report the number of employees given that title who earned over \\$100k.  \n",
    "\n",
    "Split your work into multiple lines to make it easier to test and debug!"
   ]
  },
  {
   "cell_type": "raw",
   "id": "88494f98-1762-4dc4-aa8c-4aa453d3ff84",
   "metadata": {},
   "source": [
    "# BS"
   ]
  },
  {
   "cell_type": "code",
   "execution_count": null,
   "id": "4733185d-74f0-4be4-a1a1-512de77a7d2f",
   "metadata": {
    "tags": []
   },
   "outputs": [],
   "source": [
    "over_100k_by_title = over_100k.group(\"TITLE\").relabeled(\"count\", \"100k Earners\") # SOLUTION \n",
    "over_100k_by_title"
   ]
  },
  {
   "cell_type": "raw",
   "id": "258f0214-3261-41ff-8794-e0399d42ca98",
   "metadata": {},
   "source": [
    "# ES;BT"
   ]
  },
  {
   "cell_type": "code",
   "execution_count": null,
   "id": "c0711e34-6e34-4e99-b3bf-d9f4e64dd45b",
   "metadata": {
    "tags": []
   },
   "outputs": [],
   "source": [
    "check(over_100k_by_title.num_rows == 702)"
   ]
  },
  {
   "cell_type": "code",
   "execution_count": null,
   "id": "fed1e8c7-856a-432e-ad1b-ecb58456619b",
   "metadata": {
    "tags": []
   },
   "outputs": [],
   "source": [
    "check(over_100k_by_title.labels == ('TITLE', '100k Earners'))"
   ]
  },
  {
   "cell_type": "code",
   "execution_count": null,
   "id": "bd31e6d4-c74c-407d-9741-afe8798177c2",
   "metadata": {
    "tags": []
   },
   "outputs": [],
   "source": [
    "# HIDDEN\n",
    "answer = over_100k_by_title.sort(\"100k Earners\", descending=True).column(\"100k Earners\").item(20)\n",
    "check(answer == 46)"
   ]
  },
  {
   "cell_type": "raw",
   "id": "ade071c7-ddc8-463a-966c-8e93de830219",
   "metadata": {},
   "source": [
    "# ET;EQ"
   ]
  },
  {
   "cell_type": "raw",
   "id": "76476e82-16b2-4685-8c83-1fcf21b58243",
   "metadata": {},
   "source": [
    "# BQ"
   ]
  },
  {
   "cell_type": "markdown",
   "id": "7467858d-046e-48d2-a3c4-e5c0d4081645",
   "metadata": {},
   "source": [
    "#### Part"
   ]
  },
  {
   "cell_type": "markdown",
   "id": "44c73996-6560-41ce-8406-62f112c73236",
   "metadata": {},
   "source": [
    "Now create a table that summarizes the total earnings for each department.  \n",
    "\n",
    "Your table should have columns labeled `DEPARTMENT_NAME` and `DEPARTMENT_GROSS`, where the latter is the total gross earnings of all empoloyees in that department.  \n",
    "\n",
    "Sort from highest to lowest department gross earnings. \n",
    "\n",
    "*Note:* This is **not** for the subset of the data that the earnings are over 100k, but rather the entire dataset. \n",
    "\n",
    "\n",
    "*Tips:* Split your work into multiple lines to make it easier to test and debug."
   ]
  },
  {
   "cell_type": "raw",
   "id": "7049df84-848d-4ab4-8354-602a914a1d9a",
   "metadata": {},
   "source": [
    "# BS"
   ]
  },
  {
   "cell_type": "code",
   "execution_count": null,
   "id": "0760976f-eefb-4f8b-92a3-ec5b464fec22",
   "metadata": {
    "tags": []
   },
   "outputs": [],
   "source": [
    "dept_gross_earnings = boston.select(\"DEPARTMENT_NAME\", \"TOTAL_GROSS\").group(\"DEPARTMENT_NAME\", sum).sort(\"TOTAL_GROSS sum\", descending=True).relabeled(\"TOTAL_GROSS sum\", \"DEPARTMENT_GROSS\") # SOLUTION \n",
    "dept_gross_earnings"
   ]
  },
  {
   "cell_type": "raw",
   "id": "28973176-8261-4f92-aff6-4f8663733d73",
   "metadata": {},
   "source": [
    "# ES;BT"
   ]
  },
  {
   "cell_type": "code",
   "execution_count": null,
   "id": "bc5797db-cd73-4640-9447-b32b6ae0646a",
   "metadata": {},
   "outputs": [],
   "source": [
    "check(dept_gross_earnings.num_rows == 231)"
   ]
  },
  {
   "cell_type": "code",
   "execution_count": null,
   "id": "eef8fca1-74d9-4855-a23e-c349c86ab6f7",
   "metadata": {
    "tags": []
   },
   "outputs": [],
   "source": [
    "check(dept_gross_earnings.labels == ('DEPARTMENT_NAME', 'DEPARTMENT_GROSS'))"
   ]
  },
  {
   "cell_type": "code",
   "execution_count": null,
   "id": "390b4f6f-76d1-4165-b562-f31de8a216f5",
   "metadata": {
    "tags": []
   },
   "outputs": [],
   "source": [
    "# HIDDEN\n",
    "check(dept_gross_earnings.row(35).item(\"DEPARTMENT_GROSS\") == 8924511)"
   ]
  },
  {
   "cell_type": "raw",
   "id": "7f2f5d34-7608-40dc-91b8-1111da7111cc",
   "metadata": {},
   "source": [
    "# ET;EQ"
   ]
  },
  {
   "cell_type": "raw",
   "id": "71ef86bd-63d1-491f-aa68-6e73b636f6b6",
   "metadata": {},
   "source": [
    "# BQM"
   ]
  },
  {
   "cell_type": "markdown",
   "id": "645fc64a-8192-4b31-8548-4f5eccf5933b",
   "metadata": {},
   "source": [
    "#### Part"
   ]
  },
  {
   "cell_type": "markdown",
   "id": "bdcf72bb-328c-478d-848b-c60a242cf180",
   "metadata": {},
   "source": [
    "Create a bar chart showing the department gross earnings for the top 15 departments when ranked by total gross earnings."
   ]
  },
  {
   "cell_type": "raw",
   "id": "3378c895-ec31-48ae-ac6d-a840c4d4421c",
   "metadata": {},
   "source": [
    "# BS"
   ]
  },
  {
   "cell_type": "code",
   "execution_count": null,
   "id": "ebdd0b2a-ebaa-495d-a6ac-2e9fdcc0918d",
   "metadata": {
    "tags": []
   },
   "outputs": [],
   "source": [
    "dept_gross_earnings.take(np.arange(15)).barh(\"DEPARTMENT_NAME\") # SOLUTION "
   ]
  },
  {
   "cell_type": "raw",
   "id": "0d1eafab-1610-49a7-b9a0-4137e5765ca8",
   "metadata": {},
   "source": [
    "# ES"
   ]
  },
  {
   "cell_type": "raw",
   "id": "a0b99226-8490-4b43-858d-5d95d8452581",
   "metadata": {
    "tags": []
   },
   "source": [
    "# EQ"
   ]
  },
  {
   "cell_type": "markdown",
   "id": "d429ac7c-68d7-4307-b7df-59a9b184ad24",
   "metadata": {
    "tags": []
   },
   "source": [
    "## 4. Interactive Visualizations and Choropleths"
   ]
  },
  {
   "cell_type": "markdown",
   "id": "35470d80-fcac-450e-814d-cf4b74051d85",
   "metadata": {},
   "source": [
    "<font color='#B1008E'>\n",
    "    \n",
    "##### Learning objectives\n",
    "- Use `interact` to create interactive visualizations.\n",
    "- Create choropleths to present geographic information.\n",
    "</font>"
   ]
  },
  {
   "cell_type": "markdown",
   "id": "309e3168-4bd0-4431-bed3-7699dbe726dc",
   "metadata": {},
   "source": [
    "Let's look at the capabilities of the `interact` function we introduced above.  \n",
    "\n",
    "The function `interact` takes as an input argument the function `f`, and additional arguments describing the choice of values for each parameter to `f`, as well as how the user will choose a value.  \n",
    "\n",
    "Below, our function of interest is `sum_three`, which takes three parameters -- `a`, `b`, and `c` -- and prints their sum.  We call interact with `sum_three` and the three keyword arguments describing that:\n",
    "* `a` can take on the values 1, 2, ..., 20, and the choice is presented as a *slider*.\n",
    "* `b` can take on either 5 or 10, and the choice is presented as a *popup choice menu*.\n",
    "* `c` can only be 100, and there is *no choice* for the user to make.\n",
    "\n"
   ]
  },
  {
   "cell_type": "code",
   "execution_count": null,
   "id": "a67b9155-f273-4aba-a185-3b90657ac925",
   "metadata": {
    "tags": []
   },
   "outputs": [],
   "source": [
    "# Run this cell and play around with the resulting interaction\n",
    "def sum_three(a,b,c):\n",
    "    print()\n",
    "    print(\"     Sum = \", a + b + c)\n",
    "    print()\n",
    "\n",
    "interact(sum_three, \n",
    "         a=Slider(1,20),\n",
    "         b=Choice(5,10),\n",
    "         c=Fixed(100))"
   ]
  },
  {
   "cell_type": "markdown",
   "id": "1845d04b-be13-4a5a-b7c0-6e1ff8e8b022",
   "metadata": {},
   "source": [
    "The following cell loads the `vdem` table, which contains several key indicies for measuring democracy in the [The V-Dem Dataset](https://v-dem.net/data/the-v-dem-dataset/), which the authors describe as a data set containing \"the world's most comprehensive and detailed democracy ratings\".   "
   ]
  },
  {
   "cell_type": "code",
   "execution_count": null,
   "id": "9472d420-193a-4b2a-a2bf-bcd52d8533dc",
   "metadata": {
    "tags": []
   },
   "outputs": [],
   "source": [
    "vdem = Table().read_table('vdem-clean.csv')\n",
    "vdem.where('year', 2022).show(10)"
   ]
  },
  {
   "cell_type": "markdown",
   "id": "d4b66059-4ae7-496d-8413-4d4ee4cc79cf",
   "metadata": {},
   "source": [
    "A few notes about the column variables we'll focus on:\n",
    "* **geo**: Each country's three-letter code established by the [International Organization for Standardization](https://en.wikipedia.org/wiki/International_Organization_for_Standardization) (ISO) in the [Alpha-3](https://en.wikipedia.org/wiki/ISO_3166-1_alpha-3#Current_codes) standard.\n",
    "* **polyarchy:** A numerical value between 0 and 1 that measures \"*to what extent is the ideal of electoral democracy in its fullest sense achieved?*\"  \n",
    "    \n",
    "* **liberal:**  A numerical value between 0 and 1 that measures \"*to what extent is the liberal principle of democracy achieved?*\""
   ]
  },
  {
   "cell_type": "markdown",
   "id": "236eace7-96a2-41a7-af11-f489827de56f",
   "metadata": {},
   "source": [
    "Run the following cell to see a longitudinal plot of our democracy metrics for the United States.  The code defines a function `country_indices` that extracts the relevant rows for the given country name and plots them as a long plot."
   ]
  },
  {
   "cell_type": "code",
   "execution_count": null,
   "id": "10023ede-fa2f-4d9d-8c9c-7d84e35fc8d6",
   "metadata": {
    "tags": []
   },
   "outputs": [],
   "source": [
    "def country_indices(country_name):\n",
    "    plot = vdem.where('country', country_name).select('year', 'polyarchy', 'liberal').plot('year')\n",
    "    plot.set_ylim(0,1)\n",
    "    plot.set_title(\"Indices for \" + country_name)\n",
    "    \n",
    "country_indices('United States of America')"
   ]
  },
  {
   "cell_type": "markdown",
   "id": "2135792b-8eb8-462a-b747-5a3144c983b1",
   "metadata": {},
   "source": [
    "These plots reflect a number of key aspects in our country's history that you may be able to identify.  For example: \n",
    "- Why may the measure of polyarchy have jumped up right arount 1920?  \n",
    "- How about the upward trend for the measure of liberal principle from about 1965-1975?  \n",
    "- Since 2000, why are there notable shifts in polyarchy about every four years?"
   ]
  },
  {
   "cell_type": "raw",
   "id": "eed84cd8-5dc1-40d7-9ad5-53a3452c4411",
   "metadata": {},
   "source": [
    "# BQM"
   ]
  },
  {
   "cell_type": "markdown",
   "id": "84535703-56e2-4a5c-a4a0-19ee32a496f5",
   "metadata": {},
   "source": [
    "#### Part"
   ]
  },
  {
   "cell_type": "markdown",
   "id": "8adc208a-267d-499d-8ff4-5a720f977708",
   "metadata": {},
   "source": [
    "**Interactive visualization.** Let's create interactive visualization that generates a similar graph for every country in our dataset by selecting the country's name from a *popup choice menu*.  We create a list of all country names for you to use.\n",
    "\n",
    "*Hint*: If you're stuck, look back at how we used the `sum_three` function with `interact`. "
   ]
  },
  {
   "cell_type": "raw",
   "id": "fc8981b5-1ffd-418e-a56a-5ac929187d28",
   "metadata": {},
   "source": [
    "# BS"
   ]
  },
  {
   "cell_type": "code",
   "execution_count": null,
   "id": "cf7f25f6-2330-4ee4-bc7f-58a5c8c14137",
   "metadata": {
    "tags": []
   },
   "outputs": [],
   "source": [
    "all_countries = np.unique(vdem.column('country'))   # all countries in vdem dataset\n",
    "\n",
    "# BEGIN SOLUTION NO PROMPT\n",
    "interact(country_indices, country_name = Choice(all_countries))\n",
    "# END SOLUTION\n",
    "\"\"\" # BEGIN PROMPT\n",
    "interact(..., ... = ...)\n",
    "\"\"\"; # END PROMPT"
   ]
  },
  {
   "cell_type": "raw",
   "id": "77e40576-dd35-45ba-b450-fd0d3bf8915d",
   "metadata": {},
   "source": [
    "# ES"
   ]
  },
  {
   "cell_type": "raw",
   "id": "cf5e739d-c187-4f14-abea-df41657cd20b",
   "metadata": {},
   "source": [
    "# EQ"
   ]
  },
  {
   "cell_type": "raw",
   "id": "0e594967-d5b9-4777-bde0-d7fa208ae044",
   "metadata": {
    "tags": []
   },
   "source": [
    "# BQM"
   ]
  },
  {
   "cell_type": "markdown",
   "id": "53a1ba8b-85f8-4c1a-b524-2c8931fa245f",
   "metadata": {},
   "source": [
    "#### Part"
   ]
  },
  {
   "cell_type": "markdown",
   "id": "c836d868-9b77-40b9-99a7-358df46c26fe",
   "metadata": {
    "tags": []
   },
   "source": [
    "We now return to the final column in our table, **regime**.  This is a categorical variable answering the question \"*How can the political regime overall be classified considering the competitiveness of access to power (polyarchy) as well as liberal principles?*\"  There are four values we summarize here:\n",
    "\n",
    "* **0: Closed autocracy.** No multiparty elections.\n",
    "* **1: Electoral autocracy.** De-jure multiparty elections but elections may not be free or fair.\n",
    "* **2: Electoral democracy.** De-facto free and fair multiparty elections, but does not necessarily satisfy principles such as access to justice transparent law enforcement, or rule of law.\n",
    "* **3: Liberal democracy.** De-facto free and fair multiparty elections and does satisfy principles such as access to justice transparent law enforcement, or rule of law.\n",
    "    \n",
    "The regime classification is made using a formula based on the other variables to categorize each country, including the two explored above.  \n",
    "\n",
    "[Choropleth maps](https://en.wikipedia.org/wiki/Choropleth_map) are a particular type of visualization that are excellent for presenting information like this.  We can create a country-level choropleth by first constructing a table with two columns: 1) geocodes and 2) the values for the countries with those codes.  The `Countries.map_table` function then creates the visualization by converting the values to a color scale and then coloring each country on a world map according to that scale.  Here is an example for regime."
   ]
  },
  {
   "cell_type": "code",
   "execution_count": null,
   "id": "78a017a1-8f6b-44e3-8bcc-6bb8f84b8d15",
   "metadata": {},
   "outputs": [],
   "source": [
    "geo_regime = vdem.where('year', 2022).select('geo', 'regime')\n",
    "Countries.map_table(geo_regime, palette=\"RdBu\")   \n",
    "# palette describes the color scale.  Try: \"Spectral\", \"BuGn\", \"RdYlGn\" too!"
   ]
  },
  {
   "cell_type": "markdown",
   "id": "5e255e9e-8356-44bd-8a89-f5cef3333a79",
   "metadata": {},
   "source": [
    "Now we'll make an interactive visualization for any year between 1900 and 2022.  First complete the following function `visualize_regime` that creates a choropleth like the one above for a given year."
   ]
  },
  {
   "cell_type": "raw",
   "id": "b326ce69-dde2-4a30-ac45-2dd2f6ec6c07",
   "metadata": {},
   "source": [
    "# BS"
   ]
  },
  {
   "cell_type": "code",
   "execution_count": null,
   "id": "3aef0878-5ef7-43bf-8451-3acf5d3da4b1",
   "metadata": {},
   "outputs": [],
   "source": [
    "def visualize_regime(year):\n",
    "    geo_regime = vdem.where('year', year).select('geo', 'regime') # SOLUTION\n",
    "    Countries.map_table(geo_regime, palette=\"RdBu\")\n",
    "    \n",
    "visualize_regime(2022) # Should look like the one above."
   ]
  },
  {
   "cell_type": "raw",
   "id": "34f010dc-f3ab-4679-97fc-77a0c0b059de",
   "metadata": {},
   "source": [
    "# ES"
   ]
  },
  {
   "cell_type": "raw",
   "id": "9ac4a324-1143-488b-a3ed-a768b4bf96db",
   "metadata": {},
   "source": [
    "# EQ"
   ]
  },
  {
   "cell_type": "raw",
   "id": "f2fab56a-1df6-41f1-bbe6-1e2abc488c78",
   "metadata": {},
   "source": [
    "# BQM"
   ]
  },
  {
   "cell_type": "markdown",
   "id": "6942b583-9df9-43c2-9722-66e8296506b2",
   "metadata": {},
   "source": [
    "#### Part "
   ]
  },
  {
   "cell_type": "markdown",
   "id": "dabb1c74-0ddf-4f6a-9cf5-02d168663a5f",
   "metadata": {},
   "source": [
    "Now, call `interact` on your `visualize_regime` function and let the user pick a `year` between 1900 and 2022 using a slider."
   ]
  },
  {
   "cell_type": "raw",
   "id": "56601da4-aa65-423d-a624-63b361476801",
   "metadata": {},
   "source": [
    "# BS"
   ]
  },
  {
   "cell_type": "code",
   "execution_count": null,
   "id": "8c36a909-ad5e-4275-8eff-0c064945710f",
   "metadata": {},
   "outputs": [],
   "source": [
    "# BEGIN SOLUTION NO PROMPT\n",
    "# interact(visualize_regime, year=Slider(1900, 2022)) #Katie: This was stalling out when I run make with it \n",
    "# END SOLUTION\n",
    "\"\"\" # BEGIN PROMPT\n",
    "interact(..., ... = ...)\n",
    "\"\"\"; # END PROMPT"
   ]
  },
  {
   "cell_type": "raw",
   "id": "ff978c3d-e765-46b6-9466-c123e9ac36b0",
   "metadata": {
    "tags": []
   },
   "source": [
    "# ES"
   ]
  },
  {
   "cell_type": "markdown",
   "id": "55fc9b26-1729-4917-b51c-9ba1c8b382ab",
   "metadata": {},
   "source": [
    "[Extra] If you would like to explore this question further, add additional cells below (using the \"+\" button in the toolbar) and try some of the following visualizations:\n",
    "* Create a choropleth of the **change** in polyarchy score from 2000 to 2022.  Then create an interactive visualization that shows you the change from any year in the range 2000-2021 and 2022.\n",
    "* Explore whether `polyarchy` and `liberal` are related by plotting those indices for 2022 in a scatter plot.  Create an interactive visualization that lets you plot that information for any year.\n",
    "* Generalize `regime` to a new function that takes both the year, and the variable to plot (`regime`, `polyarchy` or `liberal`).  Create an interactive choropleth using your function that lets the user set both the year and the variable to present."
   ]
  },
  {
   "cell_type": "raw",
   "id": "a35f87c4-acbb-411c-ae50-4608054345ee",
   "metadata": {},
   "source": [
    "# EQ"
   ]
  },
  {
   "cell_type": "markdown",
   "id": "fb19c3ac-3ef0-4484-b15e-5d5f4bee0740",
   "metadata": {},
   "source": [
    "## 5. Explore the Data"
   ]
  },
  {
   "cell_type": "markdown",
   "id": "4e3deca0",
   "metadata": {},
   "source": [
    "<font color='#B1008E'>\n",
    "    \n",
    "##### Learning objectives\n",
    "- Apply your experience manipulating tables and creating visualizations to creative, open-ended problems"
   ]
  },
  {
   "cell_type": "markdown",
   "id": "1d967ebf-1510-4942-9779-423a844bf861",
   "metadata": {},
   "source": [
    "In this question, we'd like you to further explore one of the data sets from this lab. \n",
    "\n",
    "You goal is to make **one concrete quantitative statement** about what the data shows, beyond what we explored in the questions above.\n",
    "\n",
    "This question is intentionally open ended, and you may take it in any direction you like.  There are two parts:\n",
    "\n",
    "1. In the first part, you'll write some code to explore and visualize the data.\n",
    "2. In the second part, you'll tell us what you discovered and how the first part supports your conclusions.\n",
    "\n",
    "If you are having trouble getting started, here are two ideas:\n",
    "* Tell us something about our penguin species: does flipper length correlate to body mass?  Are males always larger on average than females for each species, and is the ratio between male/female weights roughly the same for each species?  There is one species on all three islands -- are those three groups meaningfully different in terms of bill length, mass, etc?\n",
    "* Define a \"bang for buck\" metric for our burrito data that is an item's rating divided by cost.  From that, tell us which items are the greatest deal (most \"bang for buck\") and the worst deal (least \"bang for buck\").  Also, does it appear that price and rating are strongly correlated?\n",
    "* Which countries have seen the greatest positive/negative change in the `polyarchy` and `liberal` metrics since 2002?"
   ]
  },
  {
   "cell_type": "raw",
   "id": "15acbd2c-8afa-499e-af7d-28592a7cd064",
   "metadata": {},
   "source": [
    "# BQM"
   ]
  },
  {
   "cell_type": "markdown",
   "id": "baf8609b-1719-4807-8dfa-b35812bc20cb",
   "metadata": {},
   "source": [
    "#### Part"
   ]
  },
  {
   "cell_type": "markdown",
   "id": "7bf25ab0-1092-4468-bba8-b00cff46d5c3",
   "metadata": {},
   "source": [
    "In the cell below, write the code to investigate the property you are interested in looking at.\n",
    "\n",
    "*Note:* We give you one code cell for your Python code below.  You may add as many additional cells as you like.  Just click the `+` sign in this tab's toolbar to insert a new cell.  Then select \"Markdown\" from the toolbar's popup menu if you want the new cell to be for text, or \"Code\" if you want it to be for Python code.  Markdown cells can include basic formatting.  Click on any of our formatted text cells to see how to create lists, bold text, etc., or have a look [here](https://www.markdownguide.org/basic-syntax)."
   ]
  },
  {
   "cell_type": "raw",
   "id": "94f37961-bb6b-471a-be54-aa647ed776cc",
   "metadata": {},
   "source": [
    "# BS"
   ]
  },
  {
   "cell_type": "code",
   "execution_count": null,
   "id": "edab9fb0-8402-4ab4-a369-5f93cc47480a",
   "metadata": {},
   "outputs": [],
   "source": [
    "# Your code goes here.  \n",
    "\n",
    "# BEGIN SOLUTION\n",
    "\n",
    "penguins.group([\"species\", \"island\"], np.mean).show()\n",
    "\n",
    "burritos_bang = burritos.with_column(\"Bang For Buck\", burritos.column(\"Overall\") / burritos.column(\"Cost\"))\n",
    "burritos_bang.scatter(\"Overall\", \"Cost\", fit_line=True)\n",
    "burritos_bang.hist(\"Bang For Buck\", bins=20)\n",
    "burritos_bang.sort(\"Bang For Buck\", descending=False)\n",
    "# END SOLUTION"
   ]
  },
  {
   "cell_type": "raw",
   "id": "19ab87f8-efe9-4281-ad35-1d967258db56",
   "metadata": {},
   "source": [
    "# ES"
   ]
  },
  {
   "cell_type": "raw",
   "id": "cdbb879b-20a5-401b-815b-fb9aff89350c",
   "metadata": {},
   "source": [
    "# EQ"
   ]
  },
  {
   "cell_type": "raw",
   "id": "dabf65f4-e630-4645-8cfb-4cc5aaf18e37",
   "metadata": {},
   "source": [
    "# BQM"
   ]
  },
  {
   "cell_type": "markdown",
   "id": "00fdde68-711a-4ad8-b96f-fb6e186081d8",
   "metadata": {},
   "source": [
    "#### Part"
   ]
  },
  {
   "cell_type": "markdown",
   "id": "62d9a649-0c7a-41ef-b068-c180dd4e19e0",
   "metadata": {},
   "source": [
    "In this cell below, state a **quantitative property** you discovered for the dataset you examined in the first part.  Write a couple sentences stating your conclusion and how your work in the first part supports that conclusion."
   ]
  },
  {
   "cell_type": "raw",
   "id": "a0a5c557-d49f-4e5f-9929-05d913a7eff3",
   "metadata": {},
   "source": [
    "# BS"
   ]
  },
  {
   "cell_type": "markdown",
   "id": "2c0c4a84-cdaf-4651-a9e5-b6fa92d6c32b",
   "metadata": {
    "tags": []
   },
   "source": [
    "Answer here."
   ]
  },
  {
   "cell_type": "raw",
   "id": "f5617c9d-7d2a-4fed-8319-88eab972114d",
   "metadata": {},
   "source": [
    "# ES"
   ]
  },
  {
   "cell_type": "raw",
   "id": "5662d9f7-9ce7-4d76-9c22-466f295d056d",
   "metadata": {},
   "source": [
    "# EQ"
   ]
  },
  {
   "cell_type": "markdown",
   "id": "63a19c5b-0590-4f4b-92c4-2341c6cb6a83",
   "metadata": {},
   "source": [
    "## 6. Extra Credit: Better Prediction of Children's Heights"
   ]
  },
  {
   "cell_type": "markdown",
   "id": "fc98140a-e200-40d9-b0cb-c696df2fa088",
   "metadata": {
    "tags": []
   },
   "source": [
    "This question is entirely **optional**.  We'll award up to 5 points of extra credit towards your lab score this week if you wish to work on it.\n",
    "\n",
    "We begin by revisiting the child height predictions for the \"galton\" data set from lecture.  Recall that we predict a child's height based on the average height of their parents.  Specifically, we predict a child's height to be the average of the heights of all children whose parents had the same average height (+/- 0.5 inches) as that child.  Below, we include our code from lecture to compute the prediction and plot the results."
   ]
  },
  {
   "cell_type": "code",
   "execution_count": null,
   "id": "3cd044f7-7f47-46bb-86a8-94ed4f270ee2",
   "metadata": {},
   "outputs": [],
   "source": [
    "# The original measurements\n",
    "galton = Table.read_table('galton.csv')\n",
    "heights = galton.select('father', 'mother', 'childHeight', 'gender').relabeled(2, 'child')\n",
    "\n",
    "def average(x, y):\n",
    "    \"\"\"Compute the average of two values\"\"\"\n",
    "    return (x+y)/2\n",
    "\n",
    "# Compute the parent average heights and add to table.\n",
    "parent_avg = heights.apply(average, 'mother', 'father')\n",
    "heights = heights.with_columns('parent average', parent_avg)"
   ]
  },
  {
   "cell_type": "code",
   "execution_count": null,
   "id": "9a0cf645-1ef7-4226-aa97-6aca8ead485f",
   "metadata": {},
   "outputs": [],
   "source": [
    "# Add a prediction column that has a prediction of that child's\n",
    "# height based on the parents' average height.\n",
    "\n",
    "def predict_child(parent_avg_height):\n",
    "    \"\"\"Given the parent's average height, compute a prediction for their \n",
    "       children's height by averaging the heights of all children whose \n",
    "       parents had the same average +/- 0.5 inches.\"\"\"\n",
    "    close_points = heights.where('parent average', are.between(parent_avg_height - 0.5, parent_avg_height + 0.5))\n",
    "    return close_points.column('child').mean()          \n",
    "\n",
    "predicted = heights.apply(predict_child, 'parent average')\n",
    "height_pred = heights.with_columns('prediction', predicted)\n",
    "height_pred.show(10)"
   ]
  },
  {
   "cell_type": "code",
   "execution_count": null,
   "id": "4c1b69c0-2641-4214-bc3c-a3c11b451dcc",
   "metadata": {
    "tags": []
   },
   "outputs": [],
   "source": [
    "# A plot of the predicted height for each child.\n",
    "height_pred.select('child', 'parent average', 'prediction').scatter('parent average')"
   ]
  },
  {
   "cell_type": "raw",
   "id": "e6e0742f-f19c-4d9c-96d2-00bec691f8f0",
   "metadata": {},
   "source": [
    "# BQM 0"
   ]
  },
  {
   "cell_type": "markdown",
   "id": "03523f98-9276-4267-a764-213faeff7a36",
   "metadata": {
    "tags": []
   },
   "source": [
    "#### Part"
   ]
  },
  {
   "cell_type": "markdown",
   "id": "bb255919-6801-4139-ae48-ae94f7bfafe5",
   "metadata": {},
   "source": [
    "We want to quantify our prediction accuracy, and then develop a model with better accuracy.  \n",
    "\n",
    "To do this, we'll first define the error of a prediction to be the difference between the predicted and actual height of a child.  If the prediction is too high, we are left with a positive error term; if it is too low, we are left with a negative error term.  \n",
    "\n",
    "Add a column called `error` to the `height_pred` table capturing the error for each row.  To check your work, the first three error terms for the data set are -3.1, 0.9, and 1.1."
   ]
  },
  {
   "cell_type": "raw",
   "id": "1b42a49a-875d-4863-a4af-03e5072fa01d",
   "metadata": {},
   "source": [
    "# BS"
   ]
  },
  {
   "cell_type": "code",
   "execution_count": null,
   "id": "f33724c9-4c16-4bbe-aa73-9d27c20707b0",
   "metadata": {},
   "outputs": [],
   "source": [
    "# BEGIN SOLUTION\n",
    "height_pred = height_pred.with_columns(\n",
    "    'error', height_pred.column('prediction') - height_pred.column('child')\n",
    ")\n",
    "# END SOLUTION\n",
    "height_pred.show(10)"
   ]
  },
  {
   "cell_type": "raw",
   "id": "cae7f4fd-1177-4cdd-9a51-6bf1c608ec30",
   "metadata": {},
   "source": [
    "# ES"
   ]
  },
  {
   "cell_type": "raw",
   "id": "1ef7baf0-0ea0-4df8-b9a6-0b07fa2dfe74",
   "metadata": {},
   "source": [
    "# EQ"
   ]
  },
  {
   "cell_type": "raw",
   "id": "5c04d056-d836-4e99-b675-79a4fbf93e3a",
   "metadata": {},
   "source": [
    "# BQM 0"
   ]
  },
  {
   "cell_type": "markdown",
   "id": "d1e84ccf-f3e6-4c4d-8050-b4f9a7cf6ef0",
   "metadata": {},
   "source": [
    "#### Part"
   ]
  },
  {
   "cell_type": "markdown",
   "id": "9c1f1e6c-cda4-4125-b6b2-2b0c49b3ff07",
   "metadata": {},
   "source": [
    "Now plot a histogram of the \"error\" column.  \n",
    "\n",
    "*Hint:* You should see a fairly symmetric curve centered around 0 with tails that extend to about -8 and +9."
   ]
  },
  {
   "cell_type": "raw",
   "id": "9dc4d3ad-74cb-4664-8440-3587fbb9a382",
   "metadata": {},
   "source": [
    "# BS"
   ]
  },
  {
   "cell_type": "code",
   "execution_count": null,
   "id": "294ca491-0f0f-4918-a67b-6b26017e902d",
   "metadata": {},
   "outputs": [],
   "source": [
    "height_pred.hist('error', bins=np.arange(-10,10,1)) # SOLUTION"
   ]
  },
  {
   "cell_type": "raw",
   "id": "cd47cd15-c795-4662-9092-d76494666bca",
   "metadata": {},
   "source": [
    "# ES"
   ]
  },
  {
   "cell_type": "raw",
   "id": "1d037012-5259-456c-8e80-df4738839803",
   "metadata": {},
   "source": [
    "# EQ"
   ]
  },
  {
   "cell_type": "raw",
   "id": "806778dd-e09e-4ce5-9da1-c4be31e701bc",
   "metadata": {},
   "source": [
    "# BQM 0"
   ]
  },
  {
   "cell_type": "markdown",
   "id": "6693c3c0-2fc5-405b-b5c2-e5826be32875",
   "metadata": {},
   "source": [
    "#### Part"
   ]
  },
  {
   "cell_type": "markdown",
   "id": "2cb47330-5990-495e-be13-54b3c55b22ff",
   "metadata": {},
   "source": [
    "We'll now explore whether the errors correlate with gender.  Create an overlaid histogram for the \"error\" column grouping by gender."
   ]
  },
  {
   "cell_type": "raw",
   "id": "9a9060db-ce0a-4c5a-8cc1-de44459a0f16",
   "metadata": {},
   "source": [
    "# BS"
   ]
  },
  {
   "cell_type": "code",
   "execution_count": null,
   "id": "c5df40cd-8b84-4ee7-81e8-d09420c02d0c",
   "metadata": {},
   "outputs": [],
   "source": [
    "height_pred.hist('error', bins=np.arange(-10,10,1), group=\"gender\") # SOLUTION"
   ]
  },
  {
   "cell_type": "raw",
   "id": "d3fc50e9-203d-4315-b4b4-6e27c0f47f98",
   "metadata": {},
   "source": [
    "# ES"
   ]
  },
  {
   "cell_type": "raw",
   "id": "0afbb4e1-4b6f-444d-9883-dc61a2ae8b2f",
   "metadata": {},
   "source": [
    "# EQ"
   ]
  },
  {
   "cell_type": "raw",
   "id": "5d215817-9156-4f04-b062-18a57af63369",
   "metadata": {},
   "source": [
    "# BQM 0"
   ]
  },
  {
   "cell_type": "markdown",
   "id": "b0543867-8de2-4432-a77e-c50a4bf800be",
   "metadata": {},
   "source": [
    "#### Part"
   ]
  },
  {
   "cell_type": "markdown",
   "id": "720e5233-0800-4d3a-bfad-8af0ef15a1f0",
   "metadata": {},
   "source": [
    "Does your histogram show systematic bias in the predictions, where all of the guesses for a particular gender are skewed?  Explain what the histogram illustrates with respect to prediction bias."
   ]
  },
  {
   "cell_type": "raw",
   "id": "dab8e694-21d3-419d-a9b1-820712d1dd5c",
   "metadata": {},
   "source": [
    "# BS"
   ]
  },
  {
   "cell_type": "markdown",
   "id": "dc5e18b6-041b-4ed1-a7c4-ef34e977541d",
   "metadata": {},
   "source": [
    "**Answer:**  We are averaging all children heights within a certain parent-height-average range, but we know that the distributions of heights for men and women are different.  So, our prediction based on that average will likely be too high for the women and too low for the men."
   ]
  },
  {
   "cell_type": "raw",
   "id": "875de106-a0b1-4117-9092-6ca30e2965ab",
   "metadata": {},
   "source": [
    "# ES"
   ]
  },
  {
   "cell_type": "raw",
   "id": "aa93a61f-7daf-4d36-bda4-0d8374ce7d64",
   "metadata": {},
   "source": [
    "# EQ"
   ]
  },
  {
   "cell_type": "raw",
   "id": "08c70d3c-9194-4c6f-96d7-190d0ae39417",
   "metadata": {},
   "source": [
    "# BQM 0"
   ]
  },
  {
   "cell_type": "markdown",
   "id": "16f3e46d-3f81-48ab-9491-fc516fb34839",
   "metadata": {},
   "source": [
    "#### Part"
   ]
  },
  {
   "cell_type": "markdown",
   "id": "546c451e-202e-47df-93c6-40fe9b80ac48",
   "metadata": {},
   "source": [
    "We'd now like you to build a more accurate prediction model.  The key idea is that when you predict a child's height, you should only look at the heights of other children with the *same gender* when computing an average height for those with parents with similar average height.  \n",
    "\n",
    "The end result of the code you write for this part should be a new table, `height_with_both_pred` that contains everything in `height_pred` plus two new columns:\n",
    "\n",
    "* `prediction with gender`: the new predictions that consider each child's gender.\n",
    "* `error with gender`: the error values for your new predictions.\n",
    "\n",
    "Test your code as you write it, and create scatter plots and histograms you believe will be useful for understanding whether your code is working.\n",
    "\n",
    "You will explain the conclusions you are able draw from this exercise in the next part.\n",
    "\n",
    "*Note:* We give you one code cell below.  You may add as many additional cells as you like.  Just click the `+` sign in this tab's toolbar to insert a new cell.  Then select \"Markdown\" from the toolbar's popup menu if you want the new cell to be for text, or \"Code\" if you want it to be for Python code.  Markdown cells can include basic formatting.  Click on any of our formatted text cells to see how to create lists, bold text, etc., or have a look [here](https://www.markdownguide.org/basic-syntax).\n"
   ]
  },
  {
   "cell_type": "raw",
   "id": "92b4795d-cfbb-48b3-9bb9-59a2581dfa62",
   "metadata": {},
   "source": [
    "# BS"
   ]
  },
  {
   "cell_type": "code",
   "execution_count": null,
   "id": "d69c02d3-f8da-4c47-b6ee-03290057f0bb",
   "metadata": {
    "tags": []
   },
   "outputs": [],
   "source": [
    "# BEGIN SOLUTION\n",
    "def predict_child_with_gender(parent_avg_height, gender):\n",
    "    close_points = height_pred.where('parent average', are.between(parent_avg_height - 0.5, parent_avg_height + 0.5)).where('gender', are.equal_to(gender))\n",
    "    return close_points.column('child').mean()         \n",
    "\n",
    "predicted = height_pred.apply(predict_child_with_gender, 'parent average', 'gender')\n",
    "height_with_both_pred = height_pred.with_columns('prediction with gender', predicted)\n",
    "\n",
    "height_with_both_pred = height_with_both_pred.with_columns(\n",
    "    'error with gender', height_with_both_pred.column('prediction with gender') - height_with_both_pred.column('child')\n",
    ")\n",
    "\n",
    "# END SOLUTION"
   ]
  },
  {
   "cell_type": "raw",
   "id": "507cd468-8441-4df7-aa8f-56c24a804c8c",
   "metadata": {},
   "source": [
    "# ES"
   ]
  },
  {
   "cell_type": "markdown",
   "id": "29433d4e-c589-4c97-abec-7813b239ee3c",
   "metadata": {},
   "source": [
    "The following lines should provide insight into what your new prediction model predicts for each child, and also what the error  distribution looks like, when compared to the original."
   ]
  },
  {
   "cell_type": "raw",
   "id": "5efdb1a4-ef32-4391-8130-049cd643822b",
   "metadata": {},
   "source": [
    "# BEGIN EDITABLE"
   ]
  },
  {
   "cell_type": "code",
   "execution_count": null,
   "id": "928f03b4-cfce-4c98-a4de-2438fb106ef3",
   "metadata": {},
   "outputs": [],
   "source": [
    "# Assuming you used the names for columns described above, these lines plot two key graphs you \n",
    "# will want to examine.\n",
    "\n",
    "# Uncomment these lines:\n",
    "# height_with_both_pred.select('child', 'parent average', 'prediction with gender').scatter('parent average')\n",
    "# height_with_both_pred.hist('error', 'error with gender')"
   ]
  },
  {
   "cell_type": "raw",
   "id": "f991cc35-daf6-4d27-bdc5-2e9db21b4f10",
   "metadata": {},
   "source": [
    "# END EDITABLE"
   ]
  },
  {
   "cell_type": "raw",
   "id": "34718b05-3f4e-4023-942c-b18be9a22ba6",
   "metadata": {},
   "source": [
    "# EQ"
   ]
  },
  {
   "cell_type": "raw",
   "id": "55bec034-ac3e-4adc-a5ce-a57e61ace7be",
   "metadata": {},
   "source": [
    "# BQM 0"
   ]
  },
  {
   "cell_type": "markdown",
   "id": "8dc09480-e6c2-47e7-84c3-088af2b1549a",
   "metadata": {},
   "source": [
    "#### Part"
   ]
  },
  {
   "cell_type": "markdown",
   "id": "d380f4da-02e0-4719-9d2d-181bf6e1b8f3",
   "metadata": {},
   "source": [
    "Explain the graphs in the previous part.  What does the scatter plot show, and why?  Does the histogram demonstrate improved prediction?  Why do you conclude that?"
   ]
  },
  {
   "cell_type": "raw",
   "id": "f8dd8537-1656-4ea9-9f6b-dc4d0f52e2d1",
   "metadata": {},
   "source": [
    "# BS"
   ]
  },
  {
   "cell_type": "markdown",
   "id": "e34f71bb-a21b-4735-9d18-0c2f600cf83b",
   "metadata": {},
   "source": [
    "The scatter plot shows two \"lines\" of points, with the higher being for male children and the lower being for females.  There is a clear difference in the predictions for heights of children when gender is considered.  The histogram shows a greater percent of predictions with errors close to 0, and fewer predictions with large errors.  So, overall, prediction has improved."
   ]
  },
  {
   "cell_type": "raw",
   "id": "4e871cfb-9b40-4a22-91a5-cff7e554fe82",
   "metadata": {},
   "source": [
    "# ES;EQ"
   ]
  },
  {
   "cell_type": "raw",
   "id": "cf09de24-fff8-4e0b-b058-691ef7cbc90a",
   "metadata": {},
   "source": [
    "# submit"
   ]
  }
 ],
 "metadata": {
  "ipyflow": {
   "cell_children": {
    "0291aa70-8ac7-4921-b478-3ff30dd911d2": [],
    "065cc0a1": [
     "b0c83b65",
     "1e54bf8c",
     "7db5f78b"
    ],
    "0760976f-eefb-4f8b-92a3-ec5b464fec22": [],
    "08690349": [
     "d455d6c8-bd82-41b0-b571-a75e6cd4cf09"
    ],
    "0a788b9e": [
     "8d48960b-0e0e-44e9-91dd-ad8691434153",
     "7d78024c-8042-4818-9b10-3a3b06382f68",
     "7fd28d24-93f4-40e3-9151-ef025769a43d",
     "ac3a13c7",
     "1e54bf8c",
     "6f791235-77f4-418f-9c6f-8cda9441099f",
     "a71c4fa9-4eb0-4782-8382-cb5cf3d87a99",
     "7db5f78b",
     "31ad12ee-3766-4749-843b-ac1e3661f935",
     "b0c83b65",
     "065cc0a1"
    ],
    "0e405db8-27fa-4f52-b339-46a5ef9b87e8": [
     "08690349"
    ],
    "10023ede-fa2f-4d9d-8c9c-7d84e35fc8d6": [],
    "10df3cdb": [
     "fbcbb5dd-7c8c-4829-b742-0e5c1cc7bd10"
    ],
    "123879a8-c6e0-41c0-ab26-6e15b497b708": [],
    "1416951a-542b-4783-baf2-c9b0bcf1a581": [],
    "182488f6-a11c-418e-afaa-bac26fd94050": [],
    "1e54bf8c": [
     "ac3a13c7"
    ],
    "294ca491-0f0f-4918-a67b-6b26017e902d": [],
    "2f808552-2a10-44b3-9cf5-750193be5068": [
     "dad8925f-46b4-4fe9-9cd0-551360eac419"
    ],
    "31ad12ee-3766-4749-843b-ac1e3661f935": [
     "a71c4fa9-4eb0-4782-8382-cb5cf3d87a99",
     "7d78024c-8042-4818-9b10-3a3b06382f68",
     "edeac989-05ed-45a4-9869-8a881ca4ba02"
    ],
    "359ffb54": [
     "51196885-8203-4716-837b-7be05c25d47c"
    ],
    "390b4f6f-76d1-4165-b562-f31de8a216f5": [],
    "3aef0878-5ef7-43bf-8451-3acf5d3da4b1": [],
    "3cd044f7-7f47-46bb-86a8-94ed4f270ee2": [],
    "4701dce7": [
     "0e405db8-27fa-4f52-b339-46a5ef9b87e8"
    ],
    "4733185d-74f0-4be4-a1a1-512de77a7d2f": [],
    "47468aa2-2419-491c-8c27-8f37eaf02308": [
     "790ea648-a7dd-4c70-aa8d-c5e21747f825"
    ],
    "49d4e014": [],
    "4c1b69c0-2641-4214-bc3c-a3c11b451dcc": [],
    "4d7b177f-94dc-464f-bfce-bf60ed2a86aa": [],
    "51196885-8203-4716-837b-7be05c25d47c": [
     "8c56d769-2c8a-4cfb-b2d4-671333d07182"
    ],
    "59dbcd6a-a822-4bf1-93c0-1b6301fc45a4": [],
    "5ffb349d-cc60-426e-901f-3750f5a2e6f8": [],
    "60186791-409a-40ab-991f-d83af322c9af": [],
    "621eb8fd-e46a-4699-90c1-0540a48426cc": [],
    "657369a0-4d2d-48b5-bddf-201765013bf7": [],
    "68576238-4acc-486d-8699-6dd20138bcd3": [],
    "6c2c33c4-1b4d-43c5-9fb8-e4e623915c1b": [],
    "6f791235-77f4-418f-9c6f-8cda9441099f": [
     "d5ade5aa-cd6b-4a77-b190-7fbc513e36bd",
     "4d7b177f-94dc-464f-bfce-bf60ed2a86aa",
     "31ad12ee-3766-4749-843b-ac1e3661f935",
     "7fd28d24-93f4-40e3-9151-ef025769a43d"
    ],
    "72f47cfa-0927-4f25-96f1-f1bb667711e0": [],
    "78a017a1-8f6b-44e3-8bcc-6bb8f84b8d15": [],
    "790ea648-a7dd-4c70-aa8d-c5e21747f825": [
     "2f808552-2a10-44b3-9cf5-750193be5068"
    ],
    "7a1a322e-ade2-41a1-95eb-d11193d791c5": [
     "7d78024c-8042-4818-9b10-3a3b06382f68",
     "c5df40cd-8b84-4ee7-81e8-d09420c02d0c",
     "7fd28d24-93f4-40e3-9151-ef025769a43d",
     "ebdd0b2a-ebaa-495d-a6ac-2e9fdcc0918d",
     "cf7f25f6-2330-4ee4-bc7f-58a5c8c14137",
     "1e54bf8c",
     "a71c4fa9-4eb0-4782-8382-cb5cf3d87a99",
     "294ca491-0f0f-4918-a67b-6b26017e902d",
     "31ad12ee-3766-4749-843b-ac1e3661f935",
     "b0c83b65"
    ],
    "7d78024c-8042-4818-9b10-3a3b06382f68": [],
    "7db5f78b": [],
    "7fd28d24-93f4-40e3-9151-ef025769a43d": [],
    "87abe1cb-b079-46da-8897-d310c6b1d769": [],
    "88cbd9e1-4b8e-4459-a1b4-a5bd45d199b1": [
     "4701dce7"
    ],
    "89eb189d-87d0-44ea-a35f-fcef5004204b": [],
    "8c36a909-ad5e-4275-8eff-0c064945710f": [],
    "8c56d769-2c8a-4cfb-b2d4-671333d07182": [
     "10df3cdb"
    ],
    "8d48960b-0e0e-44e9-91dd-ad8691434153": [
     "edab9fb0-8402-4ab4-a369-5f93cc47480a",
     "6f791235-77f4-418f-9c6f-8cda9441099f"
    ],
    "928f03b4-cfce-4c98-a4de-2438fb106ef3": [],
    "9472d420-193a-4b2a-a2bf-bcd52d8533dc": [],
    "9a0cf645-1ef7-4226-aa97-6aca8ead485f": [],
    "a67b9155-f273-4aba-a185-3b90657ac925": [],
    "a71c4fa9-4eb0-4782-8382-cb5cf3d87a99": [],
    "ac3a13c7": [],
    "af639b30-90bb-4839-8e54-4765a1c0fc50": [],
    "b0c83b65": [],
    "b61f85dd-a832-4b74-bee5-6915a1d470da": [],
    "b80dd0b3-a176-4b72-9412-80f28e96ddf1": [
     "edab9fb0-8402-4ab4-a369-5f93cc47480a",
     "ebdd0b2a-ebaa-495d-a6ac-2e9fdcc0918d",
     "7fd28d24-93f4-40e3-9151-ef025769a43d",
     "c5df40cd-8b84-4ee7-81e8-d09420c02d0c",
     "cf7f25f6-2330-4ee4-bc7f-58a5c8c14137",
     "fa6ebb62-5ce8-4498-8b7e-4a87e8452fc0",
     "1e54bf8c",
     "edeac989-05ed-45a4-9869-8a881ca4ba02",
     "294ca491-0f0f-4918-a67b-6b26017e902d",
     "b0c83b65"
    ],
    "bc5797db-cd73-4640-9447-b32b6ae0646a": [],
    "bd31e6d4-c74c-407d-9741-afe8798177c2": [],
    "c0711e34-6e34-4e99-b3bf-d9f4e64dd45b": [],
    "c30a8668-a16d-40b1-ae5e-e3c6b9382b45": [],
    "c5df40cd-8b84-4ee7-81e8-d09420c02d0c": [],
    "cf7f25f6-2330-4ee4-bc7f-58a5c8c14137": [],
    "d2a46147-b7d8-4b55-839f-53c0a8d39bc6": [],
    "d455d6c8-bd82-41b0-b571-a75e6cd4cf09": [
     "47468aa2-2419-491c-8c27-8f37eaf02308"
    ],
    "d5ade5aa-cd6b-4a77-b190-7fbc513e36bd": [],
    "d69c02d3-f8da-4c47-b6ee-03290057f0bb": [],
    "dad8925f-46b4-4fe9-9cd0-551360eac419": [],
    "ebdd0b2a-ebaa-495d-a6ac-2e9fdcc0918d": [],
    "ed402ce5-ad7c-4668-b966-a20f5695efb6": [],
    "edab9fb0-8402-4ab4-a369-5f93cc47480a": [],
    "edeac989-05ed-45a4-9869-8a881ca4ba02": [],
    "eef8fca1-74d9-4855-a23e-c349c86ab6f7": [],
    "f33724c9-4c16-4bbe-aa73-9d27c20707b0": [],
    "fa6ebb62-5ce8-4498-8b7e-4a87e8452fc0": [
     "1416951a-542b-4783-baf2-c9b0bcf1a581",
     "edeac989-05ed-45a4-9869-8a881ca4ba02"
    ],
    "fbcbb5dd-7c8c-4829-b742-0e5c1cc7bd10": [
     "88cbd9e1-4b8e-4459-a1b4-a5bd45d199b1"
    ],
    "fed1e8c7-856a-432e-ad1b-ecb58456619b": []
   },
   "cell_parents": {
    "0291aa70-8ac7-4921-b478-3ff30dd911d2": [],
    "065cc0a1": [
     "0a788b9e"
    ],
    "0760976f-eefb-4f8b-92a3-ec5b464fec22": [],
    "08690349": [
     "0e405db8-27fa-4f52-b339-46a5ef9b87e8"
    ],
    "0a788b9e": [],
    "0e405db8-27fa-4f52-b339-46a5ef9b87e8": [
     "4701dce7"
    ],
    "10023ede-fa2f-4d9d-8c9c-7d84e35fc8d6": [],
    "10df3cdb": [
     "8c56d769-2c8a-4cfb-b2d4-671333d07182"
    ],
    "123879a8-c6e0-41c0-ab26-6e15b497b708": [],
    "1416951a-542b-4783-baf2-c9b0bcf1a581": [],
    "182488f6-a11c-418e-afaa-bac26fd94050": [],
    "1e54bf8c": [
     "7a1a322e-ade2-41a1-95eb-d11193d791c5",
     "0a788b9e",
     "065cc0a1"
    ],
    "294ca491-0f0f-4918-a67b-6b26017e902d": [
     "7a1a322e-ade2-41a1-95eb-d11193d791c5"
    ],
    "2f808552-2a10-44b3-9cf5-750193be5068": [
     "790ea648-a7dd-4c70-aa8d-c5e21747f825"
    ],
    "31ad12ee-3766-4749-843b-ac1e3661f935": [
     "7a1a322e-ade2-41a1-95eb-d11193d791c5",
     "6f791235-77f4-418f-9c6f-8cda9441099f",
     "0a788b9e"
    ],
    "359ffb54": [],
    "390b4f6f-76d1-4165-b562-f31de8a216f5": [],
    "3aef0878-5ef7-43bf-8451-3acf5d3da4b1": [],
    "3cd044f7-7f47-46bb-86a8-94ed4f270ee2": [],
    "4701dce7": [
     "88cbd9e1-4b8e-4459-a1b4-a5bd45d199b1"
    ],
    "4733185d-74f0-4be4-a1a1-512de77a7d2f": [],
    "47468aa2-2419-491c-8c27-8f37eaf02308": [
     "d455d6c8-bd82-41b0-b571-a75e6cd4cf09"
    ],
    "49d4e014": [],
    "4c1b69c0-2641-4214-bc3c-a3c11b451dcc": [],
    "4d7b177f-94dc-464f-bfce-bf60ed2a86aa": [
     "6f791235-77f4-418f-9c6f-8cda9441099f"
    ],
    "51196885-8203-4716-837b-7be05c25d47c": [
     "359ffb54"
    ],
    "59dbcd6a-a822-4bf1-93c0-1b6301fc45a4": [],
    "5ffb349d-cc60-426e-901f-3750f5a2e6f8": [],
    "60186791-409a-40ab-991f-d83af322c9af": [],
    "621eb8fd-e46a-4699-90c1-0540a48426cc": [],
    "657369a0-4d2d-48b5-bddf-201765013bf7": [],
    "68576238-4acc-486d-8699-6dd20138bcd3": [],
    "6c2c33c4-1b4d-43c5-9fb8-e4e623915c1b": [],
    "6f791235-77f4-418f-9c6f-8cda9441099f": [
     "8d48960b-0e0e-44e9-91dd-ad8691434153",
     "0a788b9e"
    ],
    "72f47cfa-0927-4f25-96f1-f1bb667711e0": [],
    "78a017a1-8f6b-44e3-8bcc-6bb8f84b8d15": [],
    "790ea648-a7dd-4c70-aa8d-c5e21747f825": [
     "47468aa2-2419-491c-8c27-8f37eaf02308"
    ],
    "7a1a322e-ade2-41a1-95eb-d11193d791c5": [],
    "7d78024c-8042-4818-9b10-3a3b06382f68": [
     "7a1a322e-ade2-41a1-95eb-d11193d791c5",
     "0a788b9e",
     "31ad12ee-3766-4749-843b-ac1e3661f935"
    ],
    "7db5f78b": [
     "0a788b9e",
     "065cc0a1"
    ],
    "7fd28d24-93f4-40e3-9151-ef025769a43d": [
     "7a1a322e-ade2-41a1-95eb-d11193d791c5",
     "6f791235-77f4-418f-9c6f-8cda9441099f",
     "0a788b9e"
    ],
    "87abe1cb-b079-46da-8897-d310c6b1d769": [],
    "88cbd9e1-4b8e-4459-a1b4-a5bd45d199b1": [
     "fbcbb5dd-7c8c-4829-b742-0e5c1cc7bd10"
    ],
    "89eb189d-87d0-44ea-a35f-fcef5004204b": [],
    "8c36a909-ad5e-4275-8eff-0c064945710f": [],
    "8c56d769-2c8a-4cfb-b2d4-671333d07182": [
     "51196885-8203-4716-837b-7be05c25d47c"
    ],
    "8d48960b-0e0e-44e9-91dd-ad8691434153": [
     "0a788b9e"
    ],
    "928f03b4-cfce-4c98-a4de-2438fb106ef3": [],
    "9472d420-193a-4b2a-a2bf-bcd52d8533dc": [],
    "9a0cf645-1ef7-4226-aa97-6aca8ead485f": [],
    "a67b9155-f273-4aba-a185-3b90657ac925": [],
    "a71c4fa9-4eb0-4782-8382-cb5cf3d87a99": [
     "7a1a322e-ade2-41a1-95eb-d11193d791c5",
     "0a788b9e",
     "31ad12ee-3766-4749-843b-ac1e3661f935"
    ],
    "ac3a13c7": [
     "1e54bf8c",
     "0a788b9e"
    ],
    "af639b30-90bb-4839-8e54-4765a1c0fc50": [],
    "b0c83b65": [
     "7a1a322e-ade2-41a1-95eb-d11193d791c5",
     "0a788b9e",
     "065cc0a1"
    ],
    "b61f85dd-a832-4b74-bee5-6915a1d470da": [],
    "b80dd0b3-a176-4b72-9412-80f28e96ddf1": [],
    "bc5797db-cd73-4640-9447-b32b6ae0646a": [],
    "bd31e6d4-c74c-407d-9741-afe8798177c2": [],
    "c0711e34-6e34-4e99-b3bf-d9f4e64dd45b": [],
    "c30a8668-a16d-40b1-ae5e-e3c6b9382b45": [],
    "c5df40cd-8b84-4ee7-81e8-d09420c02d0c": [
     "7a1a322e-ade2-41a1-95eb-d11193d791c5"
    ],
    "cf7f25f6-2330-4ee4-bc7f-58a5c8c14137": [
     "7a1a322e-ade2-41a1-95eb-d11193d791c5"
    ],
    "d2a46147-b7d8-4b55-839f-53c0a8d39bc6": [],
    "d455d6c8-bd82-41b0-b571-a75e6cd4cf09": [
     "08690349"
    ],
    "d5ade5aa-cd6b-4a77-b190-7fbc513e36bd": [
     "6f791235-77f4-418f-9c6f-8cda9441099f"
    ],
    "d69c02d3-f8da-4c47-b6ee-03290057f0bb": [],
    "dad8925f-46b4-4fe9-9cd0-551360eac419": [
     "2f808552-2a10-44b3-9cf5-750193be5068"
    ],
    "ebdd0b2a-ebaa-495d-a6ac-2e9fdcc0918d": [
     "7a1a322e-ade2-41a1-95eb-d11193d791c5"
    ],
    "ed402ce5-ad7c-4668-b966-a20f5695efb6": [
     "b80dd0b3-a176-4b72-9412-80f28e96ddf1",
     "0a788b9e"
    ],
    "edab9fb0-8402-4ab4-a369-5f93cc47480a": [
     "8d48960b-0e0e-44e9-91dd-ad8691434153"
    ],
    "edeac989-05ed-45a4-9869-8a881ca4ba02": [
     "31ad12ee-3766-4749-843b-ac1e3661f935"
    ],
    "eef8fca1-74d9-4855-a23e-c349c86ab6f7": [],
    "f33724c9-4c16-4bbe-aa73-9d27c20707b0": [],
    "fa6ebb62-5ce8-4498-8b7e-4a87e8452fc0": [
     "6f791235-77f4-418f-9c6f-8cda9441099f",
     "0a788b9e"
    ],
    "fbcbb5dd-7c8c-4829-b742-0e5c1cc7bd10": [
     "10df3cdb"
    ],
    "fed1e8c7-856a-432e-ad1b-ecb58456619b": []
   }
  },
  "kernelspec": {
   "display_name": "Python 3 (ipyflow)",
   "language": "python",
   "name": "ipyflow"
  },
  "language_info": {
   "codemirror_mode": {
    "name": "ipython",
    "version": 3
   },
   "file_extension": ".py",
   "mimetype": "text/x-python",
   "name": "python",
   "nbconvert_exporter": "python",
   "pygments_lexer": "ipython3",
   "version": "3.11.7"
  },
  "vscode": {
   "interpreter": {
    "hash": "e9a7af6fc709cc25e111b0d6e28f738a78907138b7e48b682edcf6dfb7dc8bee"
   }
  }
 },
 "nbformat": 4,
 "nbformat_minor": 5
}
