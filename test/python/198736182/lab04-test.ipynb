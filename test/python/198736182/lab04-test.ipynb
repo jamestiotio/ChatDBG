{
 "cells": [
  {
   "cell_type": "markdown",
   "id": "ec838e02",
   "metadata": {},
   "source": [
    "<table style=\"width: 100%;\">\n",
    "<tr style=\"background-color: transparent;\">\n",
    "<td width=\"100px\"><img src=\"https://cs104williams.github.io/assets/cs104-logo.png\" width=\"90px\" style=\"text-align: center\"/></td>\n",
    "<td>\n",
    "  <p style=\"margin-bottom: 0px; text-align: left; font-size: 18pt;\"><strong>CSCI 104: Data Science and Computing for All</strong><br>\n",
    "                Williams College<br>\n",
    "                Fall 2023</p>\n",
    "</td>\n",
    "</tr>\n"
   ]
  },
  {
   "cell_type": "markdown",
   "id": "a5d7b02a",
   "metadata": {},
   "source": [
    "# Lab 4: Functions, Tables, and Groups"
   ]
  },
  {
   "cell_type": "markdown",
   "id": "0bd99292",
   "metadata": {},
   "source": [
    "<hr style=\"margin: 0px; border: 3px solid #500082;\"/>\n",
    "\n",
    "<h2>Instructions</h2>\n",
    "\n",
    "- Before you begin, execute the cell at the TOP of the notebook to load the provided tests, as well as the following cell to setup the notebook by importing some helpful libraries. Each time you start your server, you will need to execute these cells again.  \n",
    "- Be sure to consult your [Python Reference](https://cs104williams.github.io/assets/python-library-ref.html)!\n",
    "- Complete this notebook by filling in the cells provided. For problems asking you to write explanations, you **must** provide your answer in the designated space. \n",
    "- Please be sure to not re-assign variables throughout the notebook.  For example, if you use `max_temperature` in your answer to one question, do not reassign it later on. Otherwise, you will fail tests that you thought you were passing previously.\n",
    "- This lab has hidden tests on it. That means even though tests may say 100% passed, doesn't mean your final grade will be 100%. We will be running more tests for correctness once everyone turns in the lab.\n",
    "- To use one or more late days on this lab, please fill out our [late day form](https://forms.gle/4sD16h3hN1xRqQM27) **before** the due date.\n",
    "\n",
    "<hr/>\n",
    "<h2>Setup</h2>\n"
   ]
  },
  {
   "cell_type": "code",
   "execution_count": 1,
   "id": "302c2e90",
   "metadata": {},
   "outputs": [
    {
     "name": "stdout",
     "output_type": "stream",
     "text": [
      "Automatic pdb calling has been turned ON\n"
     ]
    }
   ],
   "source": [
    "# Run this cell to set up the notebook.\n",
    "# These lines import the numpy, datascience, and cs104 libraries.\n",
    "\n",
    "import numpy as np\n",
    "from datascience import *\n",
    "from cs104 import *\n",
    "%matplotlib inline\n",
    "%pdb"
   ]
  },
  {
   "cell_type": "markdown",
   "id": "d032f01b",
   "metadata": {},
   "source": [
    "<hr style=\"margin-bottom: 0px; padding:0; border: 2px solid #500082;\"/>\n"
   ]
  },
  {
   "cell_type": "markdown",
   "id": "e24cc568",
   "metadata": {},
   "source": [
    "## 1. San Diego Burritos (35 pts)\n",
    "\n"
   ]
  },
  {
   "cell_type": "markdown",
   "id": "fee96856",
   "metadata": {},
   "source": [
    "<font color='#B1008E'>\n",
    "    \n",
    "##### Learning objectives\n",
    "- Manipulate multiple tables via built-in table functions.\n",
    "- Analzye histogram and scatter plots."
   ]
  },
  {
   "cell_type": "markdown",
   "id": "cf2932f8",
   "metadata": {},
   "source": [
    "We are trying find the best burritos in San Diego.  We have two comprehensive datasets on many burrito establishments in the San Diego area taken from (and cleaned from) [here](https://www.kaggle.com/srcole/burritos-in-san-diego/data)."
   ]
  },
  {
   "cell_type": "markdown",
   "id": "03bf44d6",
   "metadata": {},
   "source": [
    "The following cell reads in a table called `ratings` which contains names of burrito restaurants, their Yelp rating, Google rating, as well as their Overall rating. The `Overall` rating is not an average of the `Yelp` and `Google` ratings, but rather it is the overall rating of the customers that were surveyed in the study above.\n",
    "\n",
    "It also reads in a table called `burritos_types` which contains names of burrito restaurants, their menu items, and the cost of the respective menu item at the restaurant."
   ]
  },
  {
   "cell_type": "code",
   "execution_count": 2,
   "id": "c1789773",
   "metadata": {},
   "outputs": [
    {
     "data": {
      "text/html": [
       "<table border=\"1\" class=\"dataframe\">\n",
       "    <thead>\n",
       "        <tr>\n",
       "            <th>Name</th> <th>Yelp</th> <th>Google</th> <th>Overall</th>\n",
       "        </tr>\n",
       "    </thead>\n",
       "    <tbody>\n",
       "        <tr>\n",
       "            <td>Albertacos                </td> <td>3.5 </td> <td>3.9   </td> <td>3.45   </td>\n",
       "        </tr>\n",
       "        <tr>\n",
       "            <td>Burrito Factory           </td> <td>4.5 </td> <td>4.8   </td> <td>3.5    </td>\n",
       "        </tr>\n",
       "        <tr>\n",
       "            <td>Burros and Fries          </td> <td>3.5 </td> <td>4.1   </td> <td>3.575  </td>\n",
       "        </tr>\n",
       "        <tr>\n",
       "            <td>Caliente Mexican Food     </td> <td>3.5 </td> <td>4.4   </td> <td>3.25   </td>\n",
       "        </tr>\n",
       "        <tr>\n",
       "            <td>California Burrito Company</td> <td>3.5 </td> <td>4.4   </td> <td>3.2    </td>\n",
       "        </tr>\n",
       "    </tbody>\n",
       "</table>\n",
       "<p>... (77 rows omitted)</p>"
      ],
      "text/plain": [
       "<IPython.core.display.HTML object>"
      ]
     },
     "metadata": {},
     "output_type": "display_data"
    },
    {
     "data": {
      "text/html": [
       "<table border=\"1\" class=\"dataframe\">\n",
       "    <thead>\n",
       "        <tr>\n",
       "            <th>Name</th> <th>Menu_Item</th> <th>Cost</th>\n",
       "        </tr>\n",
       "    </thead>\n",
       "    <tbody>\n",
       "        <tr>\n",
       "            <td>Albertacos                                         </td> <td>California          </td> <td>5.7 </td>\n",
       "        </tr>\n",
       "        <tr>\n",
       "            <td>Albertacos                                         </td> <td>Carne asada         </td> <td>5.25</td>\n",
       "        </tr>\n",
       "        <tr>\n",
       "            <td>Alberto's 623 N Escondido Blvd, Escondido, CA 92025</td> <td>Carne Asada         </td> <td>4.59</td>\n",
       "        </tr>\n",
       "        <tr>\n",
       "            <td>Burrito Box                                        </td> <td>Steak with guacamole</td> <td>11.5</td>\n",
       "        </tr>\n",
       "        <tr>\n",
       "            <td>Burrito Factory                                    </td> <td>Steak everything    </td> <td>7.35</td>\n",
       "        </tr>\n",
       "    </tbody>\n",
       "</table>\n",
       "<p>... (244 rows omitted)</p>"
      ],
      "text/plain": [
       "<IPython.core.display.HTML object>"
      ]
     },
     "metadata": {},
     "output_type": "display_data"
    }
   ],
   "source": [
    "#Just run this cell\n",
    "ratings = Table.read_table(\"ratings.csv\")\n",
    "ratings.show(5)\n",
    "\n",
    "burritos_types = Table.read_table(\"burritos_types.csv\")\n",
    "burritos_types.show(5)"
   ]
  },
  {
   "cell_type": "markdown",
   "id": "8ff64994",
   "metadata": {},
   "source": [
    "#### Part 1.1 (5 pts)\n"
   ]
  },
  {
   "cell_type": "markdown",
   "id": "4ee88e47",
   "metadata": {},
   "source": [
    " It would be easier if we could combine the information in both tables. Assign `burritos` to the result of **join**ing the two tables together, so that we have a table with the ratings for every corresponding menu item from every restaurant. Each menu item has the same rating as the restaurant from which it is from. \n",
    "\n",
    "*Note:* It doesn't matter which table you put in as the argument to the [join](https://www.cs.williams.edu/~cs104/auto/python-library-ref.html#join) method, either order will work for the autograder tests."
   ]
  },
  {
   "cell_type": "code",
   "execution_count": 3,
   "id": "e9ac3029",
   "metadata": {},
   "outputs": [
    {
     "data": {
      "text/html": [
       "<table border=\"1\" class=\"dataframe\">\n",
       "    <thead>\n",
       "        <tr>\n",
       "            <th>Name</th> <th>Yelp</th> <th>Google</th> <th>Overall</th> <th>Menu_Item</th> <th>Cost</th>\n",
       "        </tr>\n",
       "    </thead>\n",
       "    <tbody>\n",
       "        <tr>\n",
       "            <td>Albertacos      </td> <td>3.5 </td> <td>3.9   </td> <td>3.45   </td> <td>California       </td> <td>5.7 </td>\n",
       "        </tr>\n",
       "        <tr>\n",
       "            <td>Albertacos      </td> <td>3.5 </td> <td>3.9   </td> <td>3.45   </td> <td>Carne asada      </td> <td>5.25</td>\n",
       "        </tr>\n",
       "        <tr>\n",
       "            <td>Burrito Factory </td> <td>4.5 </td> <td>4.8   </td> <td>3.5    </td> <td>Steak everything </td> <td>7.35</td>\n",
       "        </tr>\n",
       "        <tr>\n",
       "            <td>Burros and Fries</td> <td>3.5 </td> <td>4.1   </td> <td>3.575  </td> <td>California       </td> <td>7.19</td>\n",
       "        </tr>\n",
       "        <tr>\n",
       "            <td>Burros and Fries</td> <td>3.5 </td> <td>4.1   </td> <td>3.575  </td> <td>Carne asada      </td> <td>6.89</td>\n",
       "        </tr>\n",
       "    </tbody>\n",
       "</table>\n",
       "<p>... (207 rows omitted)</p>"
      ],
      "text/plain": [
       "<IPython.core.display.HTML object>"
      ]
     },
     "metadata": {},
     "output_type": "display_data"
    }
   ],
   "source": [
    "burritos = ratings.join(\"Name\", burritos_types)\n",
    "burritos.show(5)"
   ]
  },
  {
   "cell_type": "code",
   "execution_count": 4,
   "id": "571f1740",
   "metadata": {},
   "outputs": [],
   "source": [
    "#grader.check(\"p1.1\")"
   ]
  },
  {
   "cell_type": "markdown",
   "id": "e087050c",
   "metadata": {},
   "source": [
    "<!-- BEGIN QUESTION -->\n",
    "\n",
    "#### Part 1.2 (5 pts)\n"
   ]
  },
  {
   "cell_type": "markdown",
   "id": "b32654d8",
   "metadata": {},
   "source": [
    " Let's look at how the Yelp scores compare to the Google scores in the `burritos` table. \n",
    " \n",
    "First, assign `yelp_and_google` to a table only containing the columns `Yelp` and `Google`. \n",
    "\n",
    "Then, make a scatter plot with Yelp scores on the x-axis and the Google scores on the y-axis. Store your plot in the `plot` variable so that we can then add the line $y=x$ to help you draw conclusions.\n",
    "\n"
   ]
  },
  {
   "cell_type": "code",
   "execution_count": 5,
   "id": "950a6be5",
   "metadata": {},
   "outputs": [
    {
     "data": {
      "image/png": "[encoded data removed]",
      "text/plain": [
       "<Figure size 600x600 with 1 Axes>"
      ]
     },
     "metadata": {},
     "output_type": "display_data"
    }
   ],
   "source": [
    "yelp_and_google = burritos.drop(\"Menu_Item\", \"Cost\")\n",
    "plot = yelp_and_google.scatter(\"Yelp\", \"Google\")\n",
    "\n",
    "# Don't change/edit/remove the following line.\n",
    "plot.line(slope=1, intercept=0)"
   ]
  },
  {
   "cell_type": "markdown",
   "id": "75888a2d",
   "metadata": {},
   "source": [
    "<!-- END QUESTION -->\n",
    "\n",
    "<!-- BEGIN QUESTION -->\n",
    "\n",
    "#### Part 1.3 (5 pts)\n"
   ]
  },
  {
   "cell_type": "markdown",
   "id": "3ce7b72c",
   "metadata": {},
   "source": [
    " Looking at the scatter plot you just made in Part 1.2, do you notice any pattern(s) (i.e. is one of the two types of scores consistently higher than the other one)? If so, describe the patterns you observe **briefly** in the cell below. "
   ]
  },
  {
   "cell_type": "markdown",
   "id": "2fbf20b4",
   "metadata": {},
   "source": [
    "<hr style=\"margin:0; border: 1px solid #FFBE0A;\"/><font color='#FFBE0A'>Written Answer:</font>"
   ]
  },
  {
   "cell_type": "markdown",
   "id": "bb1b4570",
   "metadata": {},
   "source": [
    "The Google scores seem to be typically higher than Yelp scores. Many of the points on the scatter plot lay above the y=x line, showing that the value on the y-axis (Google ratings) are usually higher than the corresponding value on the x-axis (Yelp ratings). "
   ]
  },
  {
   "cell_type": "markdown",
   "id": "97926474",
   "metadata": {},
   "source": [
    "<hr style=\"margin:0; border: 1px solid #FFBE0A;\"/>"
   ]
  },
  {
   "cell_type": "markdown",
   "id": "bdb76a5e",
   "metadata": {},
   "source": [
    "<!-- END QUESTION -->\n",
    "\n",
    "#### Part 1.4 (5 pts)\n"
   ]
  },
  {
   "cell_type": "markdown",
   "id": "b41fb351",
   "metadata": {},
   "source": [
    "In the `burritos` table, there are many types of burritos that have the word \"California\" in them! We'd like to know which of these \"California\" burritos has the highest mean rating across all restaurants. \n",
    "\n",
    "Create a table that has two columns (in the exact following order): \n",
    "1. The name of the California burrito.\n",
    "2. The average overall rating of that burrito across all restaurants that serve it. \n",
    "\n",
    "**In your calculations, you should compare burritos that contain the word \"California\".** For example, there's \"California\" burritos, \"California breakfast\" burritos, \"California Surf and Turf\" burritos, etc. The predicate [are.containing](https://www.cs.williams.edu/~cs104/auto/python-library-ref.html#containing) will be useful here. \n",
    "\n",
    "*Hint:* If multiple restaurants serve the \"California - Chicken\" burrito, what table method can we use to aggregate those together and find the average overall rating?\n",
    "\n",
    "**Notes:** \n",
    "-  For the sake of these questions, we are treating each menu item's rating the same as its respective restaurant's, as we do not have the rating of every single item at these restaurants. You do not need to worry about this fact, but we thought to mention it.\n",
    "- Break up the solution into multiple lines, with the final output table stored in `california_burritos`.  That will be far less error prone and easier to debug than writing it as a single line."
   ]
  },
  {
   "cell_type": "code",
   "execution_count": null,
   "id": "46437336",
   "metadata": {},
   "outputs": [],
   "source": []
  },
  {
   "cell_type": "code",
   "execution_count": 6,
   "id": "9167ceac-bb5c-4a12-b630-657972e8f012",
   "metadata": {},
   "outputs": [
    {
     "data": {
      "text/html": [
       "<table border=\"1\" class=\"dataframe\">\n",
       "    <thead>\n",
       "        <tr>\n",
       "            <th>Menu_Item</th> <th>Overall average</th>\n",
       "        </tr>\n",
       "    </thead>\n",
       "    <tbody>\n",
       "        <tr>\n",
       "            <td>California                    </td> <td>3.5242         </td>\n",
       "        </tr>\n",
       "        <tr>\n",
       "            <td>California (only cheese)      </td> <td>4.1            </td>\n",
       "        </tr>\n",
       "        <tr>\n",
       "            <td>California + Guac + sour cream</td> <td>3.4            </td>\n",
       "        </tr>\n",
       "        <tr>\n",
       "            <td>California - Chicken          </td> <td>3.45839        </td>\n",
       "        </tr>\n",
       "        <tr>\n",
       "            <td>California - Pork Adobada     </td> <td>3.26429        </td>\n",
       "        </tr>\n",
       "        <tr>\n",
       "            <td>California - Steak            </td> <td>3.26429        </td>\n",
       "        </tr>\n",
       "        <tr>\n",
       "            <td>California Chipotle           </td> <td>4.36667        </td>\n",
       "        </tr>\n",
       "        <tr>\n",
       "            <td>California Everything         </td> <td>4.1            </td>\n",
       "        </tr>\n",
       "        <tr>\n",
       "            <td>California Everything mini    </td> <td>4.1            </td>\n",
       "        </tr>\n",
       "        <tr>\n",
       "            <td>California Surf               </td> <td>3.66667        </td>\n",
       "        </tr>\n",
       "    </tbody>\n",
       "</table>\n",
       "<p>... (9 rows omitted)</p>"
      ],
      "text/plain": [
       "Menu_Item                      | Overall average\n",
       "California                     | 3.5242\n",
       "California (only cheese)       | 4.1\n",
       "California + Guac + sour cream | 3.4\n",
       "California - Chicken           | 3.45839\n",
       "California - Pork Adobada      | 3.26429\n",
       "California - Steak             | 3.26429\n",
       "California Chipotle            | 4.36667\n",
       "California Everything          | 4.1\n",
       "California Everything mini     | 4.1\n",
       "California Surf                | 3.66667\n",
       "... (9 rows omitted)"
      ]
     },
     "execution_count": 6,
     "metadata": {},
     "output_type": "execute_result"
    }
   ],
   "source": [
    "california_burritos = burritos.where(\"Menu_Item\",are.containing(\"California\")).drop('Name', 'Yelp', 'Google', 'Cost').group('Menu_Item', np.average)\n",
    "california_burritos"
   ]
  },
  {
   "cell_type": "code",
   "execution_count": 7,
   "id": "408cfd94",
   "metadata": {},
   "outputs": [],
   "source": [
    "#grader.check(\"p1.4\")"
   ]
  },
  {
   "cell_type": "markdown",
   "id": "3edd4629",
   "metadata": {},
   "source": [
    "#### Part 1.5 (5 pts)\n"
   ]
  },
  {
   "cell_type": "markdown",
   "id": "d82aa0bf",
   "metadata": {},
   "source": [
    " Given this new table `california_burritos`, we can figure out the name of the California burrito with the highest overall average rating. Create a string `best_california_burrito` that is assigned to a line of code that outputs the string that represents the name of the California burrito with the highest overall average rating. If multiple burritos satisfy this criteria, you can output any one of them. "
   ]
  },
  {
   "cell_type": "code",
   "execution_count": 8,
   "id": "2ae28128",
   "metadata": {},
   "outputs": [
    {
     "data": {
      "text/plain": [
       "'Surfin California'"
      ]
     },
     "execution_count": 8,
     "metadata": {},
     "output_type": "execute_result"
    }
   ],
   "source": [
    "best_california_burrito = max(california_burritos.column(\"Menu_Item\"))\n",
    "best_california_burrito "
   ]
  },
  {
   "cell_type": "code",
   "execution_count": null,
   "id": "6bebc087-6e4e-4a6c-9844-f2744309aeab",
   "metadata": {},
   "outputs": [
    {
     "ename": "AssertionError",
     "evalue": "",
     "output_type": "error",
     "traceback": [
      "\u001b[0;31m---------------------------------------------------------------------------\u001b[0m",
      "\u001b[0;31mAssertionError\u001b[0m                            Traceback (most recent call last)",
      "Cell \u001b[0;32mIn[9], line 1\u001b[0m\n\u001b[0;32m----> 1\u001b[0m \u001b[38;5;28;01massert\u001b[39;00m(best_california_burrito \u001b[38;5;129;01min\u001b[39;00m [\u001b[38;5;124m'\u001b[39m\u001b[38;5;124mCalifornia Chipotle\u001b[39m\u001b[38;5;124m'\u001b[39m, \u001b[38;5;124m'\u001b[39m\u001b[38;5;124mPork California\u001b[39m\u001b[38;5;124m'\u001b[39m])\n",
      "\u001b[0;31mAssertionError\u001b[0m: "
     ]
    },
    {
     "name": "stdout",
     "output_type": "stream",
     "text": [
      "> \u001b[0;32m/var/folders/s2/cqbykz4x4cv5k80y8x5lkqs40000gp/T/ipykernel_78561/4150137776.py\u001b[0m(1)\u001b[0;36m<module>\u001b[0;34m()\u001b[0m\n",
      "\u001b[0;32m----> 1 \u001b[0;31m\u001b[0;32massert\u001b[0m\u001b[0;34m(\u001b[0m\u001b[0mbest_california_burrito\u001b[0m \u001b[0;32min\u001b[0m \u001b[0;34m[\u001b[0m\u001b[0;34m'California Chipotle'\u001b[0m\u001b[0;34m,\u001b[0m \u001b[0;34m'Pork California'\u001b[0m\u001b[0;34m]\u001b[0m\u001b[0;34m)\u001b[0m\u001b[0;34m\u001b[0m\u001b[0;34m\u001b[0m\u001b[0m\n",
      "\u001b[0m\n"
     ]
    }
   ],
   "source": [
    "assert(best_california_burrito in ['California Chipotle', 'Pork California'])"
   ]
  },
  {
   "cell_type": "code",
   "execution_count": null,
   "id": "f47502ad",
   "metadata": {},
   "outputs": [],
   "source": [
    "#grader.check(\"p1.5\")"
   ]
  },
  {
   "cell_type": "markdown",
   "id": "3d2bb043",
   "metadata": {},
   "source": [
    "<!-- BEGIN QUESTION -->\n",
    "\n",
    "#### Part 1.6 (5 pts)\n"
   ]
  },
  {
   "cell_type": "markdown",
   "id": "4bdf19c6",
   "metadata": {},
   "source": [
    "We hypothesize that burritos in San Diego are cheaper (and taste better) than the burritos in Williamstown. \n",
    "\n",
    "Plot a histogram that visualizes that distribution of the costs of the burritos from San Diego in the `burritos` table. Also use the provided `bins` variable when making your histogram, so that the histogram is more visually informative. "
   ]
  },
  {
   "cell_type": "code",
   "execution_count": null,
   "id": "ef802c64",
   "metadata": {},
   "outputs": [],
   "source": [
    "bins = np.arange(2, 15, 1)\n",
    "\n",
    "# Please also use the provided bins\n",
    "burritos.hist(\"Cost\", bins=bins)"
   ]
  },
  {
   "cell_type": "markdown",
   "id": "9e0750c0",
   "metadata": {},
   "source": [
    "<!-- END QUESTION -->\n",
    "\n",
    "#### Part 1.7 (5 pts)\n"
   ]
  },
  {
   "cell_type": "markdown",
   "id": "05660094",
   "metadata": {},
   "source": [
    " What percentage of burritos in San Diego are less than $6? Assign `burritos_less_than_6` to your answer, which should be between 0 and 100. You should only use the histogram above to answer the question. Do not use code on the table to to find the answer, just eyeball the heights and use Python to evaluate your arithmetic. \n",
    "\n",
    "Your answer does not have to be exact, but it should be within a couple percentages of our answer."
   ]
  },
  {
   "cell_type": "code",
   "execution_count": null,
   "id": "cbd92e1e",
   "metadata": {},
   "outputs": [],
   "source": [
    "burritos_less_than_6 = 22\n",
    "burritos_less_than_6"
   ]
  },
  {
   "cell_type": "code",
   "execution_count": null,
   "id": "c30ab0a5",
   "metadata": {},
   "outputs": [],
   "source": [
    "#grader.check(\"p1.7\")"
   ]
  },
  {
   "cell_type": "markdown",
   "id": "3f1cdc6a",
   "metadata": {},
   "source": [
    "<hr style=\"margin-bottom: 0px; padding:0; border: 2px solid #500082;\"/>\n"
   ]
  },
  {
   "cell_type": "markdown",
   "id": "27f522f7",
   "metadata": {},
   "source": [
    "## 2. Penguins (30 pts)\n",
    "\n"
   ]
  },
  {
   "cell_type": "markdown",
   "id": "9f1982c4",
   "metadata": {},
   "source": [
    "<font color='#B1008E'>\n",
    "    \n",
    "##### Learning objectives\n",
    "- Practice using the Table methods `pivot` and `group`"
   ]
  },
  {
   "cell_type": "markdown",
   "id": "fa67af18",
   "metadata": {},
   "source": [
    "We'll use a data from the [palmerpenguins dataset](https://github.com/allisonhorst/palmerpenguins), which captures data for three species of penguins (Adelie, Chinstrap, and Gentoo) on three islands in the Palmer Archipelago, Antarctica (Biscoe, Dream, and Torgersen).  \n",
    "\n",
    "Here's some artwork from the dataset creator showing the three species and what several of the data elements mean:\n",
    "\n",
    "<img width=45% src=\"https://github.com/allisonhorst/palmerpenguins/raw/main/man/figures/lter_penguins.png\"> <img width=45% src=\"https://github.com/allisonhorst/palmerpenguins/raw/main/man/figures/culmen_depth.png\">\n",
    "\n",
    "We have lightly cleaned the data to make it easier to work with. Run the following cell to load our data into a table called `penguins`."
   ]
  },
  {
   "cell_type": "code",
   "execution_count": null,
   "id": "e06600de",
   "metadata": {},
   "outputs": [],
   "source": [
    "penguins = Table.read_table(\"penguins.csv\")\n",
    "penguins.show(10)"
   ]
  },
  {
   "cell_type": "markdown",
   "id": "550bfafe",
   "metadata": {},
   "source": [
    "#### Part 2.1 (5 pts)\n"
   ]
  },
  {
   "cell_type": "markdown",
   "id": "72353e2c",
   "metadata": {},
   "source": [
    "Since we'll be focussing most on bill length for our various penguins, create a new table with three columns labeled \"species\", \"island\", and \"bill length\" in that exact order."
   ]
  },
  {
   "cell_type": "code",
   "execution_count": null,
   "id": "f0113066",
   "metadata": {},
   "outputs": [],
   "source": [
    "bill_lengths = penguins.drop('bill_depth_mm', 'flipper_length_mm', 'body_mass_g', 'sex').relabeled(\"bill_length_mm\", \"bill length\")\n",
    "bill_lengths"
   ]
  },
  {
   "cell_type": "code",
   "execution_count": null,
   "id": "3d75118c",
   "metadata": {},
   "outputs": [],
   "source": [
    "#grader.check(\"p2.1\")"
   ]
  },
  {
   "cell_type": "markdown",
   "id": "4ee51ba2",
   "metadata": {},
   "source": [
    "#### Part 2.2 (5 pts)\n"
   ]
  },
  {
   "cell_type": "markdown",
   "id": "c40c66e4",
   "metadata": {},
   "source": [
    "Now create a new table `bill_length_mean_by_species` with two columns. The first column should be `species` and the second column should be `bill length mean`.  \n",
    "Each row in that second column should be the *mean* bill length for the given species."
   ]
  },
  {
   "cell_type": "code",
   "execution_count": null,
   "id": "8c963e8e",
   "metadata": {},
   "outputs": [],
   "source": [
    "bill_length_mean_by_species = penguins.group(\"species\", np.mean).drop(\"island mean\", 'bill_depth_mm mean', 'flipper_length_mm mean', 'body_mass_g mean', 'sex mean').relabeled(\"bill_length_mm mean\", \"bill length mean\")\n",
    "bill_length_mean_by_species"
   ]
  },
  {
   "cell_type": "code",
   "execution_count": null,
   "id": "1da8f5d6",
   "metadata": {},
   "outputs": [],
   "source": [
    "#grader.check(\"p2.2\")"
   ]
  },
  {
   "cell_type": "markdown",
   "id": "5ee1455b",
   "metadata": {},
   "source": [
    "#### Part 2.3 (5 pts)\n"
   ]
  },
  {
   "cell_type": "markdown",
   "id": "ebceea66",
   "metadata": {},
   "source": [
    "Now create a new table `bill_length_max_by_species_and_island` with three columns. The first column should be `species`, the second should be `island` and the third should be `bill length max`.  \n",
    "\n",
    "*Hint:* You'll use `group` again, but this time the first parameter should be an array of both columns you wish to group by: `species` and `island`."
   ]
  },
  {
   "cell_type": "code",
   "execution_count": null,
   "id": "550dc97b",
   "metadata": {},
   "outputs": [],
   "source": [
    "bill_length_max_by_species_and_island = penguins.group((make_array(\"species\", \"island\")), max).select('species', 'island', 'bill_length_mm max').relabeled ('bill_length_mm max', 'bill length max')\n",
    "bill_length_max_by_species_and_island"
   ]
  },
  {
   "cell_type": "code",
   "execution_count": null,
   "id": "a9770d82",
   "metadata": {},
   "outputs": [],
   "source": [
    "#grader.check(\"p2.3\")"
   ]
  },
  {
   "cell_type": "markdown",
   "id": "bf59afbd",
   "metadata": {},
   "source": [
    "#### Part 2.4 (5 pts)\n"
   ]
  },
  {
   "cell_type": "markdown",
   "id": "9ed01afb",
   "metadata": {},
   "source": [
    "In the previous two parts, we used aggegation functions already provided by Python and numpy.  In this part, we'll define a new aggegation function to use with `group()`.  \n",
    "\n",
    "In particular, we would like to know the bill length **spread** for each penguin on each island.  The spread is the **difference between the longest bill length and shortest bill length for penguins of that species on that island**.  Recall, the group aggegation function takes an array of values for all rows in the group and returns the value to associate with the group as a whole.\n",
    "\n",
    "Create a new table `bill_length_spreads` containing three columns: `species`, `island`, `bill length spread`.  Do this by completing the following two steps: \n",
    "\n",
    "1. First you'll need to define a new function `spread` which takes in an array of numbers and returns the spread of those numbers.\n",
    "\n",
    "2. Group your bill length data as in the last part, but with your new function.\n"
   ]
  },
  {
   "cell_type": "code",
   "execution_count": null,
   "id": "fc17533d",
   "metadata": {},
   "outputs": [],
   "source": [
    "def spread(values): \n",
    "    \"\"\"Return spread of the values array of numeric data.\"\"\"\n",
    "    return (max(values)-min(values))\n",
    "\n",
    "bill_length_spreads = penguins.group(make_array(\"species\", \"island\"), spread).select(\"species\", \"island\", \"bill_length_mm spread\").relabeled(\"bill_length_mm spread\", \"bill length spread\")\n",
    "bill_length_spreads"
   ]
  },
  {
   "cell_type": "code",
   "execution_count": null,
   "id": "25a1f096",
   "metadata": {},
   "outputs": [],
   "source": [
    "#grader.check(\"p2.4\")"
   ]
  },
  {
   "cell_type": "markdown",
   "id": "ce25254b",
   "metadata": {},
   "source": [
    "#### Part 2.5 (5 pts)\n"
   ]
  },
  {
   "cell_type": "markdown",
   "id": "58e9304a",
   "metadata": {},
   "source": [
    "Rather than creating the table in the previous part, we'll create a new table that is a bit easier to read.  \n",
    "\n",
    "In particular, set `spreads_matrix` to a table containing islands as the rows and species as the columns.  Each value in the table is the spread for that particular species (column) and island (row).\n",
    "\n",
    "*Hint:* What table function allows you to specify the rows and columns of a new table?"
   ]
  },
  {
   "cell_type": "code",
   "execution_count": null,
   "id": "2c5be5ec",
   "metadata": {},
   "outputs": [],
   "source": [
    "spreads_matrix = bill_length_spreads.pivot(\"species\", \"island\")\n",
    "spreads_matrix"
   ]
  },
  {
   "cell_type": "code",
   "execution_count": null,
   "id": "9ad71968",
   "metadata": {
    "scrolled": true
   },
   "outputs": [],
   "source": [
    "#grader.check(\"p2.5\")"
   ]
  },
  {
   "cell_type": "code",
   "execution_count": null,
   "id": "2604e6bd-1475-451c-88f7-de5b0cc2523d",
   "metadata": {},
   "outputs": [],
   "source": [
    "assert(spreads_matrix.where(\"island\", \"Biscoe\").row(0).item(\"Gentoo\") == approx(18.7))"
   ]
  },
  {
   "cell_type": "code",
   "execution_count": null,
   "id": "540f45e3-084f-4621-89f8-03edaa3e1e20",
   "metadata": {},
   "outputs": [],
   "source": []
  },
  {
   "cell_type": "markdown",
   "id": "cee789a9",
   "metadata": {},
   "source": [
    "<!-- BEGIN QUESTION -->\n",
    "\n",
    "#### Part 2.6 (5 pts)\n"
   ]
  },
  {
   "cell_type": "markdown",
   "id": "a546490d",
   "metadata": {},
   "source": [
    "Give an explanation as to why some of the row values are `0` in the `spreads_matrix` table from the previous question."
   ]
  },
  {
   "cell_type": "markdown",
   "id": "c60bc5cc",
   "metadata": {},
   "source": [
    "<hr style=\"margin:0; border: 1px solid #FFBE0A;\"/><font color='#FFBE0A'>Written Answer:</font>"
   ]
  },
  {
   "cell_type": "markdown",
   "id": "4551ae93",
   "metadata": {},
   "source": [
    "Within the data, there are no recorded Chinstraps in Biscoe or Torgersen, and there are no Gentoos in Dream or Torgersen. The 0s represent that there were 0 recorded birds of that species on the correlating islands. "
   ]
  },
  {
   "cell_type": "markdown",
   "id": "d846fb6a",
   "metadata": {},
   "source": [
    "<hr style=\"margin:0; border: 1px solid #FFBE0A;\"/>"
   ]
  },
  {
   "cell_type": "markdown",
   "id": "2f1f234c",
   "metadata": {},
   "source": [
    "<!-- END QUESTION -->\n",
    "\n",
    "<hr style=\"margin-bottom: 0px; padding:0; border: 2px solid #500082;\"/>\n"
   ]
  },
  {
   "cell_type": "markdown",
   "id": "3480ea1e",
   "metadata": {},
   "source": [
    "## 3. Boston City Employee Salaries (20 pts)\n",
    "\n"
   ]
  },
  {
   "cell_type": "markdown",
   "id": "e3a5332a",
   "metadata": {},
   "source": [
    "<font color='#B1008E'>\n",
    "    \n",
    "##### Learning objectives\n",
    "- Practice using the Table methods `where`, `select` and `group`"
   ]
  },
  {
   "cell_type": "markdown",
   "id": "c648b625",
   "metadata": {},
   "source": [
    "We now examine publicly available [City of Boston payroll data for employees](https://data.boston.gov/dataset/418983dc-7cae-42bb-88e4-d56f5adcf869/resource/ec5aaf93-1509-4641-9310-28e62e028457/download/employee-earnings-report-2021.csv) for 2021.  We have filtered it to retain just some of the columns.  The next cell loads it into the table `full_boston`."
   ]
  },
  {
   "cell_type": "code",
   "execution_count": null,
   "id": "818d17ac",
   "metadata": {},
   "outputs": [],
   "source": [
    "full_boston = Table.read_table(\"boston-earnings.csv\")\n",
    "full_boston"
   ]
  },
  {
   "cell_type": "markdown",
   "id": "46a3d060",
   "metadata": {},
   "source": [
    "The table has one row for each of the 22,546 city employees in 2021. \n",
    "\n",
    "The first two columns describe the department and title for each employee.  For example, the employee in the fourth row is a Police Officer in the Boston Police Department.  \n",
    "\n",
    "\n",
    "The next seven columns contain the dollar amounts paid to the employee in the calendar year 2021 for various reasons: \n",
    "\n",
    "* `REGULAR`: the employees base salary.\n",
    "* `RETRO`: retroactive pay from earlier work.\n",
    "* `OTHER`: anything not covered by the other categories.\n",
    "* `OVERTIME`: work beyond regular hours.\n",
    "* `INJURED`: pay for time not worked due to injury.\n",
    "* `DETAIL`: pay for work done as part of special details.\n",
    "* `QUINN_EDUCATION_INCENTIVE`: an incentive program to encourage police officers to earn degrees in law enforcement and criminal justice.\n",
    "\n",
    "The `TOTAL_GROSS` column is the sum of those seven.  In many cases, especially for police officers and fire fighters, the totall gross compensation is much larger that the regular salary because of over-time and special assignment details.\n",
    "\n",
    "For this lab, we will be using `DEPARTMENT_NAME`, `TITLE`, `REGULAR`, and `TOTAL_GROSS`.  Run the next cell to load those columns into the table `boston`"
   ]
  },
  {
   "cell_type": "code",
   "execution_count": null,
   "id": "a3c9426f",
   "metadata": {},
   "outputs": [],
   "source": [
    "boston = full_boston.select(\"TITLE\", \"DEPARTMENT_NAME\", \"REGULAR\", \"TOTAL_GROSS\")\n",
    "boston"
   ]
  },
  {
   "cell_type": "markdown",
   "id": "df776284",
   "metadata": {},
   "source": [
    "#### Part 3.1 (5 pts)\n"
   ]
  },
  {
   "cell_type": "markdown",
   "id": "2d8ad7bd",
   "metadata": {},
   "source": [
    "Create a new table of city employees having gross earnings over $100,000. That table should have two columns, `TITLE` and `TOTAL_GROSS`, and be sorted in decreasing order by the latter.  \n",
    "\n",
    "Split your work into multiple lines to make it easier to test and debug!"
   ]
  },
  {
   "cell_type": "code",
   "execution_count": null,
   "id": "fe510bee",
   "metadata": {},
   "outputs": [],
   "source": [
    "first = boston.where(\"TOTAL_GROSS\", are.above(100000)).select(\"TITLE\", \"TOTAL_GROSS\")\n",
    "over_100k = first.sort(\"TOTAL_GROSS\", descending = True)\n",
    "over_100k"
   ]
  },
  {
   "cell_type": "markdown",
   "id": "a20b2982",
   "metadata": {},
   "source": [
    "You may be surprised by the two outliers at the top of the list.  A quick [web search](https://www.bostonherald.com/2022/02/26/boston-a-six-figure-jackpot-for-city-employees-2-topped-1m/) sheds some light on those two employees (and may also help you validate your other answers below!)."
   ]
  },
  {
   "cell_type": "code",
   "execution_count": null,
   "id": "7044302c",
   "metadata": {},
   "outputs": [],
   "source": [
    "#grader.check(\"p3.1\")"
   ]
  },
  {
   "cell_type": "markdown",
   "id": "2f1c0057",
   "metadata": {},
   "source": [
    "#### Part 3.2 (5 pts)\n"
   ]
  },
  {
   "cell_type": "markdown",
   "id": "aaca24f0",
   "metadata": {},
   "source": [
    "We'd now like to know the number of employees with each `TITLE` having gross earnings greater than \\$100,000.  Use `over_100k` to construct a new table with following two columns (in order):  `TITLE` and `100k Earners`. \n",
    "\n",
    "The `100k Earners` column should report the number of employees given that title who earned over \\$100k.  \n",
    "\n",
    "Split your work into multiple lines to make it easier to test and debug!"
   ]
  },
  {
   "cell_type": "code",
   "execution_count": null,
   "id": "f6244265",
   "metadata": {},
   "outputs": [],
   "source": [
    "over_100k_by_title = over_100k.group(\"TITLE\", sum).relabeled(\"TOTAL_GROSS sum\", \"100k Earners\")\n",
    "over_100k_by_title"
   ]
  },
  {
   "cell_type": "code",
   "execution_count": null,
   "id": "6e103db2",
   "metadata": {
    "scrolled": true
   },
   "outputs": [],
   "source": [
    "#grader.check(\"p3.2\")"
   ]
  },
  {
   "cell_type": "code",
   "execution_count": null,
   "id": "15a75240-9b54-490c-87c9-3942f2792b16",
   "metadata": {},
   "outputs": [],
   "source": [
    "answer = over_100k_by_title.sort(\"100k Earners\", descending=True).column(\"100k Earners\").item(20)\n",
    "assert(answer == 46)"
   ]
  },
  {
   "cell_type": "code",
   "execution_count": null,
   "id": "224b10de-5c7c-43ea-9bb5-2d8d4ef42ab2",
   "metadata": {},
   "outputs": [],
   "source": []
  },
  {
   "cell_type": "markdown",
   "id": "3dcabe35",
   "metadata": {},
   "source": [
    "#### Part 3.3 (5 pts)\n"
   ]
  },
  {
   "cell_type": "markdown",
   "id": "5ab62590",
   "metadata": {},
   "source": [
    "Now create a table that summarizes the total earnings for each department.  \n",
    "\n",
    "Your table should have columns labeled `DEPARTMENT_NAME` and `DEPARTMENT_GROSS`, where the latter is the total gross earnings of all empoloyees in that department.  \n",
    "\n",
    "Sort from highest to lowest department gross earnings. \n",
    "\n",
    "*Note:* This is **not** for the subset of the data that the earnings are over 100k, but rather the entire dataset. \n",
    "\n",
    "\n",
    "*Tips:* Split your work into multiple lines to make it easier to test and debug."
   ]
  },
  {
   "cell_type": "code",
   "execution_count": null,
   "id": "a46237a1-28ee-49ce-86a6-c37a9fc8c643",
   "metadata": {},
   "outputs": [],
   "source": [
    "first_step = full_boston.group(\"DEPARTMENT_NAME\", sum).relabeled (\"TOTAL_GROSS sum\", \"DEPARTMENT_GROSS\").select(\"DEPARTMENT_NAME\", \"DEPARTMENT_GROSS\")\n",
    "first_step"
   ]
  },
  {
   "cell_type": "code",
   "execution_count": null,
   "id": "0935e45a",
   "metadata": {},
   "outputs": [],
   "source": [
    "dept_gross_earnings = first_step.sort(\"DEPARTMENT_GROSS\", descending = True)\n",
    "dept_gross_earnings"
   ]
  },
  {
   "cell_type": "code",
   "execution_count": null,
   "id": "b8f11179",
   "metadata": {},
   "outputs": [],
   "source": [
    "#grader.check(\"p3.3\")"
   ]
  },
  {
   "cell_type": "markdown",
   "id": "74550b11",
   "metadata": {},
   "source": [
    "<!-- BEGIN QUESTION -->\n",
    "\n",
    "#### Part 3.4 (5 pts)\n"
   ]
  },
  {
   "cell_type": "markdown",
   "id": "aec076c7",
   "metadata": {},
   "source": [
    "Create a bar chart showing the department gross earnings for the top 15 departments when ranked by total gross earnings."
   ]
  },
  {
   "cell_type": "code",
   "execution_count": null,
   "id": "edecc592",
   "metadata": {},
   "outputs": [],
   "source": [
    "dept_gross_earnings_bar = dept_gross_earnings.take(np.arange(0,14))\n",
    "dept_gross_earnings_bar.barh(\"DEPARTMENT_NAME\")"
   ]
  },
  {
   "cell_type": "markdown",
   "id": "002ec75e",
   "metadata": {},
   "source": [
    "<!-- END QUESTION -->\n",
    "\n",
    "<hr style=\"margin-bottom: 0px; padding:0; border: 2px solid #500082;\"/>\n"
   ]
  },
  {
   "cell_type": "markdown",
   "id": "eb4d4e08",
   "metadata": {},
   "source": [
    "## 4. Interactive Visualizations and Choropleths (15 pts)\n",
    "\n"
   ]
  },
  {
   "cell_type": "markdown",
   "id": "428ff67d",
   "metadata": {},
   "source": [
    "<font color='#B1008E'>\n",
    "    \n",
    "##### Learning objectives\n",
    "- Use `interact` to create interactive visualizations.\n",
    "- Create choropleths to present geographic information.\n",
    "</font>"
   ]
  },
  {
   "cell_type": "markdown",
   "id": "580d4ecb",
   "metadata": {},
   "source": [
    "Let's look at the capabilities of the `interact` function we introduced above.  \n",
    "\n",
    "The function `interact` takes as an input argument the function `f`, and additional arguments describing the choice of values for each parameter to `f`, as well as how the user will choose a value.  \n",
    "\n",
    "Below, our function of interest is `sum_three`, which takes three parameters -- `a`, `b`, and `c` -- and prints their sum.  We call interact with `sum_three` and the three keyword arguments describing that:\n",
    "* `a` can take on the values 1, 2, ..., 20, and the choice is presented as a *slider*.\n",
    "* `b` can take on either 5 or 10, and the choice is presented as a *popup choice menu*.\n",
    "* `c` can only be 100, and there is *no choice* for the user to make.\n",
    "\n"
   ]
  },
  {
   "cell_type": "code",
   "execution_count": null,
   "id": "ee406259",
   "metadata": {},
   "outputs": [],
   "source": [
    "# Run this cell and play around with the resulting interaction\n",
    "def sum_three(a,b,c):\n",
    "    print()\n",
    "    print(\"     Sum = \", a + b + c)\n",
    "    print()\n",
    "\n",
    "interact(sum_three, \n",
    "         a=Slider(1,20),\n",
    "         b=Choice(5,10),\n",
    "         c=Fixed(100))"
   ]
  },
  {
   "cell_type": "markdown",
   "id": "76fcf913",
   "metadata": {},
   "source": [
    "The following cell loads the `vdem` table, which contains several key indicies for measuring democracy in the [The V-Dem Dataset](https://v-dem.net/data/the-v-dem-dataset/), which the authors describe as a data set containing \"the world's most comprehensive and detailed democracy ratings\".   "
   ]
  },
  {
   "cell_type": "code",
   "execution_count": null,
   "id": "00f829bd",
   "metadata": {},
   "outputs": [],
   "source": [
    "vdem = Table().read_table('vdem-clean.csv')\n",
    "vdem.where('year', 2022).show(10)"
   ]
  },
  {
   "cell_type": "markdown",
   "id": "be7324fe",
   "metadata": {},
   "source": [
    "A few notes about the column variables we'll focus on:\n",
    "* **geo**: Each country's three-letter code established by the [International Organization for Standardization](https://en.wikipedia.org/wiki/International_Organization_for_Standardization) (ISO) in the [Alpha-3](https://en.wikipedia.org/wiki/ISO_3166-1_alpha-3#Current_codes) standard.\n",
    "* **polyarchy:** A numerical value between 0 and 1 that measures \"*to what extent is the ideal of electoral democracy in its fullest sense achieved?*\"  \n",
    "    \n",
    "* **liberal:**  A numerical value between 0 and 1 that measures \"*to what extent is the liberal principle of democracy achieved?*\""
   ]
  },
  {
   "cell_type": "markdown",
   "id": "210073ca",
   "metadata": {},
   "source": [
    "Run the following cell to see a longitudinal plot of our democracy metrics for the United States.  The code defines a function `country_indices` that extracts the relevant rows for the given country name and plots them as a long plot."
   ]
  },
  {
   "cell_type": "code",
   "execution_count": null,
   "id": "0803bab1",
   "metadata": {},
   "outputs": [],
   "source": [
    "def country_indices(country_name):\n",
    "    plot = vdem.where('country', country_name).select('year', 'polyarchy', 'liberal').plot('year')\n",
    "    plot.set_ylim(0,1)\n",
    "    plot.set_title(\"Indices for \" + country_name)\n",
    "    \n",
    "country_indices('United States of America')"
   ]
  },
  {
   "cell_type": "markdown",
   "id": "d86c5abf",
   "metadata": {},
   "source": [
    "These plots reflect a number of key aspects in our country's history that you may be able to identify.  For example: \n",
    "- Why may the measure of polyarchy have jumped up right arount 1920?  \n",
    "- How about the upward trend for the measure of liberal principle from about 1965-1975?  \n",
    "- Since 2000, why are there notable shifts in polyarchy about every four years?"
   ]
  },
  {
   "cell_type": "markdown",
   "id": "4e9fbeb6",
   "metadata": {},
   "source": [
    "<!-- BEGIN QUESTION -->\n",
    "\n",
    "#### Part 4.1 (5 pts)\n"
   ]
  },
  {
   "cell_type": "markdown",
   "id": "3f21b5d6",
   "metadata": {},
   "source": [
    "**Interactive visualization.** Let's create interactive visualization that generates a similar graph for every country in our dataset by selecting the country's name from a *popup choice menu*.  We create a list of all country names for you to use.\n",
    "\n",
    "*Hint*: If you're stuck, look back at how we used the `sum_three` function with `interact`. "
   ]
  },
  {
   "cell_type": "code",
   "execution_count": null,
   "id": "d16d8be9",
   "metadata": {},
   "outputs": [],
   "source": [
    "all_countries = np.unique(vdem.column('country'))   # all countries in vdem dataset\n",
    "\n",
    "interact(country_indices,\n",
    "         country_name = Choice(all_countries))"
   ]
  },
  {
   "cell_type": "markdown",
   "id": "caebf1b8",
   "metadata": {},
   "source": [
    "<!-- END QUESTION -->\n",
    "\n",
    "<!-- BEGIN QUESTION -->\n",
    "\n",
    "#### Part 4.2 (5 pts)\n"
   ]
  },
  {
   "cell_type": "markdown",
   "id": "6d0ad0de",
   "metadata": {},
   "source": [
    "We now return to the final column in our table, **regime**.  This is a categorical variable answering the question \"*How can the political regime overall be classified considering the competitiveness of access to power (polyarchy) as well as liberal principles?*\"  There are four values we summarize here:\n",
    "\n",
    "* **0: Closed autocracy.** No multiparty elections.\n",
    "* **1: Electoral autocracy.** De-jure multiparty elections but elections may not be free or fair.\n",
    "* **2: Electoral democracy.** De-facto free and fair multiparty elections, but does not necessarily satisfy principles such as access to justice transparent law enforcement, or rule of law.\n",
    "* **3: Liberal democracy.** De-facto free and fair multiparty elections and does satisfy principles such as access to justice transparent law enforcement, or rule of law.\n",
    "    \n",
    "The regime classification is made using a formula based on the other variables to categorize each country, including the two explored above.  \n",
    "\n",
    "[Choropleth maps](https://en.wikipedia.org/wiki/Choropleth_map) are a particular type of visualization that are excellent for presenting information like this.  We can create a country-level choropleth by first constructing a table with two columns: 1) geocodes and 2) the values for the countries with those codes.  The `Countries.map_table` function then creates the visualization by converting the values to a color scale and then coloring each country on a world map according to that scale.  Here is an example for regime."
   ]
  },
  {
   "cell_type": "code",
   "execution_count": null,
   "id": "f0bffdc0",
   "metadata": {},
   "outputs": [],
   "source": [
    "geo_regime = vdem.where('year', 2022).select('geo', 'regime')\n",
    "Countries.map_table(geo_regime, palette=\"RdBu\")   \n",
    "# palette describes the color scale.  Try: \"Spectral\", \"BuGn\", \"RdYlGn\" too!"
   ]
  },
  {
   "cell_type": "markdown",
   "id": "4c1ea967",
   "metadata": {},
   "source": [
    "Now we'll make an interactive visualization for any year between 1990 and 2022.  First complete the following function `visualize_regime` that creates a choropleth like the one above for a given year."
   ]
  },
  {
   "cell_type": "code",
   "execution_count": null,
   "id": "8a027407",
   "metadata": {},
   "outputs": [],
   "source": [
    "def visualize_regime(year):\n",
    "    geo_regime = vdem.where('year', (year)).select('geo', 'regime')\n",
    "    Countries.map_table(geo_regime, palette=\"RdBu\")\n",
    "    \n",
    "visualize_regime(2022) # Should look like the one above."
   ]
  },
  {
   "cell_type": "markdown",
   "id": "a6a48f32",
   "metadata": {},
   "source": [
    "<!-- END QUESTION -->\n",
    "\n",
    "<!-- BEGIN QUESTION -->\n",
    "\n",
    "#### Part 4.3 (5 pts)\n"
   ]
  },
  {
   "cell_type": "markdown",
   "id": "5c975989",
   "metadata": {},
   "source": [
    "Now, call `interact` on your `visualize_regime` function and let the user pick a `year` between 1900 and 2022 using a slider."
   ]
  },
  {
   "cell_type": "code",
   "execution_count": null,
   "id": "46bbd686",
   "metadata": {},
   "outputs": [],
   "source": [
    "interact(visualize_regime, \n",
    "         year=Slider(1900, 2022))"
   ]
  },
  {
   "cell_type": "markdown",
   "id": "114036aa",
   "metadata": {},
   "source": [
    "To explore more, add additional cells below (using the \"+\" button in the toolbar) and try some of the following visualizations:\n",
    "* Create a choropleth of the **change** in polyarchy score from 2000 to 2022.  Then create an interactive visualization that shows you the change from any date beteeen 1900 and 2021 and 2022.\n",
    "* Explore whether `polyarchy` and `liberal` are related by plotting those indices for 2022 in a scatter plot.  Create an interactive visualization that lets you plot that information for any year.\n",
    "* Generalize `regime` to a new function that takes both the year, and the variable to plot (`regime`, `polyarchy` or `liberal`).  Create an interactive choropleth using your function that lets the user set both the year and the variable to present."
   ]
  },
  {
   "cell_type": "markdown",
   "id": "af1ff62f",
   "metadata": {},
   "source": [
    "<!-- END QUESTION -->\n",
    "\n",
    "<hr style=\"margin-bottom: 0px; padding:0; border: 2px solid #500082;\"/>\n"
   ]
  },
  {
   "cell_type": "markdown",
   "id": "bbfbad19",
   "metadata": {},
   "source": [
    "## 5. Explore the Data (10 pts)\n",
    "\n"
   ]
  },
  {
   "cell_type": "markdown",
   "id": "dce5fe63",
   "metadata": {},
   "source": [
    "<font color='#B1008E'>\n",
    "    \n",
    "##### Learning objectives\n",
    "- Apply your experience manipulating tables and creating visualizations to creative, open-ended problems"
   ]
  },
  {
   "cell_type": "markdown",
   "id": "dd9fa1b5",
   "metadata": {},
   "source": [
    "In this question, we'd like you to further explore one of the data sets from this lab. \n",
    "\n",
    "You goal is to make **one concrete quantitative statement** about what the data shows, beyond what we explored in the questions above.\n",
    "\n",
    "This question is intentionally open ended, and you may take it in any direction you like.  There are two parts:\n",
    "\n",
    "1. In the first part, you'll write some code to explore and visualize the data.\n",
    "2. In the second part, you'll tell us what you discovered and how the first part supports your conclusions.\n",
    "\n",
    "If you are having trouble getting started, here are two ideas:\n",
    "* Tell us something about our penguin species: does flipper length correlate to body mass?  Are males always larger on average than females for each species, and is the ratio between male/female weights roughly the same for each species?  There is one species on all three islands -- are those three groups meaningfully different in terms of bill length, mass, etc?\n",
    "* Define a \"bang for buck\" metric for our burrito data that is an item's rating divided by cost.  From that, tell us which items are the greatest deal (most \"bang for buck\") and the worst deal (least \"bang for buck\").  Also, does it appear that price and rating are strongly correlated?\n",
    "* Which countries have seen the greatest positive/negative change in the `polyarchy` and `liberal` metrics since 2002?"
   ]
  },
  {
   "cell_type": "markdown",
   "id": "6b5b8590",
   "metadata": {},
   "source": [
    "<!-- BEGIN QUESTION -->\n",
    "\n",
    "#### Part 5.1 (5 pts)\n"
   ]
  },
  {
   "cell_type": "markdown",
   "id": "e2628ea2",
   "metadata": {},
   "source": [
    "In the cell below, write the code to investigate the property you are interested in looking at.\n",
    "\n",
    "*Note:* We give you one code cell for your Python code below.  You may add as many additional cells as you like.  Just click the `+` sign in this tab's toolbar to insert a new cell.  Then select \"Markdown\" from the toolbar's popup menu if you want the new cell to be for text, or \"Code\" if you want it to be for Python code.  Markdown cells can include basic formatting.  Click on any of our formatted text cells to see how to create lists, bold text, etc., or have a look [here](https://www.markdownguide.org/basic-syntax)."
   ]
  },
  {
   "cell_type": "code",
   "execution_count": null,
   "id": "1b74d199",
   "metadata": {},
   "outputs": [],
   "source": [
    "penguins = Table.read_table(\"penguins.csv\")\n",
    "penguins.show(10)"
   ]
  },
  {
   "cell_type": "code",
   "execution_count": null,
   "id": "fa54ca66-c005-4d75-838c-4846b56bf3d0",
   "metadata": {},
   "outputs": [],
   "source": [
    "flipper_length_and_body_mass = penguins.select(\"flipper_length_mm\", \"body_mass_g\")\n",
    "flipper_length_and_body_mass"
   ]
  },
  {
   "cell_type": "code",
   "execution_count": null,
   "id": "ea204e25-e7a1-4361-8dae-59c838b1c4d4",
   "metadata": {},
   "outputs": [],
   "source": [
    "length_and_body_mass = flipper_length_and_body_mass.scatter(\"flipper_length_mm\", \"body_mass_g\").set_title(\"Penguin Flipper Length and Body Mass\").set_ylabel(\"Body Mass (g)\").set_xlabel(\"Flipper Length (mm)\")\n",
    "length_and_body_mass"
   ]
  },
  {
   "cell_type": "markdown",
   "id": "cb169bdc",
   "metadata": {},
   "source": [
    "<!-- END QUESTION -->\n",
    "\n",
    "<!-- BEGIN QUESTION -->\n",
    "\n",
    "#### Part 5.2 (5 pts)\n"
   ]
  },
  {
   "cell_type": "markdown",
   "id": "301571f9",
   "metadata": {},
   "source": [
    "In this cell below, state a **quantitative property** you discovered for the dataset you examined in the first part.  Write a couple sentences stating your conclusion and how your work in the first part supports that conclusion."
   ]
  },
  {
   "cell_type": "markdown",
   "id": "78e61643",
   "metadata": {},
   "source": [
    "<hr style=\"margin:0; border: 1px solid #FFBE0A;\"/><font color='#FFBE0A'>Written Answer:</font>"
   ]
  },
  {
   "cell_type": "markdown",
   "id": "03956e6b",
   "metadata": {},
   "source": [
    "Does flipper length correlate to body mass?\n",
    "The scatterplot I created provides strong evidence for there being a correlation between body mass and flipper length among three species of penguins within three islands. The scatterplot demonstrates a strong, positive correlation between flipper length and body mass; when flipper length increases, body mass increases and vice versa."
   ]
  },
  {
   "cell_type": "markdown",
   "id": "d15da598",
   "metadata": {},
   "source": [
    "<hr style=\"margin:0; border: 1px solid #FFBE0A;\"/>"
   ]
  },
  {
   "cell_type": "markdown",
   "id": "7a8b3c36",
   "metadata": {},
   "source": [
    "<!-- END QUESTION -->\n",
    "\n",
    "<hr style=\"margin-bottom: 0px; padding:0; border: 2px solid #500082;\"/>\n"
   ]
  },
  {
   "cell_type": "markdown",
   "id": "715c84d5",
   "metadata": {},
   "source": [
    "## 6. Extra Credit: Better Prediction of Children's Heights\n"
   ]
  },
  {
   "cell_type": "markdown",
   "id": "b936eda4",
   "metadata": {},
   "source": [
    "This question is entirely **optional**.  We'll award up to 5 points of extra credit towards your lab score this week if you wish to work on it.\n",
    "\n",
    "We begin by revisiting the child height predictions for the \"galton\" data set from lecture.  Recall that we predict a child's height based on the average height of their parents.  Specifically, we predict a child's height to be the average of the heights of all children whose parents had the same average height (+/- 0.5 inches) as that child.  Below, we include our code from lecture to compute the prediction and plot the results."
   ]
  },
  {
   "cell_type": "code",
   "execution_count": null,
   "id": "5d370c20",
   "metadata": {},
   "outputs": [],
   "source": [
    "# The original measurements\n",
    "galton = Table.read_table('galton.csv')\n",
    "heights = galton.select('father', 'mother', 'childHeight', 'gender').relabeled(2, 'child')\n",
    "\n",
    "def average(x, y):\n",
    "    \"\"\"Compute the average of two values\"\"\"\n",
    "    return (x+y)/2\n",
    "\n",
    "# Compute the parent average heights and add to table.\n",
    "parent_avg = heights.apply(average, 'mother', 'father')\n",
    "heights = heights.with_columns('parent average', parent_avg)"
   ]
  },
  {
   "cell_type": "code",
   "execution_count": null,
   "id": "b3e5a8fa",
   "metadata": {},
   "outputs": [],
   "source": [
    "# Add a prediction column that has a prediction of that child's\n",
    "# height based on the parents' average height.\n",
    "\n",
    "def predict_child(parent_avg_height):\n",
    "    \"\"\"Given the parent's average height, compute a prediction for their \n",
    "       children's height by averaging the heights of all children whose \n",
    "       parents had the same average +/- 0.5 inches.\"\"\"\n",
    "    close_points = heights.where('parent average', are.between(parent_avg_height - 0.5, parent_avg_height + 0.5))\n",
    "    return close_points.column('child').mean()          \n",
    "\n",
    "predicted = heights.apply(predict_child, 'parent average')\n",
    "height_pred = heights.with_columns('prediction', predicted)\n",
    "height_pred.show(10)"
   ]
  },
  {
   "cell_type": "code",
   "execution_count": null,
   "id": "1b0ba083",
   "metadata": {},
   "outputs": [],
   "source": [
    "# A plot of the predicted height for each child.\n",
    "height_pred.select('child', 'parent average', 'prediction').scatter('parent average')"
   ]
  },
  {
   "cell_type": "markdown",
   "id": "8a0c34cf",
   "metadata": {},
   "source": [
    "<!-- BEGIN QUESTION -->\n",
    "\n",
    "#### Part 6.1 (0 pts)\n"
   ]
  },
  {
   "cell_type": "markdown",
   "id": "93538451",
   "metadata": {},
   "source": [
    "We want to quantify our prediction accuracy, and then develop a model with better accuracy.  \n",
    "\n",
    "To do this, we'll first define the error of a prediction to be the difference between the predicted and actual height of a child.  If the prediction is too high, we are left with a positive error term; if it is too low, we are left with a negative error term.  \n",
    "\n",
    "Add a column called `error` to the `height_pred` table capturing the error for each row.  To check your work, the first three error terms for the data set are -3.1, 0.9, and 1.1."
   ]
  },
  {
   "cell_type": "code",
   "execution_count": null,
   "id": "b4a25a7f",
   "metadata": {},
   "outputs": [],
   "source": [
    "def error_func(x, y):\n",
    "    \"\"\"Difference between predicted & actual height of a child\"\"\"\n",
    "    return (x - y)\n",
    "\n",
    "error = height_pred.apply(error_func, 'prediction', 'child')\n",
    "height_pred = height_pred.with_columns('error', error)\n",
    "height_pred.show(10)"
   ]
  },
  {
   "cell_type": "markdown",
   "id": "acdc48e3",
   "metadata": {},
   "source": [
    "<!-- END QUESTION -->\n",
    "\n",
    "<!-- BEGIN QUESTION -->\n",
    "\n",
    "#### Part 6.2 (0 pts)\n"
   ]
  },
  {
   "cell_type": "markdown",
   "id": "76ca6db2",
   "metadata": {},
   "source": [
    "Now plot a histogram of the \"error\" column.  \n",
    "\n",
    "*Hint:* You should see a fairly symmetric curve centered around 0 with tails that extend to about -8 and +9."
   ]
  },
  {
   "cell_type": "code",
   "execution_count": null,
   "id": "31d03a3c",
   "metadata": {},
   "outputs": [],
   "source": [
    "height_pred.hist(\"error\")"
   ]
  },
  {
   "cell_type": "markdown",
   "id": "407d68d6",
   "metadata": {},
   "source": [
    "<!-- END QUESTION -->\n",
    "\n",
    "<!-- BEGIN QUESTION -->\n",
    "\n",
    "#### Part 6.3 (0 pts)\n"
   ]
  },
  {
   "cell_type": "markdown",
   "id": "932f9e60",
   "metadata": {},
   "source": [
    "We'll now explore whether the errors correlate with gender.  Create an overlaid histogram for the \"error\" column grouping by gender."
   ]
  },
  {
   "cell_type": "code",
   "execution_count": null,
   "id": "1f467976",
   "metadata": {},
   "outputs": [],
   "source": [
    "height_pred.hist(\"error\", group=\"gender\", bins=10)"
   ]
  },
  {
   "cell_type": "markdown",
   "id": "7364865b",
   "metadata": {},
   "source": [
    "<!-- END QUESTION -->\n",
    "\n",
    "<!-- BEGIN QUESTION -->\n",
    "\n",
    "#### Part 6.4 (0 pts)\n"
   ]
  },
  {
   "cell_type": "markdown",
   "id": "0f350062",
   "metadata": {},
   "source": [
    "Does your histogram show systematic bias in the predictions, where all of the guesses for a particular gender are skewed?  Explain what the histogram illustrates with respect to prediction bias."
   ]
  },
  {
   "cell_type": "markdown",
   "id": "dd4bf4ab",
   "metadata": {},
   "source": [
    "<hr style=\"margin:0; border: 1px solid #FFBE0A;\"/><font color='#FFBE0A'>Written Answer:</font>"
   ]
  },
  {
   "cell_type": "markdown",
   "id": "84cfe46d",
   "metadata": {},
   "source": [
    "Generally, the male predictions were underestimated, as the majority of them had a negative error rate, meaning their actual heights were often greater than their predictions. On the contrary, many female predictions were overestimated, as a majority of them had a positive error rate, meaning their predictions were often greater than their actual heights. "
   ]
  },
  {
   "cell_type": "markdown",
   "id": "2e7c62f2",
   "metadata": {},
   "source": [
    "<hr style=\"margin:0; border: 1px solid #FFBE0A;\"/>"
   ]
  },
  {
   "cell_type": "markdown",
   "id": "8880ad07",
   "metadata": {},
   "source": [
    "<!-- END QUESTION -->\n",
    "\n",
    "<!-- BEGIN QUESTION -->\n",
    "\n",
    "#### Part 6.5 (0 pts)\n"
   ]
  },
  {
   "cell_type": "markdown",
   "id": "ee968874",
   "metadata": {},
   "source": [
    "We'd now like you to build a more accurate prediction model.  The key idea is that when you predict a child's height, you should only look at the heights of other children with the *same gender* when computing an average height for those with parents with similar average height.  \n",
    "\n",
    "The end result of the code you write for this part should be a new table, `height_with_both_pred` that contains everything in `height_pred` plus two new columns:\n",
    "\n",
    "* `prediction with gender`: the new predictions that consider each child's gender.\n",
    "* `error with gender`: the error values for your new predictions.\n",
    "\n",
    "Test your code as you write it, and create scatter plots and histograms you believe will be useful for understanding whether your code is working.\n",
    "\n",
    "You will explain the conclusions you are able draw from this exercise in the next part.\n",
    "\n",
    "*Note:* We give you one code cell below.  You may add as many additional cells as you like.  Just click the `+` sign in this tab's toolbar to insert a new cell.  Then select \"Markdown\" from the toolbar's popup menu if you want the new cell to be for text, or \"Code\" if you want it to be for Python code.  Markdown cells can include basic formatting.  Click on any of our formatted text cells to see how to create lists, bold text, etc., or have a look [here](https://www.markdownguide.org/basic-syntax).\n"
   ]
  },
  {
   "cell_type": "code",
   "execution_count": null,
   "id": "f8fbaf6e-6c44-4d25-9db2-cedc8aa4ca45",
   "metadata": {},
   "outputs": [],
   "source": []
  },
  {
   "cell_type": "code",
   "execution_count": null,
   "id": "f1ca4bb9",
   "metadata": {},
   "outputs": [],
   "source": [
    "height_with_both_pred = "
   ]
  },
  {
   "cell_type": "markdown",
   "id": "da44bb73",
   "metadata": {},
   "source": [
    "The following lines should provide insight into what your new prediction model predicts for each child, and also what the error  distribution looks like, when compared to the original."
   ]
  },
  {
   "cell_type": "code",
   "execution_count": null,
   "id": "01129073",
   "metadata": {},
   "outputs": [],
   "source": [
    "# Assuming you used the names for columns described above, these lines plot two key graphs you \n",
    "# will want to examine.\n",
    "\n",
    "# Uncomment these lines:\n",
    "# height_with_both_pred.select('child', 'parent average', 'prediction with gender').scatter('parent average')\n",
    "# height_with_both_pred.hist('error', 'error with gender')"
   ]
  },
  {
   "cell_type": "markdown",
   "id": "6c03d897",
   "metadata": {},
   "source": [
    "<!-- END QUESTION -->\n",
    "\n",
    "<!-- BEGIN QUESTION -->\n",
    "\n",
    "#### Part 6.6 (0 pts)\n"
   ]
  },
  {
   "cell_type": "markdown",
   "id": "3b010830",
   "metadata": {},
   "source": [
    "Explain the graphs in the previous part.  What does the scatter plot show, and why?  Does the histogram demonstrate improved prediction?  Why do you conclude that?"
   ]
  },
  {
   "cell_type": "markdown",
   "id": "9bc41c15",
   "metadata": {},
   "source": [
    "<hr style=\"margin:0; border: 1px solid #FFBE0A;\"/><font color='#FFBE0A'>Written Answer:</font>"
   ]
  },
  {
   "cell_type": "markdown",
   "id": "6676dd2a",
   "metadata": {},
   "source": [
    "_Type your answer here, replacing this text._\n"
   ]
  },
  {
   "cell_type": "markdown",
   "id": "b825173e",
   "metadata": {},
   "source": [
    "<hr style=\"margin:0; border: 1px solid #FFBE0A;\"/>"
   ]
  },
  {
   "cell_type": "markdown",
   "id": "cd6957cd",
   "metadata": {},
   "source": [
    "<!-- END QUESTION -->\n",
    "\n",
    "<hr class=\"m-0\" style=\"border: 3px solid #500082;\"/>\n",
    "\n",
    "# You're Done!\n",
    "Follow these steps to submit your work:\n",
    "* Run the tests and verify that they pass as you expect. \n",
    "* Choose **Save Notebook** from the **File** menu.\n",
    "* **Run the final cell** and click the link below to download the zip file. \n",
    "\n",
    "Once you have downloaded that file, go to [Gradescope](https://www.gradescope.com/) and submit the zip file to \n",
    "the corresponding assignment. For Lab N, the assignment will be called \"Lab N Autograder\".\n",
    "\n",
    "Once you have submitted, your Gradescope assignment should show you passing all the tests you passed in your assignment notebook.\n"
   ]
  },
  {
   "cell_type": "markdown",
   "id": "a35c4211",
   "metadata": {},
   "source": [
    "## Submission\n",
    "\n",
    "Make sure you have run all cells in your notebook in order before running the cell below, so that all images/graphs appear in the output. The cell below will generate a zip file for you to submit. **Please save before exporting!**"
   ]
  },
  {
   "cell_type": "code",
   "execution_count": null,
   "id": "447dada0",
   "metadata": {},
   "outputs": [],
   "source": [
    "# Save your notebook first, then run this cell to export your submission.\n",
    "grader.export(run_tests=True)"
   ]
  },
  {
   "cell_type": "markdown",
   "id": "adaad2b9",
   "metadata": {},
   "source": [
    " "
   ]
  }
 ],
 "metadata": {
  "ipyflow": {
   "cell_children": {
    "00f829bd": [
     "46bbd686",
     "f0bffdc0",
     "0803bab1",
     "d16d8be9",
     "8a027407"
    ],
    "01129073": [],
    "0803bab1": [
     "d16d8be9"
    ],
    "0935e45a": [
     "edecc592"
    ],
    "15a75240-9b54-490c-87c9-3942f2792b16": [],
    "1b0ba083": [],
    "1b74d199": [
     "fa54ca66-c005-4d75-838c-4846b56bf3d0"
    ],
    "1da8f5d6": [],
    "1f467976": [],
    "224b10de-5c7c-43ea-9bb5-2d8d4ef42ab2": [],
    "25a1f096": [],
    "2604e6bd-1475-451c-88f7-de5b0cc2523d": [],
    "2ae28128": [
     "6bebc087-6e4e-4a6c-9844-f2744309aeab"
    ],
    "2c5be5ec": [
     "2604e6bd-1475-451c-88f7-de5b0cc2523d"
    ],
    "302c2e90": [
     "15a75240-9b54-490c-87c9-3942f2792b16",
     "ef802c64",
     "8c963e8e",
     "edecc592",
     "9167ceac-bb5c-4a12-b630-657972e8f012"
    ],
    "31d03a3c": [],
    "3d75118c": [],
    "408cfd94": [],
    "447dada0": [],
    "46437336": [],
    "46bbd686": [],
    "540f45e3-084f-4621-89f8-03edaa3e1e20": [],
    "550dc97b": [],
    "571f1740": [],
    "5d370c20": [
     "b3e5a8fa"
    ],
    "6bebc087-6e4e-4a6c-9844-f2744309aeab": [],
    "6e103db2": [],
    "7044302c": [],
    "818d17ac": [
     "a46237a1-28ee-49ce-86a6-c37a9fc8c643",
     "a3c9426f"
    ],
    "8a027407": [
     "46bbd686"
    ],
    "8c963e8e": [],
    "9167ceac-bb5c-4a12-b630-657972e8f012": [
     "2ae28128"
    ],
    "950a6be5": [],
    "9ad71968": [],
    "a3c9426f": [
     "fe510bee"
    ],
    "a46237a1-28ee-49ce-86a6-c37a9fc8c643": [
     "0935e45a"
    ],
    "a9770d82": [],
    "b3e5a8fa": [
     "1b0ba083",
     "b4a25a7f"
    ],
    "b4a25a7f": [
     "1f467976",
     "31d03a3c"
    ],
    "b8f11179": [],
    "c1789773": [
     "fc17533d",
     "ef802c64",
     "e06600de",
     "f0113066",
     "8c963e8e",
     "edecc592",
     "2ae28128",
     "9167ceac-bb5c-4a12-b630-657972e8f012",
     "550dc97b",
     "0935e45a",
     "818d17ac",
     "950a6be5",
     "e9ac3029"
    ],
    "c30ab0a5": [],
    "cbd92e1e": [],
    "d16d8be9": [],
    "e06600de": [
     "550dc97b",
     "8c963e8e",
     "fc17533d",
     "f0113066"
    ],
    "e9ac3029": [
     "9167ceac-bb5c-4a12-b630-657972e8f012",
     "ef802c64",
     "950a6be5"
    ],
    "ea204e25-e7a1-4361-8dae-59c838b1c4d4": [],
    "edecc592": [],
    "ee406259": [
     "d16d8be9"
    ],
    "ef802c64": [],
    "f0113066": [],
    "f0bffdc0": [
     "8a027407"
    ],
    "f1ca4bb9": [],
    "f47502ad": [],
    "f6244265": [
     "15a75240-9b54-490c-87c9-3942f2792b16"
    ],
    "f8fbaf6e-6c44-4d25-9db2-cedc8aa4ca45": [],
    "fa54ca66-c005-4d75-838c-4846b56bf3d0": [
     "ea204e25-e7a1-4361-8dae-59c838b1c4d4"
    ],
    "fc17533d": [
     "2c5be5ec"
    ],
    "fe510bee": [
     "f6244265"
    ]
   },
   "cell_parents": {
    "00f829bd": [],
    "01129073": [],
    "0803bab1": [
     "00f829bd"
    ],
    "0935e45a": [
     "c1789773",
     "a46237a1-28ee-49ce-86a6-c37a9fc8c643"
    ],
    "15a75240-9b54-490c-87c9-3942f2792b16": [
     "302c2e90",
     "f6244265"
    ],
    "1b0ba083": [
     "b3e5a8fa"
    ],
    "1b74d199": [],
    "1da8f5d6": [],
    "1f467976": [
     "b4a25a7f"
    ],
    "224b10de-5c7c-43ea-9bb5-2d8d4ef42ab2": [],
    "25a1f096": [],
    "2604e6bd-1475-451c-88f7-de5b0cc2523d": [
     "2c5be5ec"
    ],
    "2ae28128": [
     "c1789773",
     "9167ceac-bb5c-4a12-b630-657972e8f012"
    ],
    "2c5be5ec": [
     "fc17533d"
    ],
    "302c2e90": [],
    "31d03a3c": [
     "b4a25a7f"
    ],
    "3d75118c": [],
    "408cfd94": [],
    "447dada0": [],
    "46437336": [],
    "46bbd686": [
     "8a027407",
     "00f829bd"
    ],
    "540f45e3-084f-4621-89f8-03edaa3e1e20": [],
    "550dc97b": [
     "c1789773",
     "e06600de"
    ],
    "571f1740": [],
    "5d370c20": [],
    "6bebc087-6e4e-4a6c-9844-f2744309aeab": [
     "2ae28128"
    ],
    "6e103db2": [],
    "7044302c": [],
    "818d17ac": [
     "c1789773"
    ],
    "8a027407": [
     "00f829bd",
     "f0bffdc0"
    ],
    "8c963e8e": [
     "c1789773",
     "302c2e90",
     "e06600de"
    ],
    "9167ceac-bb5c-4a12-b630-657972e8f012": [
     "c1789773",
     "302c2e90",
     "e9ac3029"
    ],
    "950a6be5": [
     "c1789773",
     "e9ac3029"
    ],
    "9ad71968": [],
    "a3c9426f": [
     "818d17ac"
    ],
    "a46237a1-28ee-49ce-86a6-c37a9fc8c643": [
     "818d17ac"
    ],
    "a9770d82": [],
    "b3e5a8fa": [
     "5d370c20"
    ],
    "b4a25a7f": [
     "b3e5a8fa"
    ],
    "b8f11179": [],
    "c1789773": [],
    "c30ab0a5": [],
    "cbd92e1e": [],
    "d16d8be9": [
     "00f829bd",
     "ee406259",
     "0803bab1"
    ],
    "e06600de": [
     "c1789773"
    ],
    "e9ac3029": [
     "c1789773"
    ],
    "ea204e25-e7a1-4361-8dae-59c838b1c4d4": [
     "fa54ca66-c005-4d75-838c-4846b56bf3d0"
    ],
    "edecc592": [
     "c1789773",
     "302c2e90",
     "0935e45a"
    ],
    "ee406259": [],
    "ef802c64": [
     "c1789773",
     "302c2e90",
     "e9ac3029"
    ],
    "f0113066": [
     "c1789773",
     "e06600de"
    ],
    "f0bffdc0": [
     "00f829bd"
    ],
    "f1ca4bb9": [],
    "f47502ad": [],
    "f6244265": [
     "fe510bee"
    ],
    "f8fbaf6e-6c44-4d25-9db2-cedc8aa4ca45": [],
    "fa54ca66-c005-4d75-838c-4846b56bf3d0": [
     "1b74d199"
    ],
    "fc17533d": [
     "c1789773",
     "e06600de"
    ],
    "fe510bee": [
     "a3c9426f"
    ]
   }
  },
  "kernelspec": {
   "display_name": "Python 3 (ipyflow)",
   "language": "python",
   "name": "ipyflow"
  },
  "language_info": {
   "codemirror_mode": {
    "name": "ipython",
    "version": 3
   },
   "file_extension": ".py",
   "mimetype": "text/x-python",
   "name": "python",
   "nbconvert_exporter": "python",
   "pygments_lexer": "ipython3",
   "version": "3.11.7"
  },
  "otter": {
   "OK_FORMAT": true,
   "tests": {
    "p1.1": {
     "has_hidden": true,
     "name": "p1.1",
     "points": 5,
     "suites": [
      {
       "cases": [
        {
         "code": ">>> check_str('set([\"Name\", \"Menu_Item\", \"Yelp\", \\'Google\\', \"Overall\", \"Cost\"]) == set(burritos.labels)', locals())\n",
         "failure_message": "check(set([\"Name\", \"Menu_Item\", \"Yelp\", 'Google', \"Overall\", \"Cost\"]) == set(burritos.labels))",
         "hidden": false,
         "locked": false,
         "submit_only": false,
         "success_message": "check(set([\"Name\", \"Menu_Item\", \"Yelp\", 'Google', \"Overall\", \"Cost\"]) == set(burritos.labels))"
        },
        {
         "code": ">>> check_str('burritos.num_rows == 212', locals())\n",
         "failure_message": "check(burritos.num_rows == 212)",
         "hidden": false,
         "locked": false,
         "submit_only": false,
         "success_message": "check(burritos.num_rows == 212)"
        }
       ],
       "scored": true,
       "setup": "",
       "teardown": "",
       "type": "doctest"
      }
     ]
    },
    "p1.4": {
     "has_hidden": true,
     "name": "p1.4",
     "points": 5,
     "suites": [
      {
       "cases": [
        {
         "code": ">>> check_str('california_burritos.num_columns == 2', locals())\n",
         "failure_message": "check(california_burritos.num_columns == 2)",
         "hidden": false,
         "locked": false,
         "submit_only": false,
         "success_message": "check(california_burritos.num_columns == 2)"
        },
        {
         "code": ">>> check_str('california_burritos.num_rows == 19', locals())\n",
         "failure_message": "check(california_burritos.num_rows == 19)",
         "hidden": false,
         "locked": false,
         "submit_only": false,
         "success_message": "check(california_burritos.num_rows == 19)"
        }
       ],
       "scored": true,
       "setup": "",
       "teardown": "",
       "type": "doctest"
      }
     ]
    },
    "p1.5": {
     "has_hidden": true,
     "name": "p1.5",
     "points": 5,
     "suites": [
      {
       "cases": [
        {
         "code": ">>> check_str('best_california_burrito in california_burritos.column(\"Menu_Item\")', locals())\n",
         "failure_message": "check(best_california_burrito in california_burritos.column(\"Menu_Item\"))",
         "hidden": false,
         "locked": false,
         "submit_only": false,
         "success_message": "check(best_california_burrito in california_burritos.column(\"Menu_Item\"))"
        }
       ],
       "scored": true,
       "setup": "",
       "teardown": "",
       "type": "doctest"
      }
     ]
    },
    "p1.7": {
     "has_hidden": true,
     "name": "p1.7",
     "points": 5,
     "suites": [
      {
       "cases": [
        {
         "code": ">>> check_str('burritos_less_than_6 in between_or_equal(0, 100)', locals())\n",
         "failure_message": "check(burritos_less_than_6 in between_or_equal(0, 100))",
         "hidden": false,
         "locked": false,
         "submit_only": false,
         "success_message": "check(burritos_less_than_6 in between_or_equal(0, 100))"
        }
       ],
       "scored": true,
       "setup": "",
       "teardown": "",
       "type": "doctest"
      }
     ]
    },
    "p2.1": {
     "has_hidden": false,
     "name": "p2.1",
     "points": 5,
     "suites": [
      {
       "cases": [
        {
         "code": ">>> check_str('bill_lengths.labels == (\\'species\\', \\'island\\', \\'bill length\\')', locals())\n",
         "failure_message": "check(bill_lengths.labels == ('species', 'island', 'bill length'))",
         "hidden": false,
         "locked": false,
         "submit_only": false,
         "success_message": "check(bill_lengths.labels == ('species', 'island', 'bill length'))"
        }
       ],
       "scored": true,
       "setup": "",
       "teardown": "",
       "type": "doctest"
      }
     ]
    },
    "p2.2": {
     "has_hidden": true,
     "name": "p2.2",
     "points": 5,
     "suites": [
      {
       "cases": [
        {
         "code": ">>> check_str('bill_length_mean_by_species.labels == make_array(\\'species\\', \\'bill length mean\\')', locals())\n",
         "failure_message": "check(bill_length_mean_by_species.labels == make_array('species', 'bill length mean'))",
         "hidden": false,
         "locked": false,
         "submit_only": false,
         "success_message": "check(bill_length_mean_by_species.labels == make_array('species', 'bill length mean'))"
        },
        {
         "code": ">>> check_str('bill_length_mean_by_species.num_rows == 3', locals())\n",
         "failure_message": "check(bill_length_mean_by_species.num_rows == 3)",
         "hidden": false,
         "locked": false,
         "submit_only": false,
         "success_message": "check(bill_length_mean_by_species.num_rows == 3)"
        }
       ],
       "scored": true,
       "setup": "",
       "teardown": "",
       "type": "doctest"
      }
     ]
    },
    "p2.3": {
     "has_hidden": true,
     "name": "p2.3",
     "points": 5,
     "suites": [
      {
       "cases": [
        {
         "code": ">>> check_str('bill_length_max_by_species_and_island.labels == make_array(\\'species\\', \\'island\\', \\'bill length max\\')', locals())\n",
         "failure_message": "check(bill_length_max_by_species_and_island.labels == make_array('species', 'island', 'bill length max'))",
         "hidden": false,
         "locked": false,
         "submit_only": false,
         "success_message": "check(bill_length_max_by_species_and_island.labels == make_array('species', 'island', 'bill length max'))"
        },
        {
         "code": ">>> check_str('bill_length_max_by_species_and_island.num_rows == 5', locals())\n",
         "failure_message": "check(bill_length_max_by_species_and_island.num_rows == 5)",
         "hidden": false,
         "locked": false,
         "submit_only": false,
         "success_message": "check(bill_length_max_by_species_and_island.num_rows == 5)"
        }
       ],
       "scored": true,
       "setup": "",
       "teardown": "",
       "type": "doctest"
      }
     ]
    },
    "p2.4": {
     "has_hidden": true,
     "name": "p2.4",
     "points": 5,
     "suites": [
      {
       "cases": [
        {
         "code": ">>> check_str('bill_length_spreads.labels == make_array(\\'species\\', \\'island\\', \\'bill length spread\\')', locals())\n",
         "failure_message": "check(bill_length_spreads.labels == make_array('species', 'island', 'bill length spread'))",
         "hidden": false,
         "locked": false,
         "submit_only": false,
         "success_message": "check(bill_length_spreads.labels == make_array('species', 'island', 'bill length spread'))"
        },
        {
         "code": ">>> check_str('bill_length_spreads.num_rows == 5', locals())\n",
         "failure_message": "check(bill_length_spreads.num_rows == 5)",
         "hidden": false,
         "locked": false,
         "submit_only": false,
         "success_message": "check(bill_length_spreads.num_rows == 5)"
        }
       ],
       "scored": true,
       "setup": "",
       "teardown": "",
       "type": "doctest"
      }
     ]
    },
    "p2.5": {
     "has_hidden": true,
     "name": "p2.5",
     "points": 5,
     "suites": [
      {
       "cases": [
        {
         "code": ">>> check_str('spreads_matrix.num_rows == 3', locals())\n",
         "failure_message": "check(spreads_matrix.num_rows == 3)",
         "hidden": false,
         "locked": false,
         "submit_only": false,
         "success_message": "check(spreads_matrix.num_rows == 3)"
        },
        {
         "code": ">>> check_str('spreads_matrix.num_columns == 4', locals())\n",
         "failure_message": "check(spreads_matrix.num_columns == 4)",
         "hidden": false,
         "locked": false,
         "submit_only": false,
         "success_message": "check(spreads_matrix.num_columns == 4)"
        },
        {
         "code": ">>> check_str('spreads_matrix.labels == make_array(\\'island\\', \\'Adelie\\', \\'Chinstrap\\', \\'Gentoo\\')', locals())\n",
         "failure_message": "check(spreads_matrix.labels == make_array('island', 'Adelie', 'Chinstrap', 'Gentoo'))",
         "hidden": false,
         "locked": false,
         "submit_only": false,
         "success_message": "check(spreads_matrix.labels == make_array('island', 'Adelie', 'Chinstrap', 'Gentoo'))"
        }
       ],
       "scored": true,
       "setup": "",
       "teardown": "",
       "type": "doctest"
      }
     ]
    },
    "p3.1": {
     "has_hidden": true,
     "name": "p3.1",
     "points": 5,
     "suites": [
      {
       "cases": [
        {
         "code": ">>> check_str('over_100k.num_rows == 8708', locals())\n",
         "failure_message": "check(over_100k.num_rows == 8708)",
         "hidden": false,
         "locked": false,
         "submit_only": false,
         "success_message": "check(over_100k.num_rows == 8708)"
        }
       ],
       "scored": true,
       "setup": "",
       "teardown": "",
       "type": "doctest"
      }
     ]
    },
    "p3.2": {
     "has_hidden": true,
     "name": "p3.2",
     "points": 5,
     "suites": [
      {
       "cases": [
        {
         "code": ">>> check_str('over_100k_by_title.num_rows == 702', locals())\n",
         "failure_message": "check(over_100k_by_title.num_rows == 702)",
         "hidden": false,
         "locked": false,
         "submit_only": false,
         "success_message": "check(over_100k_by_title.num_rows == 702)"
        },
        {
         "code": ">>> check_str('over_100k_by_title.labels == (\\'TITLE\\', \\'100k Earners\\')', locals())\n",
         "failure_message": "check(over_100k_by_title.labels == ('TITLE', '100k Earners'))",
         "hidden": false,
         "locked": false,
         "submit_only": false,
         "success_message": "check(over_100k_by_title.labels == ('TITLE', '100k Earners'))"
        }
       ],
       "scored": true,
       "setup": "",
       "teardown": "",
       "type": "doctest"
      }
     ]
    },
    "p3.3": {
     "has_hidden": true,
     "name": "p3.3",
     "points": 5,
     "suites": [
      {
       "cases": [
        {
         "code": ">>> check_str('dept_gross_earnings.num_rows == 231', locals())\n",
         "failure_message": "check(dept_gross_earnings.num_rows == 231)",
         "hidden": false,
         "locked": false,
         "submit_only": false,
         "success_message": "check(dept_gross_earnings.num_rows == 231)"
        },
        {
         "code": ">>> check_str('dept_gross_earnings.labels == (\\'DEPARTMENT_NAME\\', \\'DEPARTMENT_GROSS\\')', locals())\n",
         "failure_message": "check(dept_gross_earnings.labels == ('DEPARTMENT_NAME', 'DEPARTMENT_GROSS'))",
         "hidden": false,
         "locked": false,
         "submit_only": false,
         "success_message": "check(dept_gross_earnings.labels == ('DEPARTMENT_NAME', 'DEPARTMENT_GROSS'))"
        }
       ],
       "scored": true,
       "setup": "",
       "teardown": "",
       "type": "doctest"
      }
     ]
    }
   }
  },
  "vscode": {
   "interpreter": {
    "hash": "e9a7af6fc709cc25e111b0d6e28f738a78907138b7e48b682edcf6dfb7dc8bee"
   }
  },
  "widgets": {
   "application/vnd.jupyter.widget-state+json": {
    "state": {
     "039e7d06e16d4b8896998db77f4f1f87": {
      "model_module": "@jupyter-widgets/controls",
      "model_module_version": "1.5.0",
      "model_name": "VBoxModel",
      "state": {
       "_dom_classes": [
        "widget-interact"
       ],
       "_model_module": "@jupyter-widgets/controls",
       "_model_module_version": "1.5.0",
       "_model_name": "VBoxModel",
       "_view_count": null,
       "_view_module": "@jupyter-widgets/controls",
       "_view_module_version": "1.5.0",
       "_view_name": "VBoxView",
       "box_style": "",
       "children": [
        "IPY_MODEL_12d6df4d57e24502ae9c87b2a37aaf7a",
        "IPY_MODEL_133e69dc08e744a3ae490f2664cfeec7"
       ],
       "layout": "IPY_MODEL_0850dd9039c54c729e780578153eff8c"
      }
     },
     "0850dd9039c54c729e780578153eff8c": {
      "model_module": "@jupyter-widgets/base",
      "model_module_version": "1.2.0",
      "model_name": "LayoutModel",
      "state": {
       "_model_module": "@jupyter-widgets/base",
       "_model_module_version": "1.2.0",
       "_model_name": "LayoutModel",
       "_view_count": null,
       "_view_module": "@jupyter-widgets/base",
       "_view_module_version": "1.2.0",
       "_view_name": "LayoutView",
       "align_content": null,
       "align_items": null,
       "align_self": null,
       "border": null,
       "bottom": null,
       "display": null,
       "flex": null,
       "flex_flow": null,
       "grid_area": null,
       "grid_auto_columns": null,
       "grid_auto_flow": null,
       "grid_auto_rows": null,
       "grid_column": null,
       "grid_gap": null,
       "grid_row": null,
       "grid_template_areas": null,
       "grid_template_columns": null,
       "grid_template_rows": null,
       "height": null,
       "justify_content": null,
       "justify_items": null,
       "left": null,
       "margin": null,
       "max_height": null,
       "max_width": null,
       "min_height": null,
       "min_width": null,
       "object_fit": null,
       "object_position": null,
       "order": null,
       "overflow": null,
       "overflow_x": null,
       "overflow_y": null,
       "padding": null,
       "right": null,
       "top": null,
       "visibility": null,
       "width": null
      }
     },
     "12d6df4d57e24502ae9c87b2a37aaf7a": {
      "model_module": "@jupyter-widgets/controls",
      "model_module_version": "1.5.0",
      "model_name": "DropdownModel",
      "state": {
       "_dom_classes": [],
       "_model_module": "@jupyter-widgets/controls",
       "_model_module_version": "1.5.0",
       "_model_name": "DropdownModel",
       "_options_labels": [
        "Afghanistan",
        "Albania",
        "Algeria",
        "Angola",
        "Argentina",
        "Armenia",
        "Australia",
        "Austria",
        "Azerbaijan",
        "Bahrain",
        "Bangladesh",
        "Barbados",
        "Belarus",
        "Belgium",
        "Benin",
        "Bhutan",
        "Bolivia",
        "Bosnia and Herzegovina",
        "Botswana",
        "Brazil",
        "Bulgaria",
        "Burkina Faso",
        "Burma/Myanmar",
        "Burundi",
        "Cambodia",
        "Cameroon",
        "Canada",
        "Cape Verde",
        "Central African Republic",
        "Chad",
        "Chile",
        "China",
        "Colombia",
        "Comoros",
        "Costa Rica",
        "Croatia",
        "Cuba",
        "Cyprus",
        "Czechia",
        "Democratic Republic of the Congo",
        "Denmark",
        "Djibouti",
        "Dominican Republic",
        "Ecuador",
        "Egypt",
        "El Salvador",
        "Equatorial Guinea",
        "Eritrea",
        "Estonia",
        "Eswatini",
        "Ethiopia",
        "Fiji",
        "Finland",
        "France",
        "Gabon",
        "Georgia",
        "German Democratic Republic",
        "Germany",
        "Ghana",
        "Greece",
        "Guatemala",
        "Guinea",
        "Guinea-Bissau",
        "Guyana",
        "Haiti",
        "Honduras",
        "Hong Kong",
        "Hungary",
        "Iceland",
        "India",
        "Indonesia",
        "Iran",
        "Iraq",
        "Ireland",
        "Israel",
        "Italy",
        "Ivory Coast",
        "Jamaica",
        "Japan",
        "Jordan",
        "Kazakhstan",
        "Kenya",
        "Kosovo",
        "Kuwait",
        "Kyrgyzstan",
        "Laos",
        "Latvia",
        "Lebanon",
        "Lesotho",
        "Liberia",
        "Libya",
        "Lithuania",
        "Luxembourg",
        "Madagascar",
        "Malawi",
        "Malaysia",
        "Maldives",
        "Mali",
        "Malta",
        "Mauritania",
        "Mauritius",
        "Mexico",
        "Moldova",
        "Mongolia",
        "Montenegro",
        "Morocco",
        "Mozambique",
        "Namibia",
        "Nepal",
        "Netherlands",
        "New Zealand",
        "Nicaragua",
        "Niger",
        "Nigeria",
        "North Korea",
        "North Macedonia",
        "Norway",
        "Oman",
        "Pakistan",
        "Palestine/British Mandate",
        "Palestine/Gaza",
        "Palestine/West Bank",
        "Panama",
        "Papua New Guinea",
        "Paraguay",
        "Peru",
        "Philippines",
        "Poland",
        "Portugal",
        "Qatar",
        "Republic of Vietnam",
        "Republic of the Congo",
        "Romania",
        "Russia",
        "Rwanda",
        "Sao Tome and Principe",
        "Saudi Arabia",
        "Senegal",
        "Serbia",
        "Seychelles",
        "Sierra Leone",
        "Singapore",
        "Slovakia",
        "Slovenia",
        "Solomon Islands",
        "Somalia",
        "Somaliland",
        "South Africa",
        "South Korea",
        "South Sudan",
        "South Yemen",
        "Spain",
        "Sri Lanka",
        "Sudan",
        "Suriname",
        "Sweden",
        "Switzerland",
        "Syria",
        "Taiwan",
        "Tajikistan",
        "Tanzania",
        "Thailand",
        "The Gambia",
        "Timor-Leste",
        "Togo",
        "Trinidad and Tobago",
        "Tunisia",
        "Turkey",
        "Turkmenistan",
        "Uganda",
        "Ukraine",
        "United Arab Emirates",
        "United Kingdom",
        "United States of America",
        "Uruguay",
        "Uzbekistan",
        "Vanuatu",
        "Venezuela",
        "Vietnam",
        "Yemen",
        "Zambia",
        "Zanzibar",
        "Zimbabwe"
       ],
       "_view_count": null,
       "_view_module": "@jupyter-widgets/controls",
       "_view_module_version": "1.5.0",
       "_view_name": "DropdownView",
       "description": "country_name",
       "description_tooltip": null,
       "disabled": false,
       "index": 0,
       "layout": "IPY_MODEL_7e405b2969e94ca79badf7d7ac58f1b3",
       "style": "IPY_MODEL_b5463c58f3c440878d0c8a150957bd37"
      }
     },
     "133e69dc08e744a3ae490f2664cfeec7": {
      "model_module": "@jupyter-widgets/output",
      "model_module_version": "1.0.0",
      "model_name": "OutputModel",
      "state": {
       "_dom_classes": [],
       "_model_module": "@jupyter-widgets/output",
       "_model_module_version": "1.0.0",
       "_model_name": "OutputModel",
       "_view_count": null,
       "_view_module": "@jupyter-widgets/output",
       "_view_module_version": "1.0.0",
       "_view_name": "OutputView",
       "layout": "IPY_MODEL_645144f22f484b6cbfb6b93c0934ed78",
       "msg_id": "",
       "outputs": [
        {
         "data": {
          "image/png": "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",
          "text/plain": "<Figure size 600x600 with 1 Axes>"
         },
         "metadata": {},
         "output_type": "display_data"
        }
       ]
      }
     },
     "1ea6090abf9e43edad830b819067367b": {
      "model_module": "@jupyter-widgets/controls",
      "model_module_version": "1.5.0",
      "model_name": "DescriptionStyleModel",
      "state": {
       "_model_module": "@jupyter-widgets/controls",
       "_model_module_version": "1.5.0",
       "_model_name": "DescriptionStyleModel",
       "_view_count": null,
       "_view_module": "@jupyter-widgets/base",
       "_view_module_version": "1.2.0",
       "_view_name": "StyleView",
       "description_width": ""
      }
     },
     "39789309a1274ec2a79e21e09815e952": {
      "model_module": "@jupyter-widgets/base",
      "model_module_version": "1.2.0",
      "model_name": "LayoutModel",
      "state": {
       "_model_module": "@jupyter-widgets/base",
       "_model_module_version": "1.2.0",
       "_model_name": "LayoutModel",
       "_view_count": null,
       "_view_module": "@jupyter-widgets/base",
       "_view_module_version": "1.2.0",
       "_view_name": "LayoutView",
       "align_content": null,
       "align_items": null,
       "align_self": null,
       "border": null,
       "bottom": null,
       "display": null,
       "flex": null,
       "flex_flow": null,
       "grid_area": null,
       "grid_auto_columns": null,
       "grid_auto_flow": null,
       "grid_auto_rows": null,
       "grid_column": null,
       "grid_gap": null,
       "grid_row": null,
       "grid_template_areas": null,
       "grid_template_columns": null,
       "grid_template_rows": null,
       "height": null,
       "justify_content": null,
       "justify_items": null,
       "left": null,
       "margin": null,
       "max_height": null,
       "max_width": null,
       "min_height": null,
       "min_width": null,
       "object_fit": null,
       "object_position": null,
       "order": null,
       "overflow": null,
       "overflow_x": null,
       "overflow_y": null,
       "padding": null,
       "right": null,
       "top": null,
       "visibility": null,
       "width": null
      }
     },
     "47adeb85917943be9cfb11aec112541f": {
      "model_module": "@jupyter-widgets/controls",
      "model_module_version": "1.5.0",
      "model_name": "IntSliderModel",
      "state": {
       "_dom_classes": [],
       "_model_module": "@jupyter-widgets/controls",
       "_model_module_version": "1.5.0",
       "_model_name": "IntSliderModel",
       "_view_count": null,
       "_view_module": "@jupyter-widgets/controls",
       "_view_module_version": "1.5.0",
       "_view_name": "IntSliderView",
       "continuous_update": true,
       "description": "a",
       "description_tooltip": null,
       "disabled": false,
       "layout": "IPY_MODEL_ab0d6d319b6a4847a124d0cad66bbaa2",
       "max": 20,
       "min": 1,
       "orientation": "horizontal",
       "readout": true,
       "readout_format": "d",
       "step": 1,
       "style": "IPY_MODEL_577c67c6a7c84ca983fb47e731a3fe61",
       "value": 10
      }
     },
     "577c67c6a7c84ca983fb47e731a3fe61": {
      "model_module": "@jupyter-widgets/controls",
      "model_module_version": "1.5.0",
      "model_name": "SliderStyleModel",
      "state": {
       "_model_module": "@jupyter-widgets/controls",
       "_model_module_version": "1.5.0",
       "_model_name": "SliderStyleModel",
       "_view_count": null,
       "_view_module": "@jupyter-widgets/base",
       "_view_module_version": "1.2.0",
       "_view_name": "StyleView",
       "description_width": "",
       "handle_color": null
      }
     },
     "645144f22f484b6cbfb6b93c0934ed78": {
      "model_module": "@jupyter-widgets/base",
      "model_module_version": "1.2.0",
      "model_name": "LayoutModel",
      "state": {
       "_model_module": "@jupyter-widgets/base",
       "_model_module_version": "1.2.0",
       "_model_name": "LayoutModel",
       "_view_count": null,
       "_view_module": "@jupyter-widgets/base",
       "_view_module_version": "1.2.0",
       "_view_name": "LayoutView",
       "align_content": null,
       "align_items": null,
       "align_self": null,
       "border": null,
       "bottom": null,
       "display": null,
       "flex": null,
       "flex_flow": null,
       "grid_area": null,
       "grid_auto_columns": null,
       "grid_auto_flow": null,
       "grid_auto_rows": null,
       "grid_column": null,
       "grid_gap": null,
       "grid_row": null,
       "grid_template_areas": null,
       "grid_template_columns": null,
       "grid_template_rows": null,
       "height": null,
       "justify_content": null,
       "justify_items": null,
       "left": null,
       "margin": null,
       "max_height": null,
       "max_width": null,
       "min_height": null,
       "min_width": null,
       "object_fit": null,
       "object_position": null,
       "order": null,
       "overflow": null,
       "overflow_x": null,
       "overflow_y": null,
       "padding": null,
       "right": null,
       "top": null,
       "visibility": null,
       "width": null
      }
     },
     "695451720053426581bb4c851a0a2550": {
      "model_module": "@jupyter-widgets/base",
      "model_module_version": "1.2.0",
      "model_name": "LayoutModel",
      "state": {
       "_model_module": "@jupyter-widgets/base",
       "_model_module_version": "1.2.0",
       "_model_name": "LayoutModel",
       "_view_count": null,
       "_view_module": "@jupyter-widgets/base",
       "_view_module_version": "1.2.0",
       "_view_name": "LayoutView",
       "align_content": null,
       "align_items": null,
       "align_self": null,
       "border": null,
       "bottom": null,
       "display": null,
       "flex": null,
       "flex_flow": null,
       "grid_area": null,
       "grid_auto_columns": null,
       "grid_auto_flow": null,
       "grid_auto_rows": null,
       "grid_column": null,
       "grid_gap": null,
       "grid_row": null,
       "grid_template_areas": null,
       "grid_template_columns": null,
       "grid_template_rows": null,
       "height": null,
       "justify_content": null,
       "justify_items": null,
       "left": null,
       "margin": null,
       "max_height": null,
       "max_width": null,
       "min_height": null,
       "min_width": null,
       "object_fit": null,
       "object_position": null,
       "order": null,
       "overflow": null,
       "overflow_x": null,
       "overflow_y": null,
       "padding": null,
       "right": null,
       "top": null,
       "visibility": null,
       "width": null
      }
     },
     "6b75b76bc2e44311a831269a8b244b0a": {
      "model_module": "@jupyter-widgets/output",
      "model_module_version": "1.0.0",
      "model_name": "OutputModel",
      "state": {
       "_dom_classes": [],
       "_model_module": "@jupyter-widgets/output",
       "_model_module_version": "1.0.0",
       "_model_name": "OutputModel",
       "_view_count": null,
       "_view_module": "@jupyter-widgets/output",
       "_view_module_version": "1.0.0",
       "_view_name": "OutputView",
       "layout": "IPY_MODEL_39789309a1274ec2a79e21e09815e952",
       "msg_id": "",
       "outputs": [
        {
         "name": "stdout",
         "output_type": "stream",
         "text": "\n     Sum =  115\n\n"
        }
       ]
      }
     },
     "7e405b2969e94ca79badf7d7ac58f1b3": {
      "model_module": "@jupyter-widgets/base",
      "model_module_version": "1.2.0",
      "model_name": "LayoutModel",
      "state": {
       "_model_module": "@jupyter-widgets/base",
       "_model_module_version": "1.2.0",
       "_model_name": "LayoutModel",
       "_view_count": null,
       "_view_module": "@jupyter-widgets/base",
       "_view_module_version": "1.2.0",
       "_view_name": "LayoutView",
       "align_content": null,
       "align_items": null,
       "align_self": null,
       "border": null,
       "bottom": null,
       "display": null,
       "flex": null,
       "flex_flow": null,
       "grid_area": null,
       "grid_auto_columns": null,
       "grid_auto_flow": null,
       "grid_auto_rows": null,
       "grid_column": null,
       "grid_gap": null,
       "grid_row": null,
       "grid_template_areas": null,
       "grid_template_columns": null,
       "grid_template_rows": null,
       "height": null,
       "justify_content": null,
       "justify_items": null,
       "left": null,
       "margin": null,
       "max_height": null,
       "max_width": null,
       "min_height": null,
       "min_width": null,
       "object_fit": null,
       "object_position": null,
       "order": null,
       "overflow": null,
       "overflow_x": null,
       "overflow_y": null,
       "padding": null,
       "right": null,
       "top": null,
       "visibility": null,
       "width": null
      }
     },
     "ab0d6d319b6a4847a124d0cad66bbaa2": {
      "model_module": "@jupyter-widgets/base",
      "model_module_version": "1.2.0",
      "model_name": "LayoutModel",
      "state": {
       "_model_module": "@jupyter-widgets/base",
       "_model_module_version": "1.2.0",
       "_model_name": "LayoutModel",
       "_view_count": null,
       "_view_module": "@jupyter-widgets/base",
       "_view_module_version": "1.2.0",
       "_view_name": "LayoutView",
       "align_content": null,
       "align_items": null,
       "align_self": null,
       "border": null,
       "bottom": null,
       "display": null,
       "flex": null,
       "flex_flow": null,
       "grid_area": null,
       "grid_auto_columns": null,
       "grid_auto_flow": null,
       "grid_auto_rows": null,
       "grid_column": null,
       "grid_gap": null,
       "grid_row": null,
       "grid_template_areas": null,
       "grid_template_columns": null,
       "grid_template_rows": null,
       "height": null,
       "justify_content": null,
       "justify_items": null,
       "left": null,
       "margin": null,
       "max_height": null,
       "max_width": null,
       "min_height": null,
       "min_width": null,
       "object_fit": null,
       "object_position": null,
       "order": null,
       "overflow": null,
       "overflow_x": null,
       "overflow_y": null,
       "padding": null,
       "right": null,
       "top": null,
       "visibility": null,
       "width": null
      }
     },
     "b5463c58f3c440878d0c8a150957bd37": {
      "model_module": "@jupyter-widgets/controls",
      "model_module_version": "1.5.0",
      "model_name": "DescriptionStyleModel",
      "state": {
       "_model_module": "@jupyter-widgets/controls",
       "_model_module_version": "1.5.0",
       "_model_name": "DescriptionStyleModel",
       "_view_count": null,
       "_view_module": "@jupyter-widgets/base",
       "_view_module_version": "1.2.0",
       "_view_name": "StyleView",
       "description_width": ""
      }
     },
     "b79fbd02a3c54d238dcf946418b6d0e9": {
      "model_module": "@jupyter-widgets/controls",
      "model_module_version": "1.5.0",
      "model_name": "VBoxModel",
      "state": {
       "_dom_classes": [
        "widget-interact"
       ],
       "_model_module": "@jupyter-widgets/controls",
       "_model_module_version": "1.5.0",
       "_model_name": "VBoxModel",
       "_view_count": null,
       "_view_module": "@jupyter-widgets/controls",
       "_view_module_version": "1.5.0",
       "_view_name": "VBoxView",
       "box_style": "",
       "children": [
        "IPY_MODEL_47adeb85917943be9cfb11aec112541f",
        "IPY_MODEL_dc49083813a34bbd8762dbf60e5ab994",
        "IPY_MODEL_6b75b76bc2e44311a831269a8b244b0a"
       ],
       "layout": "IPY_MODEL_695451720053426581bb4c851a0a2550"
      }
     },
     "dc49083813a34bbd8762dbf60e5ab994": {
      "model_module": "@jupyter-widgets/controls",
      "model_module_version": "1.5.0",
      "model_name": "DropdownModel",
      "state": {
       "_dom_classes": [],
       "_model_module": "@jupyter-widgets/controls",
       "_model_module_version": "1.5.0",
       "_model_name": "DropdownModel",
       "_options_labels": [
        "5",
        "10"
       ],
       "_view_count": null,
       "_view_module": "@jupyter-widgets/controls",
       "_view_module_version": "1.5.0",
       "_view_name": "DropdownView",
       "description": "b",
       "description_tooltip": null,
       "disabled": false,
       "index": 0,
       "layout": "IPY_MODEL_f7eb22ae32d644beb2b0dff49801d53a",
       "style": "IPY_MODEL_1ea6090abf9e43edad830b819067367b"
      }
     },
     "f7eb22ae32d644beb2b0dff49801d53a": {
      "model_module": "@jupyter-widgets/base",
      "model_module_version": "1.2.0",
      "model_name": "LayoutModel",
      "state": {
       "_model_module": "@jupyter-widgets/base",
       "_model_module_version": "1.2.0",
       "_model_name": "LayoutModel",
       "_view_count": null,
       "_view_module": "@jupyter-widgets/base",
       "_view_module_version": "1.2.0",
       "_view_name": "LayoutView",
       "align_content": null,
       "align_items": null,
       "align_self": null,
       "border": null,
       "bottom": null,
       "display": null,
       "flex": null,
       "flex_flow": null,
       "grid_area": null,
       "grid_auto_columns": null,
       "grid_auto_flow": null,
       "grid_auto_rows": null,
       "grid_column": null,
       "grid_gap": null,
       "grid_row": null,
       "grid_template_areas": null,
       "grid_template_columns": null,
       "grid_template_rows": null,
       "height": null,
       "justify_content": null,
       "justify_items": null,
       "left": null,
       "margin": null,
       "max_height": null,
       "max_width": null,
       "min_height": null,
       "min_width": null,
       "object_fit": null,
       "object_position": null,
       "order": null,
       "overflow": null,
       "overflow_x": null,
       "overflow_y": null,
       "padding": null,
       "right": null,
       "top": null,
       "visibility": null,
       "width": null
      }
     }
    },
    "version_major": 2,
    "version_minor": 0
   }
  }
 },
 "nbformat": 4,
 "nbformat_minor": 5
}
