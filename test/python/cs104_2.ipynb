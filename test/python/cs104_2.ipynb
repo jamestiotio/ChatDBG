{
 "cells": [
  {
   "cell_type": "code",
   "execution_count": null,
   "id": "637bdd5a-8e45-4f1d-8ad6-6e4d75e60d66",
   "metadata": {},
   "outputs": [],
   "source": [
    "from datascience import *\n",
    "from cs104 import *"
   ]
  },
  {
   "cell_type": "code",
   "execution_count": null,
   "id": "96779ff4-f3b3-46c4-860a-2a1369fb02d5",
   "metadata": {},
   "outputs": [],
   "source": [
    "red_blue_proportions = make_array(0.3, 0.7)"
   ]
  },
  {
   "cell_type": "code",
   "execution_count": null,
   "id": "71c2c19a-0720-467f-a02d-21d7f2f95575",
   "metadata": {},
   "outputs": [],
   "source": [
    "def make_marble_bag(size):\n",
    "    return size * sample_proportions(size, red_blue_proportions)"
   ]
  },
  {
   "cell_type": "code",
   "execution_count": null,
   "id": "9de88249-bccc-4e2d-8285-11d78df51b22",
   "metadata": {},
   "outputs": [],
   "source": [
    "observed_marbles = make_marble_bag(10)"
   ]
  },
  {
   "cell_type": "code",
   "execution_count": null,
   "id": "9d32c671-eea6-4da1-a028-02ef01b51dbf",
   "metadata": {},
   "outputs": [],
   "source": [
    "def percent_blue(sample):\n",
    "    return sample "
   ]
  },
  {
   "cell_type": "code",
   "execution_count": null,
   "id": "15b83f23-668f-4a21-8de9-c060723694a4",
   "metadata": {},
   "outputs": [],
   "source": [
    "num_trials = 5 #start with just a few resamples\n",
    "    \n",
    "stats = bootstrap_statistic(observed_marbles,\n",
    "                            percent_blue,\n",
    "                            num_trials)\n",
    "\n",
    "assert len(stats) == 5"
   ]
  },
  {
   "cell_type": "code",
   "execution_count": null,
   "id": "75633c45-00e4-4be8-bc29-87dd9b8cc378",
   "metadata": {},
   "outputs": [],
   "source": []
  }
 ],
 "metadata": {
  "kernelspec": {
   "display_name": "Python 3 (ipykernel)",
   "language": "python",
   "name": "python3"
  },
  "language_info": {
   "codemirror_mode": {
    "name": "ipython",
    "version": 3
   },
   "file_extension": ".py",
   "mimetype": "text/x-python",
   "name": "python",
   "nbconvert_exporter": "python",
   "pygments_lexer": "ipython3",
   "version": "3.11.7"
  }
 },
 "nbformat": 4,
 "nbformat_minor": 5
}
