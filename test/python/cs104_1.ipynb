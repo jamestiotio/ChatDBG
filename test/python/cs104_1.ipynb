{
 "cells": [
  {
   "cell_type": "code",
   "execution_count": 1,
   "id": "637bdd5a-8e45-4f1d-8ad6-6e4d75e60d66",
   "metadata": {},
   "outputs": [
    {
     "name": "stdout",
     "output_type": "stream",
     "text": [
      "Automatic pdb calling has been turned ON\n"
     ]
    }
   ],
   "source": [
    "from datascience import *\n",
    "from cs104 import *\n",
    "from ipyflow import *\n",
    "\n",
    "%pdb\n",
    "get_ipython().config.Chat.model = 'gpt-3.5-1106-preview'\n",
    "# get_ipython().config.Chat.show_locals = False"
   ]
  },
  {
   "cell_type": "code",
   "execution_count": 2,
   "id": "66b2ebbf-584a-4c5f-885d-f2ad667cadd1",
   "metadata": {},
   "outputs": [],
   "source": [
    "red_blue_proportions = make_array(0.3, 0.7)"
   ]
  },
  {
   "cell_type": "code",
   "execution_count": 3,
   "id": "802a3ab2-599d-49dd-a5b4-3139d5e34269",
   "metadata": {},
   "outputs": [],
   "source": [
    "def make_marble_bag(size):\n",
    "    return size * sample_proportions(red_blue_proportions, size)"
   ]
  },
  {
   "cell_type": "code",
   "execution_count": null,
   "id": "b46dc5a5-c376-40b3-a98d-da0ea012c80a",
   "metadata": {},
   "outputs": [
    {
     "ename": "TypeError",
     "evalue": "only length-1 arrays can be converted to Python scalars",
     "output_type": "error",
     "traceback": [
      "\u001b[0;31m---------------------------------------------------------------------------\u001b[0m",
      "\u001b[0;31mTypeError\u001b[0m                                 Traceback (most recent call last)",
      "Cell \u001b[0;32mIn[4], line 1\u001b[0m\n\u001b[0;32m----> 1\u001b[0m \u001b[43mmake_marble_bag\u001b[49m\u001b[43m(\u001b[49m\u001b[38;5;241;43m10\u001b[39;49m\u001b[43m)\u001b[49m\n",
      "Cell \u001b[0;32mIn[3], line 2\u001b[0m, in \u001b[0;36mmake_marble_bag\u001b[0;34m(size)\u001b[0m\n\u001b[1;32m      1\u001b[0m \u001b[38;5;28;01mdef\u001b[39;00m \u001b[38;5;21mmake_marble_bag\u001b[39m(size):\n\u001b[0;32m----> 2\u001b[0m     \u001b[38;5;28;01mreturn\u001b[39;00m size \u001b[38;5;241m*\u001b[39m \u001b[43msample_proportions\u001b[49m\u001b[43m(\u001b[49m\u001b[43mred_blue_proportions\u001b[49m\u001b[43m,\u001b[49m\u001b[43m \u001b[49m\u001b[43msize\u001b[49m\u001b[43m)\u001b[49m\n",
      "File \u001b[0;32m~/miniconda3/envs/chatdbg/lib/python3.11/site-packages/datascience/util.py:135\u001b[0m, in \u001b[0;36msample_proportions\u001b[0;34m(sample_size, probabilities)\u001b[0m\n\u001b[1;32m    121\u001b[0m \u001b[38;5;28;01mdef\u001b[39;00m \u001b[38;5;21msample_proportions\u001b[39m(sample_size, probabilities):\n\u001b[1;32m    122\u001b[0m \u001b[38;5;250m    \u001b[39m\u001b[38;5;124;03m\"\"\"Return the proportion of random draws for each outcome in a distribution.\u001b[39;00m\n\u001b[1;32m    123\u001b[0m \n\u001b[1;32m    124\u001b[0m \u001b[38;5;124;03m    This function is similar to np.random.multinomial, but returns proportions\u001b[39;00m\n\u001b[0;32m   (...)\u001b[0m\n\u001b[1;32m    133\u001b[0m \u001b[38;5;124;03m        An array with the same length as ``probability`` that sums to 1.\u001b[39;00m\n\u001b[1;32m    134\u001b[0m \u001b[38;5;124;03m    \"\"\"\u001b[39;00m\n\u001b[0;32m--> 135\u001b[0m     \u001b[38;5;28;01mreturn\u001b[39;00m \u001b[43mnp\u001b[49m\u001b[38;5;241;43m.\u001b[39;49m\u001b[43mrandom\u001b[49m\u001b[38;5;241;43m.\u001b[39;49m\u001b[43mmultinomial\u001b[49m\u001b[43m(\u001b[49m\u001b[43msample_size\u001b[49m\u001b[43m,\u001b[49m\u001b[43m \u001b[49m\u001b[43mprobabilities\u001b[49m\u001b[43m)\u001b[49m \u001b[38;5;241m/\u001b[39m sample_size\n",
      "File \u001b[0;32mnumpy/random/mtrand.pyx:4257\u001b[0m, in \u001b[0;36mnumpy.random.mtrand.RandomState.multinomial\u001b[0;34m()\u001b[0m\n",
      "\u001b[0;31mTypeError\u001b[0m: only length-1 arrays can be converted to Python scalars"
     ]
    },
    {
     "name": "stdout",
     "output_type": "stream",
     "text": [
      "> \u001b[0;32m/var/folders/hg/75dgl5gs1bj7vl_fv36njtvw000_1x/T/ipykernel_38768/2011091782.py\u001b[0m(2)\u001b[0;36mmake_marble_bag\u001b[0;34m()\u001b[0m\n",
      "\u001b[0;32m      1 \u001b[0;31m\u001b[0;32mdef\u001b[0m \u001b[0mmake_marble_bag\u001b[0m\u001b[0;34m(\u001b[0m\u001b[0msize\u001b[0m\u001b[0;34m)\u001b[0m\u001b[0;34m:\u001b[0m\u001b[0;34m\u001b[0m\u001b[0;34m\u001b[0m\u001b[0m\n",
      "\u001b[0m\u001b[0;32m----> 2 \u001b[0;31m    \u001b[0;32mreturn\u001b[0m \u001b[0msize\u001b[0m \u001b[0;34m*\u001b[0m \u001b[0msample_proportions\u001b[0m\u001b[0;34m(\u001b[0m\u001b[0mred_blue_proportions\u001b[0m\u001b[0;34m,\u001b[0m \u001b[0msize\u001b[0m\u001b[0;34m)\u001b[0m\u001b[0;34m\u001b[0m\u001b[0;34m\u001b[0m\u001b[0m\n",
      "\u001b[0m\n"
     ]
    }
   ],
   "source": [
    "make_marble_bag(10)"
   ]
  },
  {
   "cell_type": "code",
   "execution_count": null,
   "id": "11a5ccf7-17d6-4600-ad3b-4369d00eac1a",
   "metadata": {},
   "outputs": [],
   "source": [
    "get_ipython().config.Chat.model = 'gpt-3.5-1106-preview'"
   ]
  },
  {
   "cell_type": "code",
   "execution_count": null,
   "id": "45d9fcde-3d09-4bd0-a1ac-f8470fc81250",
   "metadata": {},
   "outputs": [],
   "source": [
    "get_ipython().config.Chat"
   ]
  },
  {
   "cell_type": "code",
   "execution_count": null,
   "id": "679500c8-471d-4dd8-aad4-09f1942805fb",
   "metadata": {},
   "outputs": [],
   "source": [
    "get_ipython()"
   ]
  },
  {
   "cell_type": "code",
   "execution_count": null,
   "id": "a0ef25d9-d30c-4577-8285-c21fdd1fac2d",
   "metadata": {},
   "outputs": [],
   "source": [
    "import sys\n",
    "sys.argv"
   ]
  },
  {
   "cell_type": "code",
   "execution_count": null,
   "id": "44d121b5-07d7-4b90-8fa5-bd0ad7ee2623",
   "metadata": {},
   "outputs": [],
   "source": []
  }
 ],
 "metadata": {
  "ipyflow": {
   "cell_children": {
    "11a5ccf7-17d6-4600-ad3b-4369d00eac1a": [],
    "44d121b5-07d7-4b90-8fa5-bd0ad7ee2623": [],
    "45d9fcde-3d09-4bd0-a1ac-f8470fc81250": [],
    "637bdd5a-8e45-4f1d-8ad6-6e4d75e60d66": [],
    "66b2ebbf-584a-4c5f-885d-f2ad667cadd1": [
     "b46dc5a5-c376-40b3-a98d-da0ea012c80a"
    ],
    "679500c8-471d-4dd8-aad4-09f1942805fb": [],
    "802a3ab2-599d-49dd-a5b4-3139d5e34269": [
     "b46dc5a5-c376-40b3-a98d-da0ea012c80a"
    ],
    "a0ef25d9-d30c-4577-8285-c21fdd1fac2d": [],
    "b46dc5a5-c376-40b3-a98d-da0ea012c80a": [],
    "c13a73c3-68cb-4172-8f9d-0b0387b0c927": [
     "f7c07ae1-735d-4093-bd3e-7efa9291f2d2"
    ],
    "f7c07ae1-735d-4093-bd3e-7efa9291f2d2": []
   },
   "cell_parents": {
    "11a5ccf7-17d6-4600-ad3b-4369d00eac1a": [],
    "44d121b5-07d7-4b90-8fa5-bd0ad7ee2623": [],
    "45d9fcde-3d09-4bd0-a1ac-f8470fc81250": [],
    "637bdd5a-8e45-4f1d-8ad6-6e4d75e60d66": [],
    "66b2ebbf-584a-4c5f-885d-f2ad667cadd1": [],
    "679500c8-471d-4dd8-aad4-09f1942805fb": [],
    "802a3ab2-599d-49dd-a5b4-3139d5e34269": [],
    "a0ef25d9-d30c-4577-8285-c21fdd1fac2d": [],
    "b46dc5a5-c376-40b3-a98d-da0ea012c80a": [
     "66b2ebbf-584a-4c5f-885d-f2ad667cadd1",
     "802a3ab2-599d-49dd-a5b4-3139d5e34269"
    ],
    "c13a73c3-68cb-4172-8f9d-0b0387b0c927": [],
    "f7c07ae1-735d-4093-bd3e-7efa9291f2d2": [
     "c13a73c3-68cb-4172-8f9d-0b0387b0c927"
    ]
   }
  },
  "kernelspec": {
   "display_name": "Python 3 (ipyflow)",
   "language": "python",
   "name": "ipyflow"
  },
  "language_info": {
   "codemirror_mode": {
    "name": "ipython",
    "version": 3
   },
   "file_extension": ".py",
   "mimetype": "text/x-python",
   "name": "python",
   "nbconvert_exporter": "python",
   "pygments_lexer": "ipython3",
   "version": "3.11.7"
  }
 },
 "nbformat": 4,
 "nbformat_minor": 5
}
